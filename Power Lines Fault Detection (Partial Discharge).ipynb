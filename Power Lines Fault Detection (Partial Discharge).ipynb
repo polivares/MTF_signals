{
 "cells": [
  {
   "cell_type": "code",
   "execution_count": null,
   "id": "892d52bf",
   "metadata": {},
   "outputs": [],
   "source": [
    "import numpy as np\n",
    "import matplotlib.pyplot as plt\n",
    "import matplotlib.animation as animation \n",
    "from pyts.image import MarkovTransitionField\n",
    "import dask.dataframe as dd  \n",
    "import pandas as pd\n",
    "\n",
    "import warnings\n",
    "warnings.filterwarnings('ignore')"
   ]
  },
  {
   "cell_type": "code",
   "execution_count": null,
   "id": "165f63d9",
   "metadata": {},
   "outputs": [],
   "source": [
    "ddf = dd.read_parquet(\"dataset/train.parquet\", engine=\"pyarrow\")\n",
    "df_metadata = pd.read_csv('dataset/metadata_train.csv')"
   ]
  },
  {
   "cell_type": "code",
   "execution_count": null,
   "id": "508d766b",
   "metadata": {},
   "outputs": [],
   "source": [
    "np.random.seed(42)\n",
    "# Index 1\n",
    "\n",
    "index_1 = np.where(df_metadata[['target']].T.to_numpy()[0]==1)[0]\n",
    "len_index_1 = len(index_1)\n",
    "index_train_1, index_test_1 = index_1[:len_index_1//2], index_1[len_index_1//2:]\n",
    "\n",
    "\n",
    "# Index 0\n",
    "\n",
    "index_0 = np.where(df_metadata[['target']].T.to_numpy()[0]==0)[0]\n",
    "index_train_0, index_test_0 = index_0[:len_index_1//2], index_0[len_index_1//2:]\n",
    "\n",
    "\n",
    "index_train = np.concatenate([index_train_0, index_train_1])\n",
    "np.random.shuffle(index_train)\n",
    "\n",
    "index_test = np.concatenate([index_test_0, index_test_1])\n",
    "np.random.shuffle(index_test)\n",
    "\n",
    "print(index_train)"
   ]
  },
  {
   "cell_type": "code",
   "execution_count": null,
   "id": "9fd4f283",
   "metadata": {},
   "outputs": [],
   "source": [
    "\n",
    "for col in tqdm(index_train):\n",
    "    images = []\n",
    "    signal = ddf[[str(col)]].compute()\n",
    "\n",
    "    n_itemsxchunk = 1000\n",
    "    n_chunks = int(len(signal)/n_itemsxchunk)\n",
    "\n",
    "    for i in range(n_chunks):\n",
    "        signal_chunk = signal[i*n_itemsxchunk:(i+1)*n_itemsxchunk-1].T\n",
    "        transformer = MarkovTransitionField(30)\n",
    "        img = transformer.fit_transform(signal_chunk)[0]\n",
    "        images.append(img)\n",
    "        \n",
    "    videos.append(images)"
   ]
  },
  {
   "cell_type": "code",
   "execution_count": null,
   "id": "79c4e373",
   "metadata": {
    "scrolled": false
   },
   "outputs": [],
   "source": [
    "%matplotlib notebook\n",
    "n_signal = 0\n",
    "fig = plt.figure() # make figure\n",
    "im = plt.imshow(videos[n_signal][0], cmap='gray')\n",
    "\n",
    "# function to update figure\n",
    "def updatefig(j):\n",
    "    # set the data in the axesimage object\n",
    "    im.set_array(videos[n_signal][j])\n",
    "    fig.suptitle(str(j))\n",
    "    # return the artists set\n",
    "    return [im]\n",
    "# kick off the animation\n",
    "ani = animation.FuncAnimation(fig, updatefig, frames=range(n_chunks), \n",
    "                              interval=10, blit=True)\n",
    "plt.show()"
   ]
  },
  {
   "cell_type": "code",
   "execution_count": null,
   "id": "db8f5669",
   "metadata": {},
   "outputs": [],
   "source": [
    "labels = df_metadata[[\"target\"]].loc[index_train]\n",
    "print(labels)"
   ]
  },
  {
   "cell_type": "code",
   "execution_count": null,
   "id": "12059a35",
   "metadata": {},
   "outputs": [],
   "source": [
    "videos = np.array(videos)\n",
    "videos = videos.reshape(len(index_train),30,30,800)"
   ]
  },
  {
   "cell_type": "code",
   "execution_count": null,
   "id": "e60e7328",
   "metadata": {},
   "outputs": [],
   "source": [
    "videos.shape"
   ]
  },
  {
   "cell_type": "code",
   "execution_count": null,
   "id": "c6d23780",
   "metadata": {},
   "outputs": [],
   "source": [
    "from sklearn.model_selection import train_test_split\n",
    "\n",
    "X_train, X_val, y_train, y_val = train_test_split(videos, labels, test_size=0.3, random_state=42, stratify=labels)"
   ]
  },
  {
   "cell_type": "code",
   "execution_count": null,
   "id": "4b91604a",
   "metadata": {},
   "outputs": [],
   "source": [
    "import tensorflow as tf\n",
    "from tensorflow.keras import datasets, layers, models\n",
    "import matplotlib.pyplot as plt\n"
   ]
  },
  {
   "cell_type": "code",
   "execution_count": null,
   "id": "009bedd9",
   "metadata": {},
   "outputs": [],
   "source": [
    "# Creación de modelo\n",
    "model = models.Sequential()\n",
    "# Capas encargadas de obtener información de la imagen\n",
    "model.add(layers.Conv2D(256, (3, 3), activation='relu', input_shape=(30,30,800)))\n",
    "model.add(layers.MaxPooling2D((2, 2)))\n",
    "model.add(layers.Conv2D(128, (3, 3), activation='relu'))\n",
    "model.add(layers.MaxPooling2D((2, 2)))\n",
    "model.add(layers.Conv2D(64, (3, 3), activation='relu'))\n",
    "# Capas para la clasificación en base a la información obtenida en \n",
    "# capas anteriores\n",
    "model.add(layers.Flatten())\n",
    "model.add(layers.Dense(64, activation='relu'))\n",
    "model.add(layers.Dense(1, activation = 'sigmoid'))\n",
    "model.summary()"
   ]
  },
  {
   "cell_type": "code",
   "execution_count": null,
   "id": "3f39438d",
   "metadata": {},
   "outputs": [],
   "source": [
    "model.compile(loss = 'bce', optimizer = 'adam', metrics=['accuracy'])\n",
    "history_cnn = model.fit(X_train, y_train, epochs=100, \n",
    "                    validation_data=(X_val, y_val))"
   ]
  },
  {
   "cell_type": "code",
   "execution_count": null,
   "id": "0be36fdb",
   "metadata": {},
   "outputs": [],
   "source": [
    "plt.plot(history_cnn.history['accuracy'], label='accuracy')\n",
    "plt.plot(history_cnn.history['val_accuracy'], label = 'val_accuracy')\n",
    "plt.xlabel('Epoch')\n",
    "plt.ylabel('Accuracy')\n",
    "plt.ylim([0.5, 1])\n",
    "plt.legend(loc='lower right')\n",
    "plt.show()\n",
    "\n"
   ]
  },
  {
   "cell_type": "code",
   "execution_count": null,
   "id": "d55fde08",
   "metadata": {},
   "outputs": [],
   "source": [
    "plt.plot(history_cnn.history['loss'], label='loss')\n",
    "plt.plot(history_cnn.history['val_loss'], label = 'val_loss')\n",
    "plt.xlabel('Epoch')\n",
    "plt.ylabel('Loss')\n",
    "# plt.ylim([0.5, 1])\n",
    "plt.legend(loc='lower right')\n",
    "plt.show()"
   ]
  },
  {
   "cell_type": "code",
   "execution_count": null,
   "id": "a524946d",
   "metadata": {},
   "outputs": [],
   "source": [
    "test_loss, test_acc = model.evaluate(X_val,  y_val, verbose=2)"
   ]
  },
  {
   "cell_type": "code",
   "execution_count": null,
   "id": "994f37cd",
   "metadata": {},
   "outputs": [],
   "source": [
    "predictions = (model.predict(X_val)>0.5).reshape(1,-1)[0].astype(int)\n",
    "real_values = y_val.T.to_numpy()[0]\n",
    "\n",
    "print(predictions)\n",
    "print(real_values)"
   ]
  },
  {
   "cell_type": "code",
   "execution_count": null,
   "id": "3d9f7794",
   "metadata": {},
   "outputs": [],
   "source": [
    "# Test\n",
    "df_metadata[[\"target\"]].loc[5*n_signals:6*n_signals-1].sum()"
   ]
  },
  {
   "cell_type": "code",
   "execution_count": null,
   "id": "0c3e879b",
   "metadata": {},
   "outputs": [],
   "source": [
    "videos_test = []\n",
    "\n",
    "n_signals = 100 \n",
    "\n",
    "for col in tqdm(ddf.columns[5*n_signals:6*n_signals]):\n",
    "    images = []\n",
    "    signal = ddf[[col]].compute()\n",
    "\n",
    "    n_itemsxchunk = 1000\n",
    "    n_chunks = int(len(signal)/n_itemsxchunk)\n",
    "\n",
    "    for i in range(n_chunks):\n",
    "        signal_chunk = signal[i*n_itemsxchunk:(i+1)*n_itemsxchunk-1].T\n",
    "        transformer = MarkovTransitionField(30)\n",
    "        img = transformer.fit_transform(signal_chunk)[0]\n",
    "        images.append(img)\n",
    "        \n",
    "    videos_test.append(images)\n",
    "    \n",
    "videos_test = np.array(videos_test)\n",
    "videos_test = videos_test.reshape(n_signals,30,30,800)\n",
    "\n",
    "labels_test = df_metadata[[\"target\"]].loc[5*n_signals:6*n_signals-1]"
   ]
  },
  {
   "cell_type": "code",
   "execution_count": null,
   "id": "7fd75086",
   "metadata": {},
   "outputs": [],
   "source": [
    "print(videos_test.shape)\n",
    "print(labels_test.shape)"
   ]
  },
  {
   "cell_type": "code",
   "execution_count": null,
   "id": "a77264ca",
   "metadata": {},
   "outputs": [],
   "source": [
    "X_test = videos_test\n",
    "y_test = labels_test"
   ]
  },
  {
   "cell_type": "code",
   "execution_count": null,
   "id": "8b4394cf",
   "metadata": {},
   "outputs": [],
   "source": [
    "test_loss, test_acc = model.evaluate(X_test,  y_test, verbose=2)"
   ]
  },
  {
   "cell_type": "code",
   "execution_count": null,
   "id": "5f74c537",
   "metadata": {},
   "outputs": [],
   "source": [
    "predictions = (model.predict(X_test)>0.5).reshape(1,-1)[0].astype(int)\n",
    "real_values = y_test.T.to_numpy()[0]\n",
    "\n",
    "print(predictions)\n",
    "print(real_values)"
   ]
  },
  {
   "cell_type": "code",
   "execution_count": null,
   "id": "b1f3ca53",
   "metadata": {},
   "outputs": [],
   "source": [
    "# Index 1\n",
    "\n",
    "index_1= np.where(df_metadata[['target']].T.to_numpy()[0]==1)[0]\n",
    "len_index_1 = len(index_1)\n",
    "index_train_1, index_test_1 = index_1[:len_index_1//2], index_1[len_index_1//2:]\n",
    "\n",
    "\n",
    "# Index 0\n",
    "\n",
    "index_0 = np.where(df_metadata[['target']].T.to_numpy()[0]==0)[0]\n",
    "index_train_0, index_test_0 = index_0[:len_index_1//2], index_0[len_index_1//2:]\n",
    "print(index_train_1[:20], index_train_0[:20])"
   ]
  },
  {
   "cell_type": "code",
   "execution_count": null,
   "id": "3493cd5a",
   "metadata": {},
   "outputs": [],
   "source": [
    "df_metadata[['target']].head(n=20)"
   ]
  }
 ],
 "metadata": {
  "kernelspec": {
   "display_name": "Python 3 (ipykernel)",
   "language": "python",
   "name": "python3"
  },
  "language_info": {
   "codemirror_mode": {
    "name": "ipython",
    "version": 3
   },
   "file_extension": ".py",
   "mimetype": "text/x-python",
   "name": "python",
   "nbconvert_exporter": "python",
   "pygments_lexer": "ipython3",
   "version": "3.10.4"
  }
 },
 "nbformat": 4,
 "nbformat_minor": 5
}
