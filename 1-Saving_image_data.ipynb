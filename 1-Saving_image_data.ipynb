{
 "cells": [
  {
   "cell_type": "code",
   "execution_count": 1,
   "id": "1478d145",
   "metadata": {},
   "outputs": [],
   "source": [
    "import dask.dataframe as dd  \n",
    "import pandas as pd"
   ]
  },
  {
   "cell_type": "code",
   "execution_count": 2,
   "id": "e167c354",
   "metadata": {},
   "outputs": [],
   "source": [
    "# orig_path = '/home/polivares/scratch/Datasets/PowerLineFaults/dataset_orig/'\n",
    "orig_path = '/home/polivares/Dropbox/Work/PostDoc/PowerLineFaults/dataset_orig/'\n",
    "ddf = dd.read_parquet(orig_path + \"train.parquet\", engine=\"pyarrow\")\n",
    "df_metadata = pd.read_csv(orig_path + 'metadata_train.csv')"
   ]
  },
  {
   "cell_type": "code",
   "execution_count": 3,
   "id": "2155581f",
   "metadata": {},
   "outputs": [
    {
     "name": "stderr",
     "output_type": "stream",
     "text": [
      "2022-10-19 00:14:05.266348: I tensorflow/core/platform/cpu_feature_guard.cc:193] This TensorFlow binary is optimized with oneAPI Deep Neural Network Library (oneDNN) to use the following CPU instructions in performance-critical operations:  AVX2 AVX512F AVX512_VNNI FMA\n",
      "To enable them in other operations, rebuild TensorFlow with the appropriate compiler flags.\n",
      "2022-10-19 00:14:05.479164: I tensorflow/core/util/util.cc:169] oneDNN custom operations are on. You may see slightly different numerical results due to floating-point round-off errors from different computation orders. To turn them off, set the environment variable `TF_ENABLE_ONEDNN_OPTS=0`.\n",
      "2022-10-19 00:14:05.523248: E tensorflow/stream_executor/cuda/cuda_blas.cc:2981] Unable to register cuBLAS factory: Attempting to register factory for plugin cuBLAS when one has already been registered\n",
      "2022-10-19 00:14:06.170298: W tensorflow/stream_executor/platform/default/dso_loader.cc:64] Could not load dynamic library 'libnvinfer.so.7'; dlerror: libnvinfer.so.7: cannot open shared object file: No such file or directory; LD_LIBRARY_PATH: /home/polivares/anaconda3/envs/partial_discharge/lib/python3.10/site-packages/cv2/../../lib64:/usr/lib/cuda/include:/usr/lib/cuda/lib64:\n",
      "2022-10-19 00:14:06.170446: W tensorflow/stream_executor/platform/default/dso_loader.cc:64] Could not load dynamic library 'libnvinfer_plugin.so.7'; dlerror: libnvinfer_plugin.so.7: cannot open shared object file: No such file or directory; LD_LIBRARY_PATH: /home/polivares/anaconda3/envs/partial_discharge/lib/python3.10/site-packages/cv2/../../lib64:/usr/lib/cuda/include:/usr/lib/cuda/lib64:\n",
      "2022-10-19 00:14:06.170452: W tensorflow/compiler/tf2tensorrt/utils/py_utils.cc:38] TF-TRT Warning: Cannot dlopen some TensorRT libraries. If you would like to use Nvidia GPU with TensorRT, please make sure the missing libraries mentioned above are installed properly.\n",
      "100%|█████████████████████████████████████████████████████████████████████████████████████████████████████████████████| 8712/8712 [15:41<00:00,  9.25it/s]\n"
     ]
    }
   ],
   "source": [
    "import spectrograms, models\n",
    "import warnings\n",
    "warnings.filterwarnings('ignore')\n",
    "\n",
    "spectrogram = 'mfcc'\n",
    "fs = 8e5/20e-3\n",
    "\n",
    "images_spectrogram = spectrograms.signals2images(ddf, fs, spectrogram=spectrogram)"
   ]
  },
  {
   "cell_type": "code",
   "execution_count": 4,
   "id": "bcb900ca",
   "metadata": {},
   "outputs": [],
   "source": [
    "# root_dir = '/home/polivares/scratch/Datasets/PowerLineFaults/'\n",
    "root_dir = '/home/polivares/Dropbox/Work/PostDoc/PowerLineFaults/'\n",
    "labels = df_metadata[[\"target\"]]\n",
    "spectrograms.saveImages(images_spectrogram, labels, root_dir=root_dir, spectrogram=spectrogram, saveViz=True)"
   ]
  },
  {
   "cell_type": "code",
   "execution_count": 5,
   "id": "b4b5cb4f",
   "metadata": {},
   "outputs": [],
   "source": [
    "from sklearn.model_selection import train_test_split\n",
    "\n",
    "X_data, X_test, y_data, y_test = train_test_split(images_spectrogram, labels, test_size=0.3, random_state=42, stratify=labels)\n",
    "X_train, X_val, y_train, y_val = train_test_split(X_data, y_data, test_size=0.2, random_state=42, stratify=y_data)\n",
    "\n",
    "\n",
    "spectrograms.saveImages(X_train, y_train, root_dir=root_dir, image_type='train', spectrogram=spectrogram, saveViz=True)\n",
    "spectrograms.saveImages(X_test, y_test, root_dir=root_dir, image_type='test', spectrogram=spectrogram, saveViz=True)\n",
    "spectrograms.saveImages(X_val, y_val, root_dir=root_dir, image_type='val', spectrogram=spectrogram, saveViz=True)"
   ]
  }
 ],
 "metadata": {
  "kernelspec": {
   "display_name": "Python 3 (ipykernel)",
   "language": "python",
   "name": "python3"
  },
  "language_info": {
   "codemirror_mode": {
    "name": "ipython",
    "version": 3
   },
   "file_extension": ".py",
   "mimetype": "text/x-python",
   "name": "python",
   "nbconvert_exporter": "python",
   "pygments_lexer": "ipython3",
   "version": "3.10.4"
  }
 },
 "nbformat": 4,
 "nbformat_minor": 5
}
