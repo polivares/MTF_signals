{
 "cells": [
  {
   "cell_type": "markdown",
   "id": "6459a6b8",
   "metadata": {},
   "source": [
    "# Loading data"
   ]
  },
  {
   "cell_type": "code",
   "execution_count": 1,
   "id": "9f305545",
   "metadata": {},
   "outputs": [],
   "source": [
    "import numpy as np\n",
    "import matplotlib.pyplot as plt\n",
    "import matplotlib.animation as animation \n",
    "from pyts.image import MarkovTransitionField\n",
    "import dask.dataframe as dd  \n",
    "import pandas as pd\n",
    "\n",
    "\n",
    "from scipy import signal as sign\n",
    "from PIL import Image\n",
    "from sklearn.preprocessing import MinMaxScaler\n",
    "\n",
    "from sklearn.metrics import matthews_corrcoef\n",
    "\n",
    "import warnings\n",
    "warnings.filterwarnings('ignore')"
   ]
  },
  {
   "cell_type": "code",
   "execution_count": 2,
   "id": "a867ba97",
   "metadata": {},
   "outputs": [
    {
     "name": "stderr",
     "output_type": "stream",
     "text": [
      "2022-10-07 15:52:17.267075: I tensorflow/core/platform/cpu_feature_guard.cc:193] This TensorFlow binary is optimized with oneAPI Deep Neural Network Library (oneDNN) to use the following CPU instructions in performance-critical operations:  AVX2 FMA\n",
      "To enable them in other operations, rebuild TensorFlow with the appropriate compiler flags.\n",
      "2022-10-07 15:52:17.454097: E tensorflow/stream_executor/cuda/cuda_blas.cc:2981] Unable to register cuBLAS factory: Attempting to register factory for plugin cuBLAS when one has already been registered\n",
      "2022-10-07 15:52:18.243176: W tensorflow/stream_executor/platform/default/dso_loader.cc:64] Could not load dynamic library 'libnvinfer.so.7'; dlerror: libnvinfer.so.7: cannot open shared object file: No such file or directory\n",
      "2022-10-07 15:52:18.243272: W tensorflow/stream_executor/platform/default/dso_loader.cc:64] Could not load dynamic library 'libnvinfer_plugin.so.7'; dlerror: libnvinfer_plugin.so.7: cannot open shared object file: No such file or directory\n",
      "2022-10-07 15:52:18.243282: W tensorflow/compiler/tf2tensorrt/utils/py_utils.cc:38] TF-TRT Warning: Cannot dlopen some TensorRT libraries. If you would like to use Nvidia GPU with TensorRT, please make sure the missing libraries mentioned above are installed properly.\n"
     ]
    }
   ],
   "source": [
    "import tensorflow as tf\n",
    "from tensorflow.keras import datasets, layers, models\n",
    "import matplotlib.pyplot as plt\n",
    "\n",
    "root_dir = \"/home/polivares/scratch/Datasets/PowerLineFaults/\"\n",
    "\n",
    "X_train = np.load(root_dir + \"dataset_mfcc/train/images_train.npy\")\n",
    "y_train = np.load(root_dir + \"dataset_mfcc/train/labels_train.npy\")\n",
    "X_test = np.load(root_dir + \"dataset_mfcc/test/images_test.npy\")\n",
    "y_test = np.load(root_dir + \"dataset_mfcc/test/labels_test.npy\")\n",
    "X_val = np.load(root_dir + \"dataset_mfcc/val/images_val.npy\")\n",
    "y_val = np.load(root_dir + \"dataset_mfcc/val/labels_val.npy\")"
   ]
  },
  {
   "cell_type": "markdown",
   "id": "8dba8110",
   "metadata": {},
   "source": [
    "# CNN-model"
   ]
  },
  {
   "cell_type": "code",
   "execution_count": 3,
   "id": "638eaed7",
   "metadata": {},
   "outputs": [
    {
     "name": "stderr",
     "output_type": "stream",
     "text": [
      "2022-10-07 15:52:19.946621: I tensorflow/core/platform/cpu_feature_guard.cc:193] This TensorFlow binary is optimized with oneAPI Deep Neural Network Library (oneDNN) to use the following CPU instructions in performance-critical operations:  AVX2 FMA\n",
      "To enable them in other operations, rebuild TensorFlow with the appropriate compiler flags.\n",
      "2022-10-07 15:52:20.721340: I tensorflow/core/common_runtime/gpu/gpu_device.cc:1616] Created device /job:localhost/replica:0/task:0/device:GPU:0 with 9638 MB memory:  -> device: 0, name: NVIDIA GeForce RTX 2080 Ti, pci bus id: 0000:02:00.0, compute capability: 7.5\n"
     ]
    },
    {
     "name": "stdout",
     "output_type": "stream",
     "text": [
      "Model: \"sequential\"\n",
      "_________________________________________________________________\n",
      " Layer (type)                Output Shape              Param #   \n",
      "=================================================================\n",
      " conv2d (Conv2D)             (None, 254, 254, 256)     2560      \n",
      "                                                                 \n",
      " max_pooling2d (MaxPooling2D  (None, 127, 127, 256)    0         \n",
      " )                                                               \n",
      "                                                                 \n",
      " conv2d_1 (Conv2D)           (None, 125, 125, 128)     295040    \n",
      "                                                                 \n",
      " max_pooling2d_1 (MaxPooling  (None, 62, 62, 128)      0         \n",
      " 2D)                                                             \n",
      "                                                                 \n",
      " conv2d_2 (Conv2D)           (None, 60, 60, 64)        73792     \n",
      "                                                                 \n",
      " flatten (Flatten)           (None, 230400)            0         \n",
      "                                                                 \n",
      " dense (Dense)               (None, 64)                14745664  \n",
      "                                                                 \n",
      " dense_1 (Dense)             (None, 1)                 65        \n",
      "                                                                 \n",
      "=================================================================\n",
      "Total params: 15,117,121\n",
      "Trainable params: 15,117,121\n",
      "Non-trainable params: 0\n",
      "_________________________________________________________________\n"
     ]
    }
   ],
   "source": [
    "# Creación de modelo\n",
    "model = models.Sequential()\n",
    "# Capas encargadas de obtener información de la imagen\n",
    "model.add(layers.Conv2D(256, (3, 3), activation='relu', input_shape=(256,256,1)))\n",
    "model.add(layers.MaxPooling2D((2, 2)))\n",
    "model.add(layers.Conv2D(128, (3, 3), activation='relu'))\n",
    "model.add(layers.MaxPooling2D((2, 2)))\n",
    "model.add(layers.Conv2D(64, (3, 3), activation='relu'))\n",
    "# Capas para la clasificación en base a la información obtenida en \n",
    "# capas anteriores\n",
    "model.add(layers.Flatten())\n",
    "model.add(layers.Dense(64, activation='relu'))\n",
    "model.add(layers.Dense(1, activation = 'sigmoid'))\n",
    "model.summary()"
   ]
  },
  {
   "cell_type": "code",
   "execution_count": 4,
   "id": "ffbd3858",
   "metadata": {},
   "outputs": [
    {
     "name": "stdout",
     "output_type": "stream",
     "text": [
      "Epoch 1/100\n"
     ]
    },
    {
     "name": "stderr",
     "output_type": "stream",
     "text": [
      "2022-10-07 15:52:24.501436: I tensorflow/stream_executor/cuda/cuda_dnn.cc:384] Loaded cuDNN version 8204\n"
     ]
    },
    {
     "name": "stdout",
     "output_type": "stream",
     "text": [
      "488/488 [==============================] - ETA: 0s - loss: 13.2495 - accuracy: 0.9221 - recall: 0.0102\n",
      "Epoch 1: saving model to CNN-model_mfcc.ckpt\n",
      "488/488 [==============================] - 26s 45ms/step - loss: 13.2495 - accuracy: 0.9221 - recall: 0.0102 - val_loss: 0.2696 - val_accuracy: 0.9402 - val_recall: 0.0000e+00\n",
      "Epoch 2/100\n",
      "487/488 [============================>.] - ETA: 0s - loss: 0.4814 - accuracy: 0.9351 - recall: 0.0034\n",
      "Epoch 2: saving model to CNN-model_mfcc.ckpt\n",
      "488/488 [==============================] - 21s 44ms/step - loss: 0.4812 - accuracy: 0.9350 - recall: 0.0034 - val_loss: 0.2392 - val_accuracy: 0.9402 - val_recall: 0.0000e+00\n",
      "Epoch 3/100\n",
      "487/488 [============================>.] - ETA: 0s - loss: 0.2293 - accuracy: 0.9400 - recall: 0.0102\n",
      "Epoch 3: saving model to CNN-model_mfcc.ckpt\n",
      "488/488 [==============================] - 21s 44ms/step - loss: 0.2295 - accuracy: 0.9399 - recall: 0.0102 - val_loss: 0.2209 - val_accuracy: 0.9402 - val_recall: 0.0137\n",
      "Epoch 4/100\n",
      "487/488 [============================>.] - ETA: 0s - loss: 3.3780 - accuracy: 0.9368 - recall: 0.0514\n",
      "Epoch 4: saving model to CNN-model_mfcc.ckpt\n",
      "488/488 [==============================] - 21s 44ms/step - loss: 3.3737 - accuracy: 0.9364 - recall: 0.0510 - val_loss: 0.2256 - val_accuracy: 0.9402 - val_recall: 0.0000e+00\n",
      "Epoch 5/100\n",
      "487/488 [============================>.] - ETA: 0s - loss: 0.2273 - accuracy: 0.9396 - recall: 0.0000e+00\n",
      "Epoch 5: saving model to CNN-model_mfcc.ckpt\n",
      "488/488 [==============================] - 22s 44ms/step - loss: 0.2270 - accuracy: 0.9397 - recall: 0.0000e+00 - val_loss: 0.2220 - val_accuracy: 0.9410 - val_recall: 0.0137\n",
      "Epoch 6/100\n",
      "487/488 [============================>.] - ETA: 0s - loss: 0.2280 - accuracy: 0.9394 - recall: 0.0000e+00\n",
      "Epoch 6: saving model to CNN-model_mfcc.ckpt\n",
      "488/488 [==============================] - 21s 44ms/step - loss: 0.2277 - accuracy: 0.9395 - recall: 0.0000e+00 - val_loss: 0.2265 - val_accuracy: 0.9402 - val_recall: 0.0000e+00\n",
      "Epoch 7/100\n",
      "487/488 [============================>.] - ETA: 0s - loss: 0.2285 - accuracy: 0.9388 - recall: 0.0000e+00\n",
      "Epoch 7: saving model to CNN-model_mfcc.ckpt\n",
      "488/488 [==============================] - 21s 44ms/step - loss: 0.2288 - accuracy: 0.9387 - recall: 0.0000e+00 - val_loss: 0.2265 - val_accuracy: 0.9402 - val_recall: 0.0000e+00\n",
      "Epoch 8/100\n",
      "487/488 [============================>.] - ETA: 0s - loss: 0.2266 - accuracy: 0.9400 - recall: 0.0000e+00\n",
      "Epoch 8: saving model to CNN-model_mfcc.ckpt\n",
      "488/488 [==============================] - 22s 44ms/step - loss: 0.2275 - accuracy: 0.9397 - recall: 0.0000e+00 - val_loss: 0.2263 - val_accuracy: 0.9402 - val_recall: 0.0000e+00\n",
      "Epoch 9/100\n",
      "487/488 [============================>.] - ETA: 0s - loss: 0.2265 - accuracy: 0.9400 - recall: 0.0068\n",
      "Epoch 9: saving model to CNN-model_mfcc.ckpt\n",
      "488/488 [==============================] - 21s 44ms/step - loss: 0.2263 - accuracy: 0.9401 - recall: 0.0068 - val_loss: 0.2265 - val_accuracy: 0.9402 - val_recall: 0.0000e+00\n",
      "Epoch 10/100\n",
      "487/488 [============================>.] - ETA: 0s - loss: 2.7511 - accuracy: 0.9378 - recall: 0.0239\n",
      "Epoch 10: saving model to CNN-model_mfcc.ckpt\n",
      "488/488 [==============================] - 21s 44ms/step - loss: 2.7472 - accuracy: 0.9377 - recall: 0.0238 - val_loss: 0.2286 - val_accuracy: 0.9402 - val_recall: 0.0000e+00\n"
     ]
    }
   ],
   "source": [
    "from tensorflow.keras.callbacks import EarlyStopping\n",
    "\n",
    "early_stopping = EarlyStopping(patience = 7)\n",
    "\n",
    "checkpoint_path='CNN-model_mfcc.ckpt'\n",
    "# Create a callback that saves the model's weights\n",
    "cp_callback = tf.keras.callbacks.ModelCheckpoint(filepath=checkpoint_path,\n",
    "                                                 save_weights_only=True,\n",
    "                                                 verbose=1)\n",
    "\n",
    "model.compile(loss = 'bce', optimizer = 'adam', metrics=['accuracy', tf.keras.metrics.Recall()])\n",
    "history_cnn = model.fit(X_train, y_train, epochs=100, \n",
    "                        validation_data=(X_val, y_val),\n",
    "                        batch_size=10,\n",
    "                        callbacks=[early_stopping, cp_callback])"
   ]
  },
  {
   "cell_type": "code",
   "execution_count": 5,
   "id": "bd7655b5",
   "metadata": {},
   "outputs": [
    {
     "data": {
      "image/png": "[encoded data removed]",
      "text/plain": [
       "<Figure size 432x288 with 1 Axes>"
      ]
     },
     "metadata": {
      "needs_background": "light"
     },
     "output_type": "display_data"
    }
   ],
   "source": [
    "plt.plot(history_cnn.history['accuracy'], label='accuracy')\n",
    "plt.plot(history_cnn.history['val_accuracy'], label = 'val_accuracy')\n",
    "plt.xlabel('Epoch')\n",
    "plt.ylabel('Accuracy')\n",
    "plt.ylim([0.5, 1])\n",
    "plt.legend(loc='lower right')\n",
    "plt.show()"
   ]
  },
  {
   "cell_type": "code",
   "execution_count": 6,
   "id": "19009ccc",
   "metadata": {},
   "outputs": [
    {
     "data": {
      "image/png": "[encoded data removed]",
      "text/plain": [
       "<Figure size 432x288 with 1 Axes>"
      ]
     },
     "metadata": {
      "needs_background": "light"
     },
     "output_type": "display_data"
    }
   ],
   "source": [
    "plt.plot(history_cnn.history['loss'], label='loss')\n",
    "plt.plot(history_cnn.history['val_loss'], label = 'val_loss')\n",
    "plt.xlabel('Epoch')\n",
    "plt.ylabel('Loss')\n",
    "plt.legend(loc='lower right')\n",
    "plt.show()"
   ]
  },
  {
   "cell_type": "code",
   "execution_count": 7,
   "id": "5b2e043c",
   "metadata": {},
   "outputs": [
    {
     "name": "stdout",
     "output_type": "stream",
     "text": [
      "305/305 - 3s - loss: 0.2286 - accuracy: 0.9402 - recall: 0.0000e+00 - 3s/epoch - 9ms/step\n"
     ]
    }
   ],
   "source": [
    "val_loss, val_acc, val_recall = model.evaluate(X_val,  y_val, verbose=2, batch_size=4)"
   ]
  },
  {
   "cell_type": "code",
   "execution_count": 8,
   "id": "b995ef1b",
   "metadata": {},
   "outputs": [
    {
     "name": "stdout",
     "output_type": "stream",
     "text": [
      "305/305 [==============================] - 2s 5ms/step\n"
     ]
    }
   ],
   "source": [
    "val_predictions = (model.predict(X_val, batch_size=4)>0.5).reshape(1,-1)[0].astype(int)\n",
    "val_real_values = y_val.T[0]"
   ]
  },
  {
   "cell_type": "code",
   "execution_count": 9,
   "id": "e139f0da",
   "metadata": {},
   "outputs": [
    {
     "data": {
      "text/plain": [
       "0.0"
      ]
     },
     "execution_count": 9,
     "metadata": {},
     "output_type": "execute_result"
    }
   ],
   "source": [
    "matthews_corrcoef(val_real_values, val_predictions)"
   ]
  },
  {
   "cell_type": "code",
   "execution_count": 10,
   "id": "c7981d37",
   "metadata": {},
   "outputs": [
    {
     "name": "stdout",
     "output_type": "stream",
     "text": [
      "654/654 - 5s - loss: 0.2298 - accuracy: 0.9396 - recall: 0.0000e+00 - 5s/epoch - 7ms/step\n"
     ]
    }
   ],
   "source": [
    "test_loss, test_acc, test_recall = model.evaluate(X_test,  y_test, verbose=2, batch_size=4)"
   ]
  },
  {
   "cell_type": "code",
   "execution_count": 11,
   "id": "acdb52d5",
   "metadata": {},
   "outputs": [
    {
     "name": "stdout",
     "output_type": "stream",
     "text": [
      "654/654 [==============================] - 3s 5ms/step\n"
     ]
    }
   ],
   "source": [
    "test_predictions = (model.predict(X_test, batch_size=4)>0.5).reshape(1,-1)[0].astype(int)\n",
    "test_real_values = y_test.T[0]"
   ]
  },
  {
   "cell_type": "code",
   "execution_count": 12,
   "id": "4963ab1e",
   "metadata": {},
   "outputs": [
    {
     "data": {
      "text/plain": [
       "0.0"
      ]
     },
     "execution_count": 12,
     "metadata": {},
     "output_type": "execute_result"
    }
   ],
   "source": [
    "matthews_corrcoef(test_real_values, test_predictions)"
   ]
  },
  {
   "cell_type": "markdown",
   "id": "9510cd1e",
   "metadata": {},
   "source": [
    "# Resnet-model"
   ]
  },
  {
   "cell_type": "code",
   "execution_count": 13,
   "id": "c45a6cd8",
   "metadata": {},
   "outputs": [],
   "source": [
    "# Transfer Learning\n",
    "base_model = tf.keras.applications.ResNet50(include_top=False, weights='imagenet', input_shape=(256, 256, 3))\n",
    "avg = tf.keras.layers.GlobalAveragePooling2D()(base_model.output)\n",
    "output = tf.keras.layers.Dense(1, activation=\"sigmoid\")(avg)\n",
    "\n",
    "model = tf.keras.Model(inputs=base_model.input, outputs=output)\n",
    "\n",
    "for layer in base_model.layers:\n",
    "    layer.trainable = False # Esto impide que las capas se re entrenen"
   ]
  },
  {
   "cell_type": "code",
   "execution_count": 14,
   "id": "7a111b8c",
   "metadata": {},
   "outputs": [],
   "source": [
    "X_train_rgb = np.repeat(X_train, 3, -1)\n",
    "X_val_rgb = np.repeat(X_val, 3, -1)"
   ]
  },
  {
   "cell_type": "code",
   "execution_count": 15,
   "id": "6d25ee12",
   "metadata": {},
   "outputs": [
    {
     "name": "stdout",
     "output_type": "stream",
     "text": [
      "Epoch 1/100\n",
      "488/488 [==============================] - ETA: 0s - loss: 0.1925 - accuracy: 0.9399 - recall_1: 0.0374\n",
      "Epoch 1: saving model to Resnet50-model_mfcc.ckpt\n",
      "488/488 [==============================] - 24s 42ms/step - loss: 0.1925 - accuracy: 0.9399 - recall_1: 0.0374 - val_loss: 0.1637 - val_accuracy: 0.9426 - val_recall_1: 0.0411\n",
      "Epoch 2/100\n",
      "488/488 [==============================] - ETA: 0s - loss: 0.1678 - accuracy: 0.9412 - recall_1: 0.0816\n",
      "Epoch 2: saving model to Resnet50-model_mfcc.ckpt\n",
      "488/488 [==============================] - 18s 36ms/step - loss: 0.1678 - accuracy: 0.9412 - recall_1: 0.0816 - val_loss: 0.1498 - val_accuracy: 0.9484 - val_recall_1: 0.1918\n",
      "Epoch 3/100\n",
      "488/488 [==============================] - ETA: 0s - loss: 0.1622 - accuracy: 0.9414 - recall_1: 0.1259\n",
      "Epoch 3: saving model to Resnet50-model_mfcc.ckpt\n",
      "488/488 [==============================] - 18s 36ms/step - loss: 0.1622 - accuracy: 0.9414 - recall_1: 0.1259 - val_loss: 0.1504 - val_accuracy: 0.9434 - val_recall_1: 0.0548\n",
      "Epoch 4/100\n",
      "487/488 [============================>.] - ETA: 0s - loss: 0.1539 - accuracy: 0.9450 - recall_1: 0.1497\n",
      "Epoch 4: saving model to Resnet50-model_mfcc.ckpt\n",
      "488/488 [==============================] - 18s 37ms/step - loss: 0.1537 - accuracy: 0.9451 - recall_1: 0.1497 - val_loss: 0.1369 - val_accuracy: 0.9492 - val_recall_1: 0.1918\n",
      "Epoch 5/100\n",
      "487/488 [============================>.] - ETA: 0s - loss: 0.1490 - accuracy: 0.9472 - recall_1: 0.1911\n",
      "Epoch 5: saving model to Resnet50-model_mfcc.ckpt\n",
      "488/488 [==============================] - 18s 37ms/step - loss: 0.1491 - accuracy: 0.9471 - recall_1: 0.1905 - val_loss: 0.1495 - val_accuracy: 0.9410 - val_recall_1: 0.0137\n",
      "Epoch 6/100\n",
      "487/488 [============================>.] - ETA: 0s - loss: 0.1435 - accuracy: 0.9491 - recall_1: 0.2245\n",
      "Epoch 6: saving model to Resnet50-model_mfcc.ckpt\n",
      "488/488 [==============================] - 18s 38ms/step - loss: 0.1435 - accuracy: 0.9490 - recall_1: 0.2245 - val_loss: 0.1413 - val_accuracy: 0.9557 - val_recall_1: 0.3836\n",
      "Epoch 7/100\n",
      "488/488 [==============================] - ETA: 0s - loss: 0.1391 - accuracy: 0.9479 - recall_1: 0.2041\n",
      "Epoch 7: saving model to Resnet50-model_mfcc.ckpt\n",
      "488/488 [==============================] - 18s 36ms/step - loss: 0.1391 - accuracy: 0.9479 - recall_1: 0.2041 - val_loss: 0.1304 - val_accuracy: 0.9541 - val_recall_1: 0.2877\n",
      "Epoch 8/100\n",
      "488/488 [==============================] - ETA: 0s - loss: 0.1366 - accuracy: 0.9487 - recall_1: 0.2211\n",
      "Epoch 8: saving model to Resnet50-model_mfcc.ckpt\n",
      "488/488 [==============================] - 18s 36ms/step - loss: 0.1366 - accuracy: 0.9487 - recall_1: 0.2211 - val_loss: 0.1345 - val_accuracy: 0.9549 - val_recall_1: 0.3973\n",
      "Epoch 9/100\n",
      "487/488 [============================>.] - ETA: 0s - loss: 0.1363 - accuracy: 0.9509 - recall_1: 0.2653\n",
      "Epoch 9: saving model to Resnet50-model_mfcc.ckpt\n",
      "488/488 [==============================] - 18s 36ms/step - loss: 0.1361 - accuracy: 0.9510 - recall_1: 0.2653 - val_loss: 0.1274 - val_accuracy: 0.9549 - val_recall_1: 0.2877\n",
      "Epoch 10/100\n",
      "487/488 [============================>.] - ETA: 0s - loss: 0.1340 - accuracy: 0.9497 - recall_1: 0.2619\n",
      "Epoch 10: saving model to Resnet50-model_mfcc.ckpt\n",
      "488/488 [==============================] - 17s 36ms/step - loss: 0.1339 - accuracy: 0.9498 - recall_1: 0.2619 - val_loss: 0.1271 - val_accuracy: 0.9557 - val_recall_1: 0.3014\n",
      "Epoch 11/100\n",
      "488/488 [==============================] - ETA: 0s - loss: 0.1291 - accuracy: 0.9543 - recall_1: 0.3197\n",
      "Epoch 11: saving model to Resnet50-model_mfcc.ckpt\n",
      "488/488 [==============================] - 18s 37ms/step - loss: 0.1291 - accuracy: 0.9543 - recall_1: 0.3197 - val_loss: 0.1311 - val_accuracy: 0.9516 - val_recall_1: 0.1918\n",
      "Epoch 12/100\n",
      "487/488 [============================>.] - ETA: 0s - loss: 0.1295 - accuracy: 0.9538 - recall_1: 0.3231\n",
      "Epoch 12: saving model to Resnet50-model_mfcc.ckpt\n",
      "488/488 [==============================] - 18s 37ms/step - loss: 0.1293 - accuracy: 0.9539 - recall_1: 0.3231 - val_loss: 0.1266 - val_accuracy: 0.9549 - val_recall_1: 0.2877\n",
      "Epoch 13/100\n",
      "488/488 [==============================] - ETA: 0s - loss: 0.1284 - accuracy: 0.9565 - recall_1: 0.3503\n",
      "Epoch 13: saving model to Resnet50-model_mfcc.ckpt\n",
      "488/488 [==============================] - 18s 37ms/step - loss: 0.1284 - accuracy: 0.9565 - recall_1: 0.3503 - val_loss: 0.1309 - val_accuracy: 0.9615 - val_recall_1: 0.4521\n",
      "Epoch 14/100\n",
      "487/488 [============================>.] - ETA: 0s - loss: 0.1255 - accuracy: 0.9538 - recall_1: 0.3231\n",
      "Epoch 14: saving model to Resnet50-model_mfcc.ckpt\n",
      "488/488 [==============================] - 18s 36ms/step - loss: 0.1256 - accuracy: 0.9537 - recall_1: 0.3231 - val_loss: 0.1249 - val_accuracy: 0.9566 - val_recall_1: 0.3699\n",
      "Epoch 15/100\n",
      "487/488 [============================>.] - ETA: 0s - loss: 0.1234 - accuracy: 0.9563 - recall_1: 0.3481\n",
      "Epoch 15: saving model to Resnet50-model_mfcc.ckpt\n",
      "488/488 [==============================] - 18s 37ms/step - loss: 0.1235 - accuracy: 0.9561 - recall_1: 0.3469 - val_loss: 0.1459 - val_accuracy: 0.9475 - val_recall_1: 0.1233\n",
      "Epoch 16/100\n",
      "487/488 [============================>.] - ETA: 0s - loss: 0.1224 - accuracy: 0.9554 - recall_1: 0.3503\n",
      "Epoch 16: saving model to Resnet50-model_mfcc.ckpt\n",
      "488/488 [==============================] - 18s 37ms/step - loss: 0.1222 - accuracy: 0.9555 - recall_1: 0.3503 - val_loss: 0.1267 - val_accuracy: 0.9598 - val_recall_1: 0.4658\n",
      "Epoch 17/100\n",
      "488/488 [==============================] - ETA: 0s - loss: 0.1211 - accuracy: 0.9576 - recall_1: 0.3844\n",
      "Epoch 17: saving model to Resnet50-model_mfcc.ckpt\n",
      "488/488 [==============================] - 18s 37ms/step - loss: 0.1211 - accuracy: 0.9576 - recall_1: 0.3844 - val_loss: 0.1234 - val_accuracy: 0.9541 - val_recall_1: 0.3425\n",
      "Epoch 18/100\n",
      "487/488 [============================>.] - ETA: 0s - loss: 0.1184 - accuracy: 0.9581 - recall_1: 0.3720\n",
      "Epoch 18: saving model to Resnet50-model_mfcc.ckpt\n",
      "488/488 [==============================] - 18s 37ms/step - loss: 0.1184 - accuracy: 0.9580 - recall_1: 0.3707 - val_loss: 0.1268 - val_accuracy: 0.9549 - val_recall_1: 0.3014\n",
      "Epoch 19/100\n",
      "487/488 [============================>.] - ETA: 0s - loss: 0.1194 - accuracy: 0.9581 - recall_1: 0.3823\n",
      "Epoch 19: saving model to Resnet50-model_mfcc.ckpt\n",
      "488/488 [==============================] - 18s 37ms/step - loss: 0.1195 - accuracy: 0.9582 - recall_1: 0.3844 - val_loss: 0.1249 - val_accuracy: 0.9590 - val_recall_1: 0.4521\n",
      "Epoch 20/100\n",
      "488/488 [==============================] - ETA: 0s - loss: 0.1176 - accuracy: 0.9598 - recall_1: 0.4082\n",
      "Epoch 20: saving model to Resnet50-model_mfcc.ckpt\n",
      "488/488 [==============================] - 18s 37ms/step - loss: 0.1176 - accuracy: 0.9598 - recall_1: 0.4082 - val_loss: 0.1228 - val_accuracy: 0.9582 - val_recall_1: 0.4110\n",
      "Epoch 21/100\n",
      "487/488 [============================>.] - ETA: 0s - loss: 0.1178 - accuracy: 0.9595 - recall_1: 0.3980\n",
      "Epoch 21: saving model to Resnet50-model_mfcc.ckpt\n",
      "488/488 [==============================] - 18s 37ms/step - loss: 0.1176 - accuracy: 0.9596 - recall_1: 0.3980 - val_loss: 0.1207 - val_accuracy: 0.9566 - val_recall_1: 0.3836\n",
      "Epoch 22/100\n",
      "486/488 [============================>.] - ETA: 0s - loss: 0.1161 - accuracy: 0.9591 - recall_1: 0.4075\n",
      "Epoch 22: saving model to Resnet50-model_mfcc.ckpt\n",
      "488/488 [==============================] - 17s 36ms/step - loss: 0.1173 - accuracy: 0.9588 - recall_1: 0.4048 - val_loss: 0.1200 - val_accuracy: 0.9549 - val_recall_1: 0.3562\n",
      "Epoch 23/100\n",
      "487/488 [============================>.] - ETA: 0s - loss: 0.1154 - accuracy: 0.9614 - recall_1: 0.4490\n",
      "Epoch 23: saving model to Resnet50-model_mfcc.ckpt\n",
      "488/488 [==============================] - 18s 38ms/step - loss: 0.1152 - accuracy: 0.9615 - recall_1: 0.4490 - val_loss: 0.1235 - val_accuracy: 0.9557 - val_recall_1: 0.2877\n",
      "Epoch 24/100\n",
      "487/488 [============================>.] - ETA: 0s - loss: 0.1136 - accuracy: 0.9604 - recall_1: 0.4286\n",
      "Epoch 24: saving model to Resnet50-model_mfcc.ckpt\n",
      "488/488 [==============================] - 19s 38ms/step - loss: 0.1135 - accuracy: 0.9604 - recall_1: 0.4286 - val_loss: 0.1203 - val_accuracy: 0.9598 - val_recall_1: 0.4521\n"
     ]
    },
    {
     "name": "stdout",
     "output_type": "stream",
     "text": [
      "Epoch 25/100\n",
      "488/488 [==============================] - ETA: 0s - loss: 0.1134 - accuracy: 0.9606 - recall_1: 0.4320\n",
      "Epoch 25: saving model to Resnet50-model_mfcc.ckpt\n",
      "488/488 [==============================] - 18s 36ms/step - loss: 0.1134 - accuracy: 0.9606 - recall_1: 0.4320 - val_loss: 0.1277 - val_accuracy: 0.9508 - val_recall_1: 0.2055\n",
      "Epoch 26/100\n",
      "488/488 [==============================] - ETA: 0s - loss: 0.1126 - accuracy: 0.9617 - recall_1: 0.4354\n",
      "Epoch 26: saving model to Resnet50-model_mfcc.ckpt\n",
      "488/488 [==============================] - 18s 37ms/step - loss: 0.1126 - accuracy: 0.9617 - recall_1: 0.4354 - val_loss: 0.1207 - val_accuracy: 0.9566 - val_recall_1: 0.3836\n",
      "Epoch 27/100\n",
      "487/488 [============================>.] - ETA: 0s - loss: 0.1123 - accuracy: 0.9593 - recall_1: 0.4218\n",
      "Epoch 27: saving model to Resnet50-model_mfcc.ckpt\n",
      "488/488 [==============================] - 18s 36ms/step - loss: 0.1121 - accuracy: 0.9594 - recall_1: 0.4218 - val_loss: 0.1373 - val_accuracy: 0.9516 - val_recall_1: 0.1918\n",
      "Epoch 28/100\n",
      "487/488 [============================>.] - ETA: 0s - loss: 0.1108 - accuracy: 0.9608 - recall_1: 0.4354\n",
      "Epoch 28: saving model to Resnet50-model_mfcc.ckpt\n",
      "488/488 [==============================] - 18s 36ms/step - loss: 0.1107 - accuracy: 0.9608 - recall_1: 0.4354 - val_loss: 0.1224 - val_accuracy: 0.9590 - val_recall_1: 0.4658\n",
      "Epoch 29/100\n",
      "487/488 [============================>.] - ETA: 0s - loss: 0.1113 - accuracy: 0.9602 - recall_1: 0.4232\n",
      "Epoch 29: saving model to Resnet50-model_mfcc.ckpt\n",
      "488/488 [==============================] - 18s 36ms/step - loss: 0.1112 - accuracy: 0.9602 - recall_1: 0.4252 - val_loss: 0.1183 - val_accuracy: 0.9590 - val_recall_1: 0.4110\n",
      "Epoch 30/100\n",
      "488/488 [==============================] - ETA: 0s - loss: 0.1098 - accuracy: 0.9633 - recall_1: 0.4592\n",
      "Epoch 30: saving model to Resnet50-model_mfcc.ckpt\n",
      "488/488 [==============================] - 18s 38ms/step - loss: 0.1098 - accuracy: 0.9633 - recall_1: 0.4592 - val_loss: 0.1183 - val_accuracy: 0.9590 - val_recall_1: 0.3973\n",
      "Epoch 31/100\n",
      "488/488 [==============================] - ETA: 0s - loss: 0.1082 - accuracy: 0.9627 - recall_1: 0.4524\n",
      "Epoch 31: saving model to Resnet50-model_mfcc.ckpt\n",
      "488/488 [==============================] - 18s 36ms/step - loss: 0.1082 - accuracy: 0.9627 - recall_1: 0.4524 - val_loss: 0.1184 - val_accuracy: 0.9574 - val_recall_1: 0.3699\n",
      "Epoch 32/100\n",
      "487/488 [============================>.] - ETA: 0s - loss: 0.1105 - accuracy: 0.9628 - recall_1: 0.4762\n",
      "Epoch 32: saving model to Resnet50-model_mfcc.ckpt\n",
      "488/488 [==============================] - 18s 36ms/step - loss: 0.1104 - accuracy: 0.9629 - recall_1: 0.4762 - val_loss: 0.1185 - val_accuracy: 0.9566 - val_recall_1: 0.3425\n",
      "Epoch 33/100\n",
      "487/488 [============================>.] - ETA: 0s - loss: 0.1076 - accuracy: 0.9630 - recall_1: 0.4728\n",
      "Epoch 33: saving model to Resnet50-model_mfcc.ckpt\n",
      "488/488 [==============================] - 18s 37ms/step - loss: 0.1074 - accuracy: 0.9631 - recall_1: 0.4728 - val_loss: 0.1193 - val_accuracy: 0.9598 - val_recall_1: 0.4658\n",
      "Epoch 34/100\n",
      "488/488 [==============================] - ETA: 0s - loss: 0.1050 - accuracy: 0.9621 - recall_1: 0.4626\n",
      "Epoch 34: saving model to Resnet50-model_mfcc.ckpt\n",
      "488/488 [==============================] - 18s 37ms/step - loss: 0.1050 - accuracy: 0.9621 - recall_1: 0.4626 - val_loss: 0.1351 - val_accuracy: 0.9582 - val_recall_1: 0.5479\n",
      "Epoch 35/100\n",
      "488/488 [==============================] - ETA: 0s - loss: 0.1055 - accuracy: 0.9627 - recall_1: 0.4456\n",
      "Epoch 35: saving model to Resnet50-model_mfcc.ckpt\n",
      "488/488 [==============================] - 18s 36ms/step - loss: 0.1055 - accuracy: 0.9627 - recall_1: 0.4456 - val_loss: 0.1248 - val_accuracy: 0.9607 - val_recall_1: 0.5205\n",
      "Epoch 36/100\n",
      "488/488 [==============================] - ETA: 0s - loss: 0.1038 - accuracy: 0.9635 - recall_1: 0.4762\n",
      "Epoch 36: saving model to Resnet50-model_mfcc.ckpt\n",
      "488/488 [==============================] - 18s 36ms/step - loss: 0.1038 - accuracy: 0.9635 - recall_1: 0.4762 - val_loss: 0.1200 - val_accuracy: 0.9574 - val_recall_1: 0.3562\n",
      "Epoch 37/100\n",
      "488/488 [==============================] - ETA: 0s - loss: 0.1067 - accuracy: 0.9627 - recall_1: 0.4694\n",
      "Epoch 37: saving model to Resnet50-model_mfcc.ckpt\n",
      "488/488 [==============================] - 18s 37ms/step - loss: 0.1067 - accuracy: 0.9627 - recall_1: 0.4694 - val_loss: 0.1180 - val_accuracy: 0.9607 - val_recall_1: 0.4658\n",
      "Epoch 38/100\n",
      "488/488 [==============================] - ETA: 0s - loss: 0.1035 - accuracy: 0.9639 - recall_1: 0.4898\n",
      "Epoch 38: saving model to Resnet50-model_mfcc.ckpt\n",
      "488/488 [==============================] - 18s 37ms/step - loss: 0.1035 - accuracy: 0.9639 - recall_1: 0.4898 - val_loss: 0.1216 - val_accuracy: 0.9566 - val_recall_1: 0.3425\n",
      "Epoch 39/100\n",
      "488/488 [==============================] - ETA: 0s - loss: 0.1032 - accuracy: 0.9649 - recall_1: 0.4966\n",
      "Epoch 39: saving model to Resnet50-model_mfcc.ckpt\n",
      "488/488 [==============================] - 18s 36ms/step - loss: 0.1032 - accuracy: 0.9649 - recall_1: 0.4966 - val_loss: 0.1167 - val_accuracy: 0.9574 - val_recall_1: 0.3699\n",
      "Epoch 40/100\n",
      "487/488 [============================>.] - ETA: 0s - loss: 0.1019 - accuracy: 0.9655 - recall_1: 0.4983\n",
      "Epoch 40: saving model to Resnet50-model_mfcc.ckpt\n",
      "488/488 [==============================] - 19s 38ms/step - loss: 0.1019 - accuracy: 0.9656 - recall_1: 0.5000 - val_loss: 0.1218 - val_accuracy: 0.9574 - val_recall_1: 0.3836\n",
      "Epoch 41/100\n",
      "488/488 [==============================] - ETA: 0s - loss: 0.1037 - accuracy: 0.9651 - recall_1: 0.4830\n",
      "Epoch 41: saving model to Resnet50-model_mfcc.ckpt\n",
      "488/488 [==============================] - 18s 37ms/step - loss: 0.1037 - accuracy: 0.9651 - recall_1: 0.4830 - val_loss: 0.1158 - val_accuracy: 0.9590 - val_recall_1: 0.4658\n",
      "Epoch 42/100\n",
      "488/488 [==============================] - ETA: 0s - loss: 0.1010 - accuracy: 0.9651 - recall_1: 0.4966\n",
      "Epoch 42: saving model to Resnet50-model_mfcc.ckpt\n",
      "488/488 [==============================] - 18s 37ms/step - loss: 0.1010 - accuracy: 0.9651 - recall_1: 0.4966 - val_loss: 0.1155 - val_accuracy: 0.9557 - val_recall_1: 0.3562\n",
      "Epoch 43/100\n",
      "488/488 [==============================] - ETA: 0s - loss: 0.1008 - accuracy: 0.9631 - recall_1: 0.4864\n",
      "Epoch 43: saving model to Resnet50-model_mfcc.ckpt\n",
      "488/488 [==============================] - 18s 37ms/step - loss: 0.1008 - accuracy: 0.9631 - recall_1: 0.4864 - val_loss: 0.1250 - val_accuracy: 0.9533 - val_recall_1: 0.2740\n",
      "Epoch 44/100\n",
      "487/488 [============================>.] - ETA: 0s - loss: 0.1007 - accuracy: 0.9663 - recall_1: 0.5154\n",
      "Epoch 44: saving model to Resnet50-model_mfcc.ckpt\n",
      "488/488 [==============================] - 18s 36ms/step - loss: 0.1006 - accuracy: 0.9664 - recall_1: 0.5170 - val_loss: 0.1181 - val_accuracy: 0.9607 - val_recall_1: 0.4795\n",
      "Epoch 45/100\n",
      "488/488 [==============================] - ETA: 0s - loss: 0.1005 - accuracy: 0.9645 - recall_1: 0.5034\n",
      "Epoch 45: saving model to Resnet50-model_mfcc.ckpt\n",
      "488/488 [==============================] - 17s 35ms/step - loss: 0.1005 - accuracy: 0.9645 - recall_1: 0.5034 - val_loss: 0.1190 - val_accuracy: 0.9566 - val_recall_1: 0.3425\n",
      "Epoch 46/100\n",
      "487/488 [============================>.] - ETA: 0s - loss: 0.0996 - accuracy: 0.9657 - recall_1: 0.5034\n",
      "Epoch 46: saving model to Resnet50-model_mfcc.ckpt\n",
      "488/488 [==============================] - 17s 36ms/step - loss: 0.0995 - accuracy: 0.9658 - recall_1: 0.5034 - val_loss: 0.1143 - val_accuracy: 0.9590 - val_recall_1: 0.4384\n",
      "Epoch 47/100\n",
      "487/488 [============================>.] - ETA: 0s - loss: 0.0996 - accuracy: 0.9639 - recall_1: 0.4915\n",
      "Epoch 47: saving model to Resnet50-model_mfcc.ckpt\n",
      "488/488 [==============================] - 17s 36ms/step - loss: 0.0994 - accuracy: 0.9639 - recall_1: 0.4932 - val_loss: 0.1174 - val_accuracy: 0.9598 - val_recall_1: 0.4932\n",
      "Epoch 48/100\n",
      "488/488 [==============================] - ETA: 0s - loss: 0.0971 - accuracy: 0.9647 - recall_1: 0.5170\n",
      "Epoch 48: saving model to Resnet50-model_mfcc.ckpt\n",
      "488/488 [==============================] - 18s 36ms/step - loss: 0.0971 - accuracy: 0.9647 - recall_1: 0.5170 - val_loss: 0.1229 - val_accuracy: 0.9598 - val_recall_1: 0.5205\n"
     ]
    },
    {
     "name": "stdout",
     "output_type": "stream",
     "text": [
      "Epoch 49/100\n",
      "487/488 [============================>.] - ETA: 0s - loss: 0.0987 - accuracy: 0.9678 - recall_1: 0.5188\n",
      "Epoch 49: saving model to Resnet50-model_mfcc.ckpt\n",
      "488/488 [==============================] - 18s 36ms/step - loss: 0.0988 - accuracy: 0.9676 - recall_1: 0.5170 - val_loss: 0.1135 - val_accuracy: 0.9574 - val_recall_1: 0.4247\n",
      "Epoch 50/100\n",
      "488/488 [==============================] - ETA: 0s - loss: 0.0967 - accuracy: 0.9658 - recall_1: 0.5102\n",
      "Epoch 50: saving model to Resnet50-model_mfcc.ckpt\n",
      "488/488 [==============================] - 18s 37ms/step - loss: 0.0967 - accuracy: 0.9658 - recall_1: 0.5102 - val_loss: 0.1228 - val_accuracy: 0.9574 - val_recall_1: 0.3425\n",
      "Epoch 51/100\n",
      "488/488 [==============================] - ETA: 0s - loss: 0.0961 - accuracy: 0.9668 - recall_1: 0.5170\n",
      "Epoch 51: saving model to Resnet50-model_mfcc.ckpt\n",
      "488/488 [==============================] - 18s 37ms/step - loss: 0.0961 - accuracy: 0.9668 - recall_1: 0.5170 - val_loss: 0.1208 - val_accuracy: 0.9566 - val_recall_1: 0.3288\n",
      "Epoch 52/100\n",
      "487/488 [============================>.] - ETA: 0s - loss: 0.0960 - accuracy: 0.9655 - recall_1: 0.5170\n",
      "Epoch 52: saving model to Resnet50-model_mfcc.ckpt\n",
      "488/488 [==============================] - 18s 37ms/step - loss: 0.0959 - accuracy: 0.9656 - recall_1: 0.5170 - val_loss: 0.1159 - val_accuracy: 0.9598 - val_recall_1: 0.4795\n",
      "Epoch 53/100\n",
      "488/488 [==============================] - ETA: 0s - loss: 0.0978 - accuracy: 0.9666 - recall_1: 0.5238\n",
      "Epoch 53: saving model to Resnet50-model_mfcc.ckpt\n",
      "488/488 [==============================] - 18s 37ms/step - loss: 0.0978 - accuracy: 0.9666 - recall_1: 0.5238 - val_loss: 0.1130 - val_accuracy: 0.9566 - val_recall_1: 0.4110\n",
      "Epoch 54/100\n",
      "487/488 [============================>.] - ETA: 0s - loss: 0.0969 - accuracy: 0.9669 - recall_1: 0.5306\n",
      "Epoch 54: saving model to Resnet50-model_mfcc.ckpt\n",
      "488/488 [==============================] - 18s 37ms/step - loss: 0.0968 - accuracy: 0.9670 - recall_1: 0.5306 - val_loss: 0.1175 - val_accuracy: 0.9623 - val_recall_1: 0.5205\n",
      "Epoch 55/100\n",
      "487/488 [============================>.] - ETA: 0s - loss: 0.0952 - accuracy: 0.9657 - recall_1: 0.5085\n",
      "Epoch 55: saving model to Resnet50-model_mfcc.ckpt\n",
      "488/488 [==============================] - 18s 37ms/step - loss: 0.0952 - accuracy: 0.9656 - recall_1: 0.5068 - val_loss: 0.1234 - val_accuracy: 0.9598 - val_recall_1: 0.5205\n",
      "Epoch 56/100\n",
      "488/488 [==============================] - ETA: 0s - loss: 0.0957 - accuracy: 0.9662 - recall_1: 0.5204\n",
      "Epoch 56: saving model to Resnet50-model_mfcc.ckpt\n",
      "488/488 [==============================] - 18s 37ms/step - loss: 0.0957 - accuracy: 0.9662 - recall_1: 0.5204 - val_loss: 0.1172 - val_accuracy: 0.9590 - val_recall_1: 0.4932\n",
      "Epoch 57/100\n",
      "487/488 [============================>.] - ETA: 0s - loss: 0.0944 - accuracy: 0.9651 - recall_1: 0.5136\n",
      "Epoch 57: saving model to Resnet50-model_mfcc.ckpt\n",
      "488/488 [==============================] - 18s 37ms/step - loss: 0.0942 - accuracy: 0.9651 - recall_1: 0.5136 - val_loss: 0.1250 - val_accuracy: 0.9541 - val_recall_1: 0.2877\n",
      "Epoch 58/100\n",
      "488/488 [==============================] - ETA: 0s - loss: 0.0937 - accuracy: 0.9678 - recall_1: 0.5272\n",
      "Epoch 58: saving model to Resnet50-model_mfcc.ckpt\n",
      "488/488 [==============================] - 18s 37ms/step - loss: 0.0937 - accuracy: 0.9678 - recall_1: 0.5272 - val_loss: 0.1553 - val_accuracy: 0.9434 - val_recall_1: 0.6849\n",
      "Epoch 59/100\n",
      "487/488 [============================>.] - ETA: 0s - loss: 0.0935 - accuracy: 0.9684 - recall_1: 0.5442\n",
      "Epoch 59: saving model to Resnet50-model_mfcc.ckpt\n",
      "488/488 [==============================] - 18s 37ms/step - loss: 0.0934 - accuracy: 0.9684 - recall_1: 0.5442 - val_loss: 0.1131 - val_accuracy: 0.9590 - val_recall_1: 0.4384\n",
      "Epoch 60/100\n",
      "488/488 [==============================] - ETA: 0s - loss: 0.0933 - accuracy: 0.9666 - recall_1: 0.5238\n",
      "Epoch 60: saving model to Resnet50-model_mfcc.ckpt\n",
      "488/488 [==============================] - 18s 37ms/step - loss: 0.0933 - accuracy: 0.9666 - recall_1: 0.5238 - val_loss: 0.1126 - val_accuracy: 0.9582 - val_recall_1: 0.4247\n",
      "Epoch 61/100\n",
      "487/488 [============================>.] - ETA: 0s - loss: 0.0924 - accuracy: 0.9661 - recall_1: 0.5188\n",
      "Epoch 61: saving model to Resnet50-model_mfcc.ckpt\n",
      "488/488 [==============================] - 18s 37ms/step - loss: 0.0926 - accuracy: 0.9660 - recall_1: 0.5170 - val_loss: 0.1197 - val_accuracy: 0.9623 - val_recall_1: 0.5890\n",
      "Epoch 62/100\n",
      "487/488 [============================>.] - ETA: 0s - loss: 0.0914 - accuracy: 0.9678 - recall_1: 0.5340\n",
      "Epoch 62: saving model to Resnet50-model_mfcc.ckpt\n",
      "488/488 [==============================] - 18s 37ms/step - loss: 0.0913 - accuracy: 0.9678 - recall_1: 0.5340 - val_loss: 0.1134 - val_accuracy: 0.9574 - val_recall_1: 0.3973\n",
      "Epoch 63/100\n",
      "487/488 [============================>.] - ETA: 0s - loss: 0.0900 - accuracy: 0.9686 - recall_1: 0.5461\n",
      "Epoch 63: saving model to Resnet50-model_mfcc.ckpt\n",
      "488/488 [==============================] - 18s 36ms/step - loss: 0.0909 - accuracy: 0.9684 - recall_1: 0.5442 - val_loss: 0.1144 - val_accuracy: 0.9623 - val_recall_1: 0.4932\n",
      "Epoch 64/100\n",
      "487/488 [============================>.] - ETA: 0s - loss: 0.0930 - accuracy: 0.9665 - recall_1: 0.5238\n",
      "Epoch 64: saving model to Resnet50-model_mfcc.ckpt\n",
      "488/488 [==============================] - 18s 36ms/step - loss: 0.0930 - accuracy: 0.9666 - recall_1: 0.5238 - val_loss: 0.1179 - val_accuracy: 0.9648 - val_recall_1: 0.5479\n",
      "Epoch 65/100\n",
      "487/488 [============================>.] - ETA: 0s - loss: 0.0917 - accuracy: 0.9667 - recall_1: 0.5272\n",
      "Epoch 65: saving model to Resnet50-model_mfcc.ckpt\n",
      "488/488 [==============================] - 18s 36ms/step - loss: 0.0916 - accuracy: 0.9668 - recall_1: 0.5272 - val_loss: 0.1143 - val_accuracy: 0.9590 - val_recall_1: 0.4795\n",
      "Epoch 66/100\n",
      "488/488 [==============================] - ETA: 0s - loss: 0.0914 - accuracy: 0.9662 - recall_1: 0.5170\n",
      "Epoch 66: saving model to Resnet50-model_mfcc.ckpt\n",
      "488/488 [==============================] - 18s 36ms/step - loss: 0.0914 - accuracy: 0.9662 - recall_1: 0.5170 - val_loss: 0.1196 - val_accuracy: 0.9631 - val_recall_1: 0.5890\n",
      "Epoch 67/100\n",
      "487/488 [============================>.] - ETA: 0s - loss: 0.0923 - accuracy: 0.9671 - recall_1: 0.5476\n",
      "Epoch 67: saving model to Resnet50-model_mfcc.ckpt\n",
      "488/488 [==============================] - 18s 38ms/step - loss: 0.0923 - accuracy: 0.9672 - recall_1: 0.5476 - val_loss: 0.1153 - val_accuracy: 0.9574 - val_recall_1: 0.4658\n"
     ]
    }
   ],
   "source": [
    "from tensorflow.keras.callbacks import EarlyStopping\n",
    "\n",
    "early_stopping = EarlyStopping(patience = 7)\n",
    "\n",
    "checkpoint_path='Resnet50-model_mfcc.ckpt'\n",
    "# Create a callback that saves the model's weights\n",
    "cp_callback = tf.keras.callbacks.ModelCheckpoint(filepath=checkpoint_path,\n",
    "                                                 save_weights_only=True,\n",
    "                                                 verbose=1)\n",
    "\n",
    "model.compile(loss = 'bce', optimizer = 'adam', metrics=['accuracy', tf.keras.metrics.Recall()])\n",
    "history_resnet = model.fit(X_train_rgb, y_train, epochs=100, \n",
    "                        validation_data=(X_val_rgb, y_val),\n",
    "                        batch_size=10,\n",
    "                        callbacks=[early_stopping, cp_callback])"
   ]
  },
  {
   "cell_type": "code",
   "execution_count": 16,
   "id": "0d2af5bf",
   "metadata": {},
   "outputs": [
    {
     "data": {
      "image/png": "[encoded data removed]",
      "text/plain": [
       "<Figure size 432x288 with 1 Axes>"
      ]
     },
     "metadata": {
      "needs_background": "light"
     },
     "output_type": "display_data"
    }
   ],
   "source": [
    "plt.plot(history_resnet.history['accuracy'], label='accuracy')\n",
    "plt.plot(history_resnet.history['val_accuracy'], label = 'val_accuracy')\n",
    "plt.xlabel('Epoch')\n",
    "plt.ylabel('Accuracy')\n",
    "plt.ylim([0.5, 1])\n",
    "plt.legend(loc='lower right')\n",
    "plt.show()"
   ]
  },
  {
   "cell_type": "code",
   "execution_count": 17,
   "id": "8a1551d0",
   "metadata": {},
   "outputs": [
    {
     "data": {
      "image/png": "[encoded data removed]",
      "text/plain": [
       "<Figure size 432x288 with 1 Axes>"
      ]
     },
     "metadata": {
      "needs_background": "light"
     },
     "output_type": "display_data"
    }
   ],
   "source": [
    "plt.plot(history_resnet.history['loss'], label='loss')\n",
    "plt.plot(history_resnet.history['val_loss'], label = 'val_loss')\n",
    "plt.xlabel('Epoch')\n",
    "plt.ylabel('Loss')\n",
    "plt.legend(loc='lower right')\n",
    "plt.show()"
   ]
  },
  {
   "cell_type": "code",
   "execution_count": 18,
   "id": "3b639ac1",
   "metadata": {},
   "outputs": [
    {
     "name": "stderr",
     "output_type": "stream",
     "text": [
      "2022-10-07 16:16:41.400998: W tensorflow/core/common_runtime/bfc_allocator.cc:290] Allocator (GPU_0_bfc) ran out of memory trying to allocate 2.27GiB with freed_by_count=0. The caller indicates that this is not a failure, but this may mean that there could be performance gains if more memory were available.\n",
      "2022-10-07 16:16:41.401083: W tensorflow/core/common_runtime/bfc_allocator.cc:290] Allocator (GPU_0_bfc) ran out of memory trying to allocate 2.27GiB with freed_by_count=0. The caller indicates that this is not a failure, but this may mean that there could be performance gains if more memory were available.\n",
      "2022-10-07 16:16:41.408071: W tensorflow/core/common_runtime/bfc_allocator.cc:290] Allocator (GPU_0_bfc) ran out of memory trying to allocate 2.29GiB with freed_by_count=0. The caller indicates that this is not a failure, but this may mean that there could be performance gains if more memory were available.\n",
      "2022-10-07 16:16:41.408110: W tensorflow/core/common_runtime/bfc_allocator.cc:290] Allocator (GPU_0_bfc) ran out of memory trying to allocate 2.29GiB with freed_by_count=0. The caller indicates that this is not a failure, but this may mean that there could be performance gains if more memory were available.\n"
     ]
    },
    {
     "name": "stdout",
     "output_type": "stream",
     "text": [
      "305/305 - 8s - loss: 0.1153 - accuracy: 0.9574 - recall_1: 0.4658 - 8s/epoch - 27ms/step\n"
     ]
    }
   ],
   "source": [
    "val_loss, val_acc, val_recall = model.evaluate(X_val_rgb,  y_val, verbose=2, batch_size=4)"
   ]
  },
  {
   "cell_type": "code",
   "execution_count": 19,
   "id": "1dc0f8b7",
   "metadata": {},
   "outputs": [
    {
     "name": "stdout",
     "output_type": "stream",
     "text": [
      "305/305 [==============================] - 8s 25ms/step\n"
     ]
    }
   ],
   "source": [
    "val_predictions = (model.predict(X_val_rgb, batch_size=4)>0.5).reshape(1,-1)[0].astype(int)\n",
    "val_real_values = y_val.T[0]"
   ]
  },
  {
   "cell_type": "code",
   "execution_count": 20,
   "id": "4fa5b8a6",
   "metadata": {},
   "outputs": [
    {
     "data": {
      "text/plain": [
       "0.560018240991064"
      ]
     },
     "execution_count": 20,
     "metadata": {},
     "output_type": "execute_result"
    }
   ],
   "source": [
    "matthews_corrcoef(val_real_values, val_predictions)"
   ]
  },
  {
   "cell_type": "code",
   "execution_count": null,
   "id": "241cffb9",
   "metadata": {},
   "outputs": [],
   "source": [
    "X_test_rgb = np.repeat(X_test, 3, -1)\n",
    "test_loss, test_acc, test_recall = model.evaluate(X_test_rgb,  y_test, verbose=2, batch_size=4)"
   ]
  },
  {
   "cell_type": "code",
   "execution_count": null,
   "id": "15dc188b",
   "metadata": {},
   "outputs": [],
   "source": [
    "test_predictions = (model.predict(X_test_rgb, batch_size=4)>0.5).reshape(1,-1)[0].astype(int)\n",
    "test_real_values = y_test.T[0]"
   ]
  },
  {
   "cell_type": "code",
   "execution_count": null,
   "id": "920a001b",
   "metadata": {},
   "outputs": [],
   "source": [
    "matthews_corrcoef(test_real_values, test_predictions)"
   ]
  }
 ],
 "metadata": {
  "kernelspec": {
   "display_name": "Python 3 (ipykernel)",
   "language": "python",
   "name": "python3"
  },
  "language_info": {
   "codemirror_mode": {
    "name": "ipython",
    "version": 3
   },
   "file_extension": ".py",
   "mimetype": "text/x-python",
   "name": "python",
   "nbconvert_exporter": "python",
   "pygments_lexer": "ipython3",
   "version": "3.10.4"
  }
 },
 "nbformat": 4,
 "nbformat_minor": 5
}
