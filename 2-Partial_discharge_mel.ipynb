{
 "cells": [
  {
   "cell_type": "markdown",
   "id": "6459a6b8",
   "metadata": {},
   "source": [
    "# Loading data"
   ]
  },
  {
   "cell_type": "code",
   "execution_count": 1,
   "id": "9f305545",
   "metadata": {},
   "outputs": [],
   "source": [
    "import numpy as np\n",
    "import matplotlib.pyplot as plt\n",
    "import matplotlib.animation as animation \n",
    "from pyts.image import MarkovTransitionField\n",
    "import dask.dataframe as dd  \n",
    "import pandas as pd\n",
    "\n",
    "\n",
    "from scipy import signal as sign\n",
    "from PIL import Image\n",
    "from sklearn.preprocessing import MinMaxScaler\n",
    "\n",
    "from sklearn.metrics import matthews_corrcoef\n",
    "\n",
    "import warnings\n",
    "warnings.filterwarnings('ignore')"
   ]
  },
  {
   "cell_type": "code",
   "execution_count": 2,
   "id": "a867ba97",
   "metadata": {},
   "outputs": [
    {
     "name": "stderr",
     "output_type": "stream",
     "text": [
      "2022-10-07 17:18:52.801020: I tensorflow/core/platform/cpu_feature_guard.cc:193] This TensorFlow binary is optimized with oneAPI Deep Neural Network Library (oneDNN) to use the following CPU instructions in performance-critical operations:  AVX2 FMA\n",
      "To enable them in other operations, rebuild TensorFlow with the appropriate compiler flags.\n",
      "2022-10-07 17:18:53.037036: E tensorflow/stream_executor/cuda/cuda_blas.cc:2981] Unable to register cuBLAS factory: Attempting to register factory for plugin cuBLAS when one has already been registered\n",
      "2022-10-07 17:18:53.819663: W tensorflow/stream_executor/platform/default/dso_loader.cc:64] Could not load dynamic library 'libnvinfer.so.7'; dlerror: libnvinfer.so.7: cannot open shared object file: No such file or directory\n",
      "2022-10-07 17:18:53.819784: W tensorflow/stream_executor/platform/default/dso_loader.cc:64] Could not load dynamic library 'libnvinfer_plugin.so.7'; dlerror: libnvinfer_plugin.so.7: cannot open shared object file: No such file or directory\n",
      "2022-10-07 17:18:53.819795: W tensorflow/compiler/tf2tensorrt/utils/py_utils.cc:38] TF-TRT Warning: Cannot dlopen some TensorRT libraries. If you would like to use Nvidia GPU with TensorRT, please make sure the missing libraries mentioned above are installed properly.\n"
     ]
    }
   ],
   "source": [
    "import tensorflow as tf\n",
    "from tensorflow.keras import datasets, layers, models\n",
    "import matplotlib.pyplot as plt\n",
    "\n",
    "root_dir = \"/home/polivares/scratch/Datasets/PowerLineFaults/\"\n",
    "\n",
    "X_train = np.load(root_dir + \"dataset_mel/train/images_train.npy\")\n",
    "y_train = np.load(root_dir + \"dataset_mel/train/labels_train.npy\")\n",
    "X_test = np.load(root_dir + \"dataset_mel/test/images_test.npy\")\n",
    "y_test = np.load(root_dir + \"dataset_mel/test/labels_test.npy\")\n",
    "X_val = np.load(root_dir + \"dataset_mel/val/images_val.npy\")\n",
    "y_val = np.load(root_dir + \"dataset_mel/val/labels_val.npy\")"
   ]
  },
  {
   "cell_type": "markdown",
   "id": "8dba8110",
   "metadata": {},
   "source": [
    "# CNN-model"
   ]
  },
  {
   "cell_type": "code",
   "execution_count": 3,
   "id": "638eaed7",
   "metadata": {},
   "outputs": [
    {
     "name": "stderr",
     "output_type": "stream",
     "text": [
      "2022-10-07 17:18:57.434626: I tensorflow/core/platform/cpu_feature_guard.cc:193] This TensorFlow binary is optimized with oneAPI Deep Neural Network Library (oneDNN) to use the following CPU instructions in performance-critical operations:  AVX2 FMA\n",
      "To enable them in other operations, rebuild TensorFlow with the appropriate compiler flags.\n",
      "2022-10-07 17:18:58.190619: I tensorflow/core/common_runtime/gpu/gpu_device.cc:1616] Created device /job:localhost/replica:0/task:0/device:GPU:0 with 9638 MB memory:  -> device: 0, name: NVIDIA GeForce RTX 2080 Ti, pci bus id: 0000:02:00.0, compute capability: 7.5\n"
     ]
    },
    {
     "name": "stdout",
     "output_type": "stream",
     "text": [
      "Model: \"sequential\"\n",
      "_________________________________________________________________\n",
      " Layer (type)                Output Shape              Param #   \n",
      "=================================================================\n",
      " conv2d (Conv2D)             (None, 254, 254, 256)     2560      \n",
      "                                                                 \n",
      " max_pooling2d (MaxPooling2D  (None, 127, 127, 256)    0         \n",
      " )                                                               \n",
      "                                                                 \n",
      " conv2d_1 (Conv2D)           (None, 125, 125, 128)     295040    \n",
      "                                                                 \n",
      " max_pooling2d_1 (MaxPooling  (None, 62, 62, 128)      0         \n",
      " 2D)                                                             \n",
      "                                                                 \n",
      " conv2d_2 (Conv2D)           (None, 60, 60, 64)        73792     \n",
      "                                                                 \n",
      " flatten (Flatten)           (None, 230400)            0         \n",
      "                                                                 \n",
      " dense (Dense)               (None, 64)                14745664  \n",
      "                                                                 \n",
      " dense_1 (Dense)             (None, 1)                 65        \n",
      "                                                                 \n",
      "=================================================================\n",
      "Total params: 15,117,121\n",
      "Trainable params: 15,117,121\n",
      "Non-trainable params: 0\n",
      "_________________________________________________________________\n"
     ]
    }
   ],
   "source": [
    "# Creación de modelo\n",
    "model = models.Sequential()\n",
    "# Capas encargadas de obtener información de la imagen\n",
    "model.add(layers.Conv2D(256, (3, 3), activation='relu', input_shape=(256,256,1)))\n",
    "model.add(layers.MaxPooling2D((2, 2)))\n",
    "model.add(layers.Conv2D(128, (3, 3), activation='relu'))\n",
    "model.add(layers.MaxPooling2D((2, 2)))\n",
    "model.add(layers.Conv2D(64, (3, 3), activation='relu'))\n",
    "# Capas para la clasificación en base a la información obtenida en \n",
    "# capas anteriores\n",
    "model.add(layers.Flatten())\n",
    "model.add(layers.Dense(64, activation='relu'))\n",
    "model.add(layers.Dense(1, activation = 'sigmoid'))\n",
    "model.summary()"
   ]
  },
  {
   "cell_type": "code",
   "execution_count": 4,
   "id": "ffbd3858",
   "metadata": {},
   "outputs": [
    {
     "name": "stdout",
     "output_type": "stream",
     "text": [
      "Epoch 1/100\n"
     ]
    },
    {
     "name": "stderr",
     "output_type": "stream",
     "text": [
      "2022-10-07 17:19:04.414494: I tensorflow/stream_executor/cuda/cuda_dnn.cc:384] Loaded cuDNN version 8204\n"
     ]
    },
    {
     "name": "stdout",
     "output_type": "stream",
     "text": [
      "488/488 [==============================] - ETA: 0s - loss: 1.0620 - accuracy: 0.9340 - recall: 0.0068\n",
      "Epoch 1: saving model to CNN-model_mel.ckpt\n",
      "488/488 [==============================] - 25s 44ms/step - loss: 1.0620 - accuracy: 0.9340 - recall: 0.0068 - val_loss: 0.2176 - val_accuracy: 0.9402 - val_recall: 0.0000e+00\n",
      "Epoch 2/100\n",
      "487/488 [============================>.] - ETA: 0s - loss: 0.1990 - accuracy: 0.9398 - recall: 0.0000e+00\n",
      "Epoch 2: saving model to CNN-model_mel.ckpt\n",
      "488/488 [==============================] - 21s 43ms/step - loss: 0.1994 - accuracy: 0.9397 - recall: 0.0000e+00 - val_loss: 0.2094 - val_accuracy: 0.9402 - val_recall: 0.0000e+00\n",
      "Epoch 3/100\n",
      "487/488 [============================>.] - ETA: 0s - loss: 0.1736 - accuracy: 0.9400 - recall: 0.0170\n",
      "Epoch 3: saving model to CNN-model_mel.ckpt\n",
      "488/488 [==============================] - 21s 43ms/step - loss: 0.1733 - accuracy: 0.9401 - recall: 0.0170 - val_loss: 0.2783 - val_accuracy: 0.9402 - val_recall: 0.0000e+00\n",
      "Epoch 4/100\n",
      "487/488 [============================>.] - ETA: 0s - loss: 0.1731 - accuracy: 0.9405 - recall: 0.0204\n",
      "Epoch 4: saving model to CNN-model_mel.ckpt\n",
      "488/488 [==============================] - 21s 43ms/step - loss: 0.1729 - accuracy: 0.9405 - recall: 0.0204 - val_loss: 0.2319 - val_accuracy: 0.9402 - val_recall: 0.0000e+00\n",
      "Epoch 5/100\n",
      "487/488 [============================>.] - ETA: 0s - loss: 0.1301 - accuracy: 0.9470 - recall: 0.1809\n",
      "Epoch 5: saving model to CNN-model_mel.ckpt\n",
      "488/488 [==============================] - 21s 43ms/step - loss: 0.1306 - accuracy: 0.9469 - recall: 0.1803 - val_loss: 0.2570 - val_accuracy: 0.9262 - val_recall: 0.0411\n",
      "Epoch 6/100\n",
      "487/488 [============================>.] - ETA: 0s - loss: 0.1424 - accuracy: 0.9548 - recall: 0.3571\n",
      "Epoch 6: saving model to CNN-model_mel.ckpt\n",
      "488/488 [==============================] - 21s 43ms/step - loss: 0.1422 - accuracy: 0.9549 - recall: 0.3571 - val_loss: 0.3689 - val_accuracy: 0.9385 - val_recall: 0.0137\n",
      "Epoch 7/100\n",
      "487/488 [============================>.] - ETA: 0s - loss: 0.0835 - accuracy: 0.9690 - recall: 0.6020\n",
      "Epoch 7: saving model to CNN-model_mel.ckpt\n",
      "488/488 [==============================] - 21s 43ms/step - loss: 0.0834 - accuracy: 0.9690 - recall: 0.6020 - val_loss: 0.4611 - val_accuracy: 0.9344 - val_recall: 0.0274\n",
      "Epoch 8/100\n",
      "487/488 [============================>.] - ETA: 0s - loss: 0.0464 - accuracy: 0.9809 - recall: 0.7585\n",
      "Epoch 8: saving model to CNN-model_mel.ckpt\n",
      "488/488 [==============================] - 21s 44ms/step - loss: 0.0463 - accuracy: 0.9809 - recall: 0.7585 - val_loss: 0.4822 - val_accuracy: 0.9107 - val_recall: 0.2055\n",
      "Epoch 9/100\n",
      "487/488 [============================>.] - ETA: 0s - loss: 0.0521 - accuracy: 0.9830 - recall: 0.8095\n",
      "Epoch 9: saving model to CNN-model_mel.ckpt\n",
      "488/488 [==============================] - 21s 44ms/step - loss: 0.0520 - accuracy: 0.9830 - recall: 0.8095 - val_loss: 0.5674 - val_accuracy: 0.9336 - val_recall: 0.0548\n"
     ]
    }
   ],
   "source": [
    "from tensorflow.keras.callbacks import EarlyStopping\n",
    "\n",
    "early_stopping = EarlyStopping(patience = 7)\n",
    "\n",
    "checkpoint_path='CNN-model_mel.ckpt'\n",
    "# Create a callback that saves the model's weights\n",
    "cp_callback = tf.keras.callbacks.ModelCheckpoint(filepath=checkpoint_path,\n",
    "                                                 save_weights_only=True,\n",
    "                                                 verbose=1)\n",
    "\n",
    "model.compile(loss = 'bce', optimizer = 'adam', metrics=['accuracy', tf.keras.metrics.Recall()])\n",
    "history_cnn = model.fit(X_train, y_train, epochs=100, \n",
    "                        validation_data=(X_val, y_val),\n",
    "                        batch_size=10,\n",
    "                        callbacks=[early_stopping, cp_callback])"
   ]
  },
  {
   "cell_type": "code",
   "execution_count": 5,
   "id": "bd7655b5",
   "metadata": {},
   "outputs": [
    {
     "data": {
      "image/png": "[encoded data removed]",
      "text/plain": [
       "<Figure size 432x288 with 1 Axes>"
      ]
     },
     "metadata": {
      "needs_background": "light"
     },
     "output_type": "display_data"
    }
   ],
   "source": [
    "plt.plot(history_cnn.history['accuracy'], label='accuracy')\n",
    "plt.plot(history_cnn.history['val_accuracy'], label = 'val_accuracy')\n",
    "plt.xlabel('Epoch')\n",
    "plt.ylabel('Accuracy')\n",
    "plt.ylim([0.5, 1])\n",
    "plt.legend(loc='lower right')\n",
    "plt.show()"
   ]
  },
  {
   "cell_type": "code",
   "execution_count": 6,
   "id": "19009ccc",
   "metadata": {},
   "outputs": [
    {
     "data": {
      "image/png": "[encoded data removed]",
      "text/plain": [
       "<Figure size 432x288 with 1 Axes>"
      ]
     },
     "metadata": {
      "needs_background": "light"
     },
     "output_type": "display_data"
    }
   ],
   "source": [
    "plt.plot(history_cnn.history['loss'], label='loss')\n",
    "plt.plot(history_cnn.history['val_loss'], label = 'val_loss')\n",
    "plt.xlabel('Epoch')\n",
    "plt.ylabel('Loss')\n",
    "plt.legend(loc='lower right')\n",
    "plt.show()"
   ]
  },
  {
   "cell_type": "code",
   "execution_count": 7,
   "id": "5b2e043c",
   "metadata": {},
   "outputs": [
    {
     "name": "stdout",
     "output_type": "stream",
     "text": [
      "305/305 - 3s - loss: 0.5674 - accuracy: 0.9336 - recall: 0.0548 - 3s/epoch - 8ms/step\n"
     ]
    }
   ],
   "source": [
    "val_loss, val_acc, val_recall = model.evaluate(X_val,  y_val, verbose=2, batch_size=4)"
   ]
  },
  {
   "cell_type": "code",
   "execution_count": 8,
   "id": "b995ef1b",
   "metadata": {},
   "outputs": [
    {
     "name": "stdout",
     "output_type": "stream",
     "text": [
      "305/305 [==============================] - 2s 5ms/step\n"
     ]
    }
   ],
   "source": [
    "val_predictions = (model.predict(X_val, batch_size=4)>0.5).reshape(1,-1)[0].astype(int)\n",
    "val_real_values = y_val.T[0]"
   ]
  },
  {
   "cell_type": "code",
   "execution_count": 9,
   "id": "e139f0da",
   "metadata": {},
   "outputs": [
    {
     "data": {
      "text/plain": [
       "0.09242545425819584"
      ]
     },
     "execution_count": 9,
     "metadata": {},
     "output_type": "execute_result"
    }
   ],
   "source": [
    "matthews_corrcoef(val_real_values, val_predictions)"
   ]
  },
  {
   "cell_type": "code",
   "execution_count": 10,
   "id": "c7981d37",
   "metadata": {},
   "outputs": [
    {
     "name": "stdout",
     "output_type": "stream",
     "text": [
      "654/654 - 5s - loss: 0.5128 - accuracy: 0.9269 - recall: 0.1013 - 5s/epoch - 7ms/step\n"
     ]
    }
   ],
   "source": [
    "test_loss, test_acc, test_recall = model.evaluate(X_test,  y_test, verbose=2, batch_size=4)"
   ]
  },
  {
   "cell_type": "code",
   "execution_count": 11,
   "id": "acdb52d5",
   "metadata": {},
   "outputs": [
    {
     "name": "stdout",
     "output_type": "stream",
     "text": [
      "654/654 [==============================] - 4s 5ms/step\n"
     ]
    }
   ],
   "source": [
    "test_predictions = (model.predict(X_test, batch_size=4)>0.5).reshape(1,-1)[0].astype(int)\n",
    "test_real_values = y_test.T[0]"
   ]
  },
  {
   "cell_type": "code",
   "execution_count": 12,
   "id": "4963ab1e",
   "metadata": {},
   "outputs": [
    {
     "data": {
      "text/plain": [
       "0.12444289344870849"
      ]
     },
     "execution_count": 12,
     "metadata": {},
     "output_type": "execute_result"
    }
   ],
   "source": [
    "matthews_corrcoef(test_real_values, test_predictions)"
   ]
  },
  {
   "cell_type": "markdown",
   "id": "9510cd1e",
   "metadata": {},
   "source": [
    "# Resnet-model"
   ]
  },
  {
   "cell_type": "code",
   "execution_count": 13,
   "id": "c45a6cd8",
   "metadata": {},
   "outputs": [],
   "source": [
    "# Transfer Learning\n",
    "base_model = tf.keras.applications.ResNet50(include_top=False, weights='imagenet', input_shape=(256, 256, 3))\n",
    "avg = tf.keras.layers.GlobalAveragePooling2D()(base_model.output)\n",
    "output = tf.keras.layers.Dense(1, activation=\"sigmoid\")(avg)\n",
    "\n",
    "model = tf.keras.Model(inputs=base_model.input, outputs=output)\n",
    "\n",
    "for layer in base_model.layers:\n",
    "    layer.trainable = False # Esto impide que las capas se re entrenen"
   ]
  },
  {
   "cell_type": "code",
   "execution_count": 14,
   "id": "7a111b8c",
   "metadata": {},
   "outputs": [],
   "source": [
    "X_train_rgb = np.repeat(X_train, 3, -1)\n",
    "X_val_rgb = np.repeat(X_val, 3, -1)"
   ]
  },
  {
   "cell_type": "code",
   "execution_count": 15,
   "id": "6d25ee12",
   "metadata": {},
   "outputs": [
    {
     "name": "stdout",
     "output_type": "stream",
     "text": [
      "Epoch 1/100\n",
      "488/488 [==============================] - ETA: 0s - loss: 0.2040 - accuracy: 0.9391 - recall_1: 0.0272\n",
      "Epoch 1: saving model to Resnet50-model_mel.ckpt\n",
      "488/488 [==============================] - 24s 41ms/step - loss: 0.2040 - accuracy: 0.9391 - recall_1: 0.0272 - val_loss: 0.1928 - val_accuracy: 0.9434 - val_recall_1: 0.1096\n",
      "Epoch 2/100\n",
      "487/488 [============================>.] - ETA: 0s - loss: 0.1825 - accuracy: 0.9419 - recall_1: 0.0816\n",
      "Epoch 2: saving model to Resnet50-model_mel.ckpt\n",
      "488/488 [==============================] - 18s 37ms/step - loss: 0.1823 - accuracy: 0.9420 - recall_1: 0.0816 - val_loss: 0.1853 - val_accuracy: 0.9443 - val_recall_1: 0.0822\n",
      "Epoch 3/100\n",
      "487/488 [============================>.] - ETA: 0s - loss: 0.1777 - accuracy: 0.9425 - recall_1: 0.0956\n",
      "Epoch 3: saving model to Resnet50-model_mel.ckpt\n",
      "488/488 [==============================] - 18s 37ms/step - loss: 0.1778 - accuracy: 0.9422 - recall_1: 0.0952 - val_loss: 0.1785 - val_accuracy: 0.9443 - val_recall_1: 0.0822\n",
      "Epoch 4/100\n",
      "487/488 [============================>.] - ETA: 0s - loss: 0.1753 - accuracy: 0.9423 - recall_1: 0.0753\n",
      "Epoch 4: saving model to Resnet50-model_mel.ckpt\n",
      "488/488 [==============================] - 18s 36ms/step - loss: 0.1754 - accuracy: 0.9422 - recall_1: 0.0782 - val_loss: 0.1763 - val_accuracy: 0.9443 - val_recall_1: 0.1096\n",
      "Epoch 5/100\n",
      "487/488 [============================>.] - ETA: 0s - loss: 0.1720 - accuracy: 0.9435 - recall_1: 0.1190\n",
      "Epoch 5: saving model to Resnet50-model_mel.ckpt\n",
      "488/488 [==============================] - 18s 36ms/step - loss: 0.1717 - accuracy: 0.9436 - recall_1: 0.1190 - val_loss: 0.1783 - val_accuracy: 0.9443 - val_recall_1: 0.0822\n",
      "Epoch 6/100\n",
      "487/488 [============================>.] - ETA: 0s - loss: 0.1717 - accuracy: 0.9441 - recall_1: 0.1229\n",
      "Epoch 6: saving model to Resnet50-model_mel.ckpt\n",
      "488/488 [==============================] - 18s 36ms/step - loss: 0.1717 - accuracy: 0.9440 - recall_1: 0.1224 - val_loss: 0.1753 - val_accuracy: 0.9443 - val_recall_1: 0.0822\n",
      "Epoch 7/100\n",
      "487/488 [============================>.] - ETA: 0s - loss: 0.1685 - accuracy: 0.9446 - recall_1: 0.1224\n",
      "Epoch 7: saving model to Resnet50-model_mel.ckpt\n",
      "488/488 [==============================] - 18s 36ms/step - loss: 0.1683 - accuracy: 0.9446 - recall_1: 0.1224 - val_loss: 0.1792 - val_accuracy: 0.9443 - val_recall_1: 0.0822\n",
      "Epoch 8/100\n",
      "487/488 [============================>.] - ETA: 0s - loss: 0.1697 - accuracy: 0.9446 - recall_1: 0.1463\n",
      "Epoch 8: saving model to Resnet50-model_mel.ckpt\n",
      "488/488 [==============================] - 18s 36ms/step - loss: 0.1695 - accuracy: 0.9446 - recall_1: 0.1463 - val_loss: 0.1784 - val_accuracy: 0.9451 - val_recall_1: 0.0822\n",
      "Epoch 9/100\n",
      "487/488 [============================>.] - ETA: 0s - loss: 0.1665 - accuracy: 0.9448 - recall_1: 0.1327\n",
      "Epoch 9: saving model to Resnet50-model_mel.ckpt\n",
      "488/488 [==============================] - 18s 36ms/step - loss: 0.1663 - accuracy: 0.9449 - recall_1: 0.1327 - val_loss: 0.1731 - val_accuracy: 0.9443 - val_recall_1: 0.0959\n",
      "Epoch 10/100\n",
      "487/488 [============================>.] - ETA: 0s - loss: 0.1672 - accuracy: 0.9466 - recall_1: 0.1536\n",
      "Epoch 10: saving model to Resnet50-model_mel.ckpt\n",
      "488/488 [==============================] - 18s 36ms/step - loss: 0.1674 - accuracy: 0.9465 - recall_1: 0.1531 - val_loss: 0.1739 - val_accuracy: 0.9451 - val_recall_1: 0.0959\n",
      "Epoch 11/100\n",
      "487/488 [============================>.] - ETA: 0s - loss: 0.1625 - accuracy: 0.9450 - recall_1: 0.1644\n",
      "Epoch 11: saving model to Resnet50-model_mel.ckpt\n",
      "488/488 [==============================] - 18s 36ms/step - loss: 0.1631 - accuracy: 0.9446 - recall_1: 0.1633 - val_loss: 0.1778 - val_accuracy: 0.9451 - val_recall_1: 0.0822\n",
      "Epoch 12/100\n",
      "487/488 [============================>.] - ETA: 0s - loss: 0.1642 - accuracy: 0.9452 - recall_1: 0.1395\n",
      "Epoch 12: saving model to Resnet50-model_mel.ckpt\n",
      "488/488 [==============================] - 18s 36ms/step - loss: 0.1640 - accuracy: 0.9453 - recall_1: 0.1395 - val_loss: 0.1754 - val_accuracy: 0.9434 - val_recall_1: 0.1096\n",
      "Epoch 13/100\n",
      "488/488 [==============================] - ETA: 0s - loss: 0.1631 - accuracy: 0.9451 - recall_1: 0.1531\n",
      "Epoch 13: saving model to Resnet50-model_mel.ckpt\n",
      "488/488 [==============================] - 18s 36ms/step - loss: 0.1631 - accuracy: 0.9451 - recall_1: 0.1531 - val_loss: 0.1754 - val_accuracy: 0.9443 - val_recall_1: 0.0822\n",
      "Epoch 14/100\n",
      "487/488 [============================>.] - ETA: 0s - loss: 0.1603 - accuracy: 0.9460 - recall_1: 0.1531\n",
      "Epoch 14: saving model to Resnet50-model_mel.ckpt\n",
      "488/488 [==============================] - 17s 36ms/step - loss: 0.1601 - accuracy: 0.9461 - recall_1: 0.1531 - val_loss: 0.1950 - val_accuracy: 0.9451 - val_recall_1: 0.0822\n",
      "Epoch 15/100\n",
      "487/488 [============================>.] - ETA: 0s - loss: 0.1617 - accuracy: 0.9462 - recall_1: 0.1633\n",
      "Epoch 15: saving model to Resnet50-model_mel.ckpt\n",
      "488/488 [==============================] - 18s 36ms/step - loss: 0.1615 - accuracy: 0.9463 - recall_1: 0.1633 - val_loss: 0.1781 - val_accuracy: 0.9451 - val_recall_1: 0.0959\n",
      "Epoch 16/100\n",
      "487/488 [============================>.] - ETA: 0s - loss: 0.1602 - accuracy: 0.9458 - recall_1: 0.1575\n",
      "Epoch 16: saving model to Resnet50-model_mel.ckpt\n",
      "488/488 [==============================] - 18s 37ms/step - loss: 0.1605 - accuracy: 0.9457 - recall_1: 0.1599 - val_loss: 0.1751 - val_accuracy: 0.9451 - val_recall_1: 0.0959\n"
     ]
    }
   ],
   "source": [
    "from tensorflow.keras.callbacks import EarlyStopping\n",
    "\n",
    "early_stopping = EarlyStopping(patience = 7)\n",
    "\n",
    "checkpoint_path='Resnet50-model_mel.ckpt'\n",
    "# Create a callback that saves the model's weights\n",
    "cp_callback = tf.keras.callbacks.ModelCheckpoint(filepath=checkpoint_path,\n",
    "                                                 save_weights_only=True,\n",
    "                                                 verbose=1)\n",
    "\n",
    "model.compile(loss = 'bce', optimizer = 'adam', metrics=['accuracy', tf.keras.metrics.Recall()])\n",
    "history_resnet = model.fit(X_train_rgb, y_train, epochs=100, \n",
    "                        validation_data=(X_val_rgb, y_val),\n",
    "                        batch_size=10,\n",
    "                        callbacks=[early_stopping, cp_callback])"
   ]
  },
  {
   "cell_type": "code",
   "execution_count": 16,
   "id": "0d2af5bf",
   "metadata": {},
   "outputs": [
    {
     "data": {
      "image/png": "[encoded data removed]",
      "text/plain": [
       "<Figure size 432x288 with 1 Axes>"
      ]
     },
     "metadata": {
      "needs_background": "light"
     },
     "output_type": "display_data"
    }
   ],
   "source": [
    "plt.plot(history_resnet.history['accuracy'], label='accuracy')\n",
    "plt.plot(history_resnet.history['val_accuracy'], label = 'val_accuracy')\n",
    "plt.xlabel('Epoch')\n",
    "plt.ylabel('Accuracy')\n",
    "plt.ylim([0.5, 1])\n",
    "plt.legend(loc='lower right')\n",
    "plt.show()"
   ]
  },
  {
   "cell_type": "code",
   "execution_count": 17,
   "id": "8a1551d0",
   "metadata": {},
   "outputs": [
    {
     "data": {
      "image/png": "[encoded data removed]",
      "text/plain": [
       "<Figure size 432x288 with 1 Axes>"
      ]
     },
     "metadata": {
      "needs_background": "light"
     },
     "output_type": "display_data"
    }
   ],
   "source": [
    "plt.plot(history_resnet.history['loss'], label='loss')\n",
    "plt.plot(history_resnet.history['val_loss'], label = 'val_loss')\n",
    "plt.xlabel('Epoch')\n",
    "plt.ylabel('Loss')\n",
    "plt.legend(loc='lower right')\n",
    "plt.show()"
   ]
  },
  {
   "cell_type": "code",
   "execution_count": 18,
   "id": "3b639ac1",
   "metadata": {},
   "outputs": [
    {
     "name": "stdout",
     "output_type": "stream",
     "text": [
      "305/305 - 8s - loss: 0.1751 - accuracy: 0.9451 - recall_1: 0.0959 - 8s/epoch - 26ms/step\n"
     ]
    }
   ],
   "source": [
    "val_loss, val_acc, val_recall = model.evaluate(X_val_rgb,  y_val, verbose=2, batch_size=4)"
   ]
  },
  {
   "cell_type": "code",
   "execution_count": 19,
   "id": "1dc0f8b7",
   "metadata": {},
   "outputs": [
    {
     "name": "stdout",
     "output_type": "stream",
     "text": [
      "305/305 [==============================] - 7s 20ms/step\n"
     ]
    }
   ],
   "source": [
    "val_predictions = (model.predict(X_val_rgb, batch_size=4)>0.5).reshape(1,-1)[0].astype(int)\n",
    "val_real_values = y_val.T[0]"
   ]
  },
  {
   "cell_type": "code",
   "execution_count": 20,
   "id": "4fa5b8a6",
   "metadata": {},
   "outputs": [
    {
     "data": {
      "text/plain": [
       "0.279225663784422"
      ]
     },
     "execution_count": 20,
     "metadata": {},
     "output_type": "execute_result"
    }
   ],
   "source": [
    "matthews_corrcoef(val_real_values, val_predictions)"
   ]
  },
  {
   "cell_type": "code",
   "execution_count": null,
   "id": "241cffb9",
   "metadata": {},
   "outputs": [],
   "source": [
    "X_test_rgb = np.repeat(X_test, 3, -1)\n",
    "test_loss, test_acc, test_recall = model.evaluate(X_test_rgb,  y_test, verbose=2, batch_size=4)"
   ]
  },
  {
   "cell_type": "code",
   "execution_count": null,
   "id": "15dc188b",
   "metadata": {},
   "outputs": [],
   "source": [
    "test_predictions = (model.predict(X_test_rgb, batch_size=4)>0.5).reshape(1,-1)[0].astype(int)\n",
    "test_real_values = y_test.T[0]"
   ]
  },
  {
   "cell_type": "code",
   "execution_count": null,
   "id": "920a001b",
   "metadata": {},
   "outputs": [],
   "source": [
    "matthews_corrcoef(test_real_values, test_predictions)"
   ]
  }
 ],
 "metadata": {
  "kernelspec": {
   "display_name": "Python 3 (ipykernel)",
   "language": "python",
   "name": "python3"
  },
  "language_info": {
   "codemirror_mode": {
    "name": "ipython",
    "version": 3
   },
   "file_extension": ".py",
   "mimetype": "text/x-python",
   "name": "python",
   "nbconvert_exporter": "python",
   "pygments_lexer": "ipython3",
   "version": "3.10.4"
  }
 },
 "nbformat": 4,
 "nbformat_minor": 5
}
