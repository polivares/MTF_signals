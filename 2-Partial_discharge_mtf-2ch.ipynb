{
 "cells": [
  {
   "cell_type": "markdown",
   "id": "6459a6b8",
   "metadata": {},
   "source": [
    "# Loading data"
   ]
  },
  {
   "cell_type": "code",
   "execution_count": 1,
   "id": "9f305545",
   "metadata": {},
   "outputs": [],
   "source": [
    "import numpy as np\n",
    "import matplotlib.pyplot as plt\n",
    "import matplotlib.animation as animation \n",
    "from pyts.image import MarkovTransitionField\n",
    "import dask.dataframe as dd  \n",
    "import pandas as pd\n",
    "    \n",
    "\n",
    "from scipy import signal as sign\n",
    "from PIL import Image\n",
    "from sklearn.preprocessing import MinMaxScaler\n",
    "\n",
    "from sklearn.metrics import matthews_corrcoef\n",
    "\n",
    "import warnings\n",
    "warnings.filterwarnings('ignore')"
   ]
  },
  {
   "cell_type": "code",
   "execution_count": 2,
   "id": "a867ba97",
   "metadata": {},
   "outputs": [
    {
     "name": "stderr",
     "output_type": "stream",
     "text": [
      "2022-10-22 22:39:46.065579: I tensorflow/core/platform/cpu_feature_guard.cc:193] This TensorFlow binary is optimized with oneAPI Deep Neural Network Library (oneDNN) to use the following CPU instructions in performance-critical operations:  AVX2 AVX512F AVX512_VNNI FMA\n",
      "To enable them in other operations, rebuild TensorFlow with the appropriate compiler flags.\n",
      "2022-10-22 22:39:46.241274: I tensorflow/core/util/util.cc:169] oneDNN custom operations are on. You may see slightly different numerical results due to floating-point round-off errors from different computation orders. To turn them off, set the environment variable `TF_ENABLE_ONEDNN_OPTS=0`.\n",
      "2022-10-22 22:39:46.285287: E tensorflow/stream_executor/cuda/cuda_blas.cc:2981] Unable to register cuBLAS factory: Attempting to register factory for plugin cuBLAS when one has already been registered\n",
      "2022-10-22 22:39:46.948159: W tensorflow/stream_executor/platform/default/dso_loader.cc:64] Could not load dynamic library 'libnvinfer.so.7'; dlerror: libnvinfer.so.7: cannot open shared object file: No such file or directory; LD_LIBRARY_PATH: /usr/lib/cuda/include:/usr/lib/cuda/lib64:\n",
      "2022-10-22 22:39:46.948469: W tensorflow/stream_executor/platform/default/dso_loader.cc:64] Could not load dynamic library 'libnvinfer_plugin.so.7'; dlerror: libnvinfer_plugin.so.7: cannot open shared object file: No such file or directory; LD_LIBRARY_PATH: /usr/lib/cuda/include:/usr/lib/cuda/lib64:\n",
      "2022-10-22 22:39:46.948474: W tensorflow/compiler/tf2tensorrt/utils/py_utils.cc:38] TF-TRT Warning: Cannot dlopen some TensorRT libraries. If you would like to use Nvidia GPU with TensorRT, please make sure the missing libraries mentioned above are installed properly.\n"
     ]
    },
    {
     "name": "stdout",
     "output_type": "stream",
     "text": [
      "[   0    1    2    6    7    8    9   10   11   12   13   14   15   16\n",
      "   17   18   19   20   21   22   23   24   25   26   27   28   29   30\n",
      "   31   32   33   34   35   36   37   38   39   40   41   42   43   44\n",
      "   45   46   47   48   49   50   51   52   53   54   55   56   57   58\n",
      "   59   60   61   62   63   64   65   66   67   68   69   70   71   72\n",
      "   73   74   75   76   77   78   79   80   81   82   83   84   85   86\n",
      "   87   88   89   90   91   92   93   94   95   96   97   98   99  100\n",
      "  101  102  103  104  105  106  107  108  109  110  111  112  113  114\n",
      "  115  116  117  118  119  120  121  122  123  124  125  126  127  128\n",
      "  129  130  131  132  133  134  135  136  137  138  139  140  141  142\n",
      "  143  144  145  146  147  148  149  150  151  152  153  154  155  156\n",
      "  157  158  159  160  161  162  163  164  165  166  167  168  169  170\n",
      "  171  172  173  174  175  176  177    3    4    5  201  202  228  229\n",
      "  230  270  271  272  279  280  281  285  286  287  290  294  295  296\n",
      "  380  408  409  410  432  433  434  435  436  437  456  457  458  479\n",
      "  516  517  518  570  571  572  678  679  680  699  700  701  705  706\n",
      "  707  708  709  710  813  876  877  878  903  912  913  914  939  940\n",
      "  941 1002 1003 1004 1017 1018 1019 1026 1027 1028 1032 1033 1034 1050\n",
      " 1051 1052 1074 1075 1076 1083 1084 1085 1134 1135 1136 1263 1264 1265\n",
      " 1331 1335 1336 1337 1434 1435 1436 1449 1450 1451 1455 1456 1457 1554\n",
      " 1575 1576 1577 1737 1738 1739 1803 1805 1824 1826 1860 1862 1884 1885\n",
      " 1886 1899 1900 1901 1992 1993 1994 2085 2086 2087 2097 2098 2099 2115\n",
      " 2116 2117 2118 2119 2139 2140 2141 2160 2161 2162 2169 2170 2171 2193\n",
      " 2194 2195 2277 2278 2279 2307 2308 2309 2322 2323 2324 2343 2344 2345\n",
      " 2352 2353 2354 2418 2419 2420 2514 2515 2516 2628 2629 2630 2640 2641]\n",
      "[ 160 2420 2160  913  158 1450 2097  710 1457  272   78  127  171  129\n",
      "  176   42 1901   80   59  121  912   48  230 1436   85   28  941   12\n",
      "   96  296 1886    5   25  122 1577   58   45   33  458 2117  116   87\n",
      " 2353    8 1033  155   60 1824   76 2195 2354    6  111  112 1003 1739\n",
      "   49  435   75  117    4   36   66 2418   79   97  229  202  410 2279\n",
      "  813   81   93   19   69 1805   10  113  434 2118 2139  140  156  104\n",
      " 1136   63 2629 1032 1034  516 2141   20  143   27 2115 2323  705 1002\n",
      " 2628  408  135 1084 2308 2344   22  142   82  119   21  706  107 1435\n",
      "   34 1074  151  228 2324 2098 1265  166   62  150 1884  114  148   18\n",
      "  700    9 1052  878   13  161 1456   84  699  380  175    3  903 2309\n",
      "   95   72 2085   99  146 1335  100 2516   71   26   40  147  125   70\n",
      " 1554 1826  128  149  294   89 1899  479 1900  168 1331  170 1026 1019\n",
      " 1017  132   41   14  708  270  115  707 1075  120 2194 2352 2278 2161\n",
      "  167 1576 2277  157  940    2  118 1028  295 1575  123 1803  409 2086\n",
      "  130   77 1737   32   86 1860  110  876  517  136  271 1076   47 2193\n",
      "   68 1135   88  279   73  162   15   38   31  173  145  153  701  134\n",
      " 1027   54   98 1336  201  436  126   44   92 2343  456  139   29 2514\n",
      "  144 1862    7    0 2307 1993 2162  103  709  290 1994  680  570  106\n",
      "  174  101   39  572   64   50   35  432 2119   30 1451  877 1134  165\n",
      " 1992  141   65  138  131   11   67   17  159   43 2171 1738  678 2087\n",
      "  939  457  518 2169 1050 2419 2170 1337  433  164   46  679  286 1085\n",
      "  108   56    1   52   83  437   37 1263   94   55 1264 1004   16   91\n",
      " 1449  169 2515  137 2099 2345 1018   57   53  177  285 2630  280  172\n",
      "   61   51  914 1051   24 2140  163 1455  287 1885 1083 2116  152  133\n",
      "  154  102   90 2322  571  124 2641   23  281   74  109 1434 2640  105]\n"
     ]
    }
   ],
   "source": [
    "import tensorflow as tf\n",
    "from tensorflow.keras import datasets, layers, models\n",
    "import matplotlib.pyplot as plt\n",
    "\n",
    "spectrogram = 'spectrogram' # 'spectrogram', 'mel', 'mfcc', 'mtf'\n",
    "\n",
    "# # root_dir = \"/home/polivares/scratch/Datasets/PowerLineFaults/\"\n",
    "root_dir = '/home/polivares/Dropbox/Work/PostDoc/PowerLineFaults/'\n",
    "\n",
    "X_full = np.load(f\"{root_dir}dataset_{spectrogram}/full/images_full.npy\")\n",
    "y_full = np.load(f\"{root_dir}dataset_{spectrogram}/full/labels_full.npy\").reshape(-1)\n",
    "\n",
    "\n",
    "np.random.seed(42)\n",
    "tf.random.set_seed(42)\n",
    "\n",
    "# Index 1\n",
    "\n",
    "index_1 = np.where(y_full==1)[0]\n",
    "len_index_1 = len(index_1)\n",
    "index_train_1, index_val_1, index_test_1 = index_1[:len_index_1//3], index_1[len_index_1//3:2*len_index_1//3], index_1[2*len_index_1//3:]\n",
    "\n",
    "# Index 0\n",
    "\n",
    "index_0 = np.where(y_full==0)[0]\n",
    "index_train_0, index_val_0, index_test_0 = index_0[:len_index_1//3], index_0[len_index_1//3:2*len_index_1//3], index_0[2*len_index_1//3:]\n",
    "\n",
    "index_train = np.concatenate([index_train_0, index_train_1])\n",
    "print(index_train)\n",
    "np.random.shuffle(index_train)\n",
    "\n",
    "print(index_train)\n",
    "\n",
    "index_val = np.concatenate([index_val_0, index_val_1])\n",
    "np.random.shuffle(index_val)\n",
    "\n",
    "index_test = np.concatenate([index_test_0, index_test_1])\n",
    "np.random.shuffle(index_test)\n"
   ]
  },
  {
   "cell_type": "code",
   "execution_count": 3,
   "id": "853ce64d",
   "metadata": {},
   "outputs": [],
   "source": [
    "def normImages(X):\n",
    "    for i, image in enumerate(X):\n",
    "        max_n = np.max(image)\n",
    "        image /= max_n\n",
    "        X[i] = image\n",
    "    return X\n",
    "\n",
    "X_full = normImages(X_full)\n",
    "\n",
    "X_train = X_full[index_train]\n",
    "y_train = y_full[index_train]\n",
    "X_val = X_full[index_val]\n",
    "y_val = y_full[index_val]\n",
    "X_test = X_full[index_test]\n",
    "y_test = y_full[index_test]\n",
    "\n",
    "del X_full, y_full"
   ]
  },
  {
   "cell_type": "code",
   "execution_count": 4,
   "id": "57c44331-30fc-4a4d-861a-b2765ce56a9a",
   "metadata": {},
   "outputs": [],
   "source": [
    "import tensorflow as tf\n",
    "from tensorflow.keras import datasets, layers, models\n",
    "import matplotlib.pyplot as plt\n",
    "\n",
    "spectrogram = 'mel' # 'spectrogram', 'mel', 'mfcc', 'mtf'\n",
    "\n",
    "# # root_dir = \"/home/polivares/scratch/Datasets/PowerLineFaults/\"\n",
    "root_dir = '/home/polivares/Dropbox/Work/PostDoc/PowerLineFaults/'\n",
    "\n",
    "X_full_2 = np.load(f\"{root_dir}dataset_{spectrogram}/full/images_full.npy\")\n",
    "# y_full_2 = np.load(f\"{root_dir}dataset_{spectrogram}/full/labels_full.npy\").reshape(-1)"
   ]
  },
  {
   "cell_type": "code",
   "execution_count": 5,
   "id": "8451debb-f47e-4c54-8665-3b180ed6f6ec",
   "metadata": {},
   "outputs": [],
   "source": [
    "X_full_2 = normImages(X_full_2)\n",
    "\n",
    "X_train_2 = X_full_2[index_train]\n",
    "X_val_2 = X_full_2[index_val]\n",
    "X_test_2 = X_full_2[index_test]\n",
    "\n",
    "del X_full_2"
   ]
  },
  {
   "cell_type": "code",
   "execution_count": 6,
   "id": "efa31245-d330-4e67-8ad3-e0b49f26e123",
   "metadata": {},
   "outputs": [],
   "source": [
    "X_train_c = np.concatenate((X_train, X_train_2), axis=3)\n",
    "X_val_c = np.concatenate((X_val, X_val_2), axis=3)\n",
    "X_test_c = np.concatenate((X_test, X_test_2), axis=3)\n",
    "del X_train, X_train_2, X_val, X_val_2, X_test, X_test_2\n",
    "# X_test_c = np.concatenate((X_test, X_test_2), axis=3)"
   ]
  },
  {
   "cell_type": "markdown",
   "id": "8dba8110",
   "metadata": {},
   "source": [
    "# CNN-model"
   ]
  },
  {
   "cell_type": "code",
   "execution_count": null,
   "id": "638eaed7",
   "metadata": {},
   "outputs": [],
   "source": [
    "# Creación de modelo\n",
    "model = models.Sequential()\n",
    "# Capas encargadas de obtener información de la imagen\n",
    "model.add(layers.Conv2D(256, (3, 3), activation='tanh', input_shape=(256,256,2)))\n",
    "model.add(layers.MaxPooling2D((2, 2)))\n",
    "model.add(layers.Conv2D(128, (3, 3), activation='tanh'))\n",
    "model.add(layers.MaxPooling2D((2, 2)))\n",
    "model.add(layers.Conv2D(64, (3, 3), activation='tanh'))\n",
    "# Capas para la clasificación en base a la información obtenida en \n",
    "# capas anteriores\n",
    "model.add(layers.Flatten())\n",
    "model.add(layers.Dense(64, activation='relu'))\n",
    "model.add(layers.Dense(1, activation = 'sigmoid'))\n",
    "model.summary()"
   ]
  },
  {
   "cell_type": "code",
   "execution_count": null,
   "id": "ffbd3858",
   "metadata": {},
   "outputs": [],
   "source": [
    "from tensorflow.keras.callbacks import EarlyStopping\n",
    "\n",
    "early_stopping = EarlyStopping(patience = 7)\n",
    "\n",
    "checkpoint_path='CNN-model_mtf.ckpt'\n",
    "# Create a callback that saves the model's weights\n",
    "cp_callback = tf.keras.callbacks.ModelCheckpoint(filepath=checkpoint_path,\n",
    "                                                 save_weights_only=True,\n",
    "                                                 verbose=1)\n",
    "\n",
    "model.compile(loss = 'bce', optimizer = 'adam', metrics=['accuracy', tf.keras.metrics.Recall()])\n",
    "history_cnn = model.fit(X_train_c, y_train, epochs=100, \n",
    "                        validation_data=(X_val_c, y_val),\n",
    "                        batch_size=10,\n",
    "                        callbacks=[early_stopping, cp_callback])"
   ]
  },
  {
   "cell_type": "code",
   "execution_count": null,
   "id": "bd7655b5",
   "metadata": {},
   "outputs": [],
   "source": [
    "plt.plot(history_cnn.history['accuracy'], label='accuracy')\n",
    "plt.plot(history_cnn.history['val_accuracy'], label = 'val_accuracy')\n",
    "plt.xlabel('Epoch')\n",
    "plt.ylabel('Accuracy')\n",
    "plt.ylim([0.5, 1])\n",
    "plt.legend(loc='lower right')\n",
    "plt.show()"
   ]
  },
  {
   "cell_type": "code",
   "execution_count": null,
   "id": "19009ccc",
   "metadata": {},
   "outputs": [],
   "source": [
    "plt.plot(history_cnn.history['loss'], label='loss')\n",
    "plt.plot(history_cnn.history['val_loss'], label = 'val_loss')\n",
    "plt.xlabel('Epoch')\n",
    "plt.ylabel('Loss')\n",
    "plt.legend(loc='lower right')\n",
    "plt.show()"
   ]
  },
  {
   "cell_type": "code",
   "execution_count": null,
   "id": "5b2e043c",
   "metadata": {},
   "outputs": [],
   "source": [
    "val_loss, val_acc, val_recall = model.evaluate(X_val,  y_val, verbose=2, batch_size=4)"
   ]
  },
  {
   "cell_type": "code",
   "execution_count": null,
   "id": "b995ef1b",
   "metadata": {},
   "outputs": [],
   "source": [
    "val_predictions = (model.predict(X_val, batch_size=4)>0.5).reshape(1,-1)[0].astype(int)\n",
    "val_real_values = y_val.T[0]"
   ]
  },
  {
   "cell_type": "code",
   "execution_count": null,
   "id": "e139f0da",
   "metadata": {},
   "outputs": [],
   "source": [
    "matthews_corrcoef(val_real_values, val_predictions)"
   ]
  },
  {
   "cell_type": "code",
   "execution_count": null,
   "id": "c7981d37",
   "metadata": {},
   "outputs": [],
   "source": [
    "test_loss, test_acc, test_recall = model.evaluate(X_test,  y_test, verbose=2, batch_size=4)"
   ]
  },
  {
   "cell_type": "code",
   "execution_count": null,
   "id": "acdb52d5",
   "metadata": {},
   "outputs": [],
   "source": [
    "test_predictions = (model.predict(X_test, batch_size=4)>0.5).reshape(1,-1)[0].astype(int)\n",
    "test_real_values = y_test.T[0]"
   ]
  },
  {
   "cell_type": "code",
   "execution_count": null,
   "id": "4963ab1e",
   "metadata": {},
   "outputs": [],
   "source": [
    "matthews_corrcoef(test_real_values, test_predictions)"
   ]
  },
  {
   "cell_type": "markdown",
   "id": "098dfd40",
   "metadata": {},
   "source": [
    "# CNN 2"
   ]
  },
  {
   "cell_type": "code",
   "execution_count": null,
   "id": "07118b68",
   "metadata": {},
   "outputs": [],
   "source": [
    "# # Creación de modelo\n",
    "# model = models.Sequential()\n",
    "# # Capas encargadas de obtener información de la imagen\n",
    "# model.add(layers.Conv2D(256, (3, 3), activation='selu', input_shape=(256,256,1),kernel_initializer='random_normal',))\n",
    "# model.add(layers.MaxPooling2D((2, 2)))\n",
    "# # model.add(layers.Dropout(0.3))\n",
    "# model.add(layers.Conv2D(128, (3, 3), activation='selu',kernel_initializer='random_normal',))\n",
    "# model.add(layers.MaxPooling2D((2, 2)))\n",
    "# # model.add(layers.Dropout(0.3))\n",
    "# model.add(layers.Conv2D(64, (3, 3), activation='selu',kernel_initializer='random_normal',))\n",
    "# # Capas para la clasificación en base a la información obtenida en \n",
    "# # capas anteriores\n",
    "# model.add(layers.Flatten())\n",
    "# model.add(layers.Dense(64, activation='selu',kernel_initializer='random_normal',))\n",
    "# model.add(layers.Dense(1, activation = 'sigmoid',kernel_initializer='random_normal',))\n",
    "# model.summary()"
   ]
  },
  {
   "cell_type": "code",
   "execution_count": 7,
   "id": "1bfbb8a6-c985-43ab-852a-d0a5dc08731d",
   "metadata": {},
   "outputs": [
    {
     "name": "stdout",
     "output_type": "stream",
     "text": [
      "Model: \"sequential\"\n",
      "_________________________________________________________________\n",
      " Layer (type)                Output Shape              Param #   \n",
      "=================================================================\n",
      " conv2d (Conv2D)             (None, 252, 252, 32)      1632      \n",
      "                                                                 \n",
      " max_pooling2d (MaxPooling2D  (None, 126, 126, 32)     0         \n",
      " )                                                               \n",
      "                                                                 \n",
      " dropout (Dropout)           (None, 126, 126, 32)      0         \n",
      "                                                                 \n",
      " conv2d_1 (Conv2D)           (None, 122, 122, 64)      51264     \n",
      "                                                                 \n",
      " max_pooling2d_1 (MaxPooling  (None, 61, 61, 64)       0         \n",
      " 2D)                                                             \n",
      "                                                                 \n",
      " dropout_1 (Dropout)         (None, 61, 61, 64)        0         \n",
      "                                                                 \n",
      " flatten (Flatten)           (None, 238144)            0         \n",
      "                                                                 \n",
      " dense (Dense)               (None, 128)               30482560  \n",
      "                                                                 \n",
      " dropout_2 (Dropout)         (None, 128)               0         \n",
      "                                                                 \n",
      " dense_1 (Dense)             (None, 1)                 129       \n",
      "                                                                 \n",
      "=================================================================\n",
      "Total params: 30,535,585\n",
      "Trainable params: 30,535,585\n",
      "Non-trainable params: 0\n",
      "_________________________________________________________________\n"
     ]
    },
    {
     "name": "stderr",
     "output_type": "stream",
     "text": [
      "2022-10-22 22:39:56.689759: I tensorflow/stream_executor/cuda/cuda_gpu_executor.cc:980] successful NUMA node read from SysFS had negative value (-1), but there must be at least one NUMA node, so returning NUMA node zero\n",
      "2022-10-22 22:39:56.803867: I tensorflow/stream_executor/cuda/cuda_gpu_executor.cc:980] successful NUMA node read from SysFS had negative value (-1), but there must be at least one NUMA node, so returning NUMA node zero\n",
      "2022-10-22 22:39:56.804012: I tensorflow/stream_executor/cuda/cuda_gpu_executor.cc:980] successful NUMA node read from SysFS had negative value (-1), but there must be at least one NUMA node, so returning NUMA node zero\n",
      "2022-10-22 22:39:56.805399: I tensorflow/core/platform/cpu_feature_guard.cc:193] This TensorFlow binary is optimized with oneAPI Deep Neural Network Library (oneDNN) to use the following CPU instructions in performance-critical operations:  AVX2 AVX512F AVX512_VNNI FMA\n",
      "To enable them in other operations, rebuild TensorFlow with the appropriate compiler flags.\n",
      "2022-10-22 22:39:56.806270: I tensorflow/stream_executor/cuda/cuda_gpu_executor.cc:980] successful NUMA node read from SysFS had negative value (-1), but there must be at least one NUMA node, so returning NUMA node zero\n",
      "2022-10-22 22:39:56.806392: I tensorflow/stream_executor/cuda/cuda_gpu_executor.cc:980] successful NUMA node read from SysFS had negative value (-1), but there must be at least one NUMA node, so returning NUMA node zero\n",
      "2022-10-22 22:39:56.806469: I tensorflow/stream_executor/cuda/cuda_gpu_executor.cc:980] successful NUMA node read from SysFS had negative value (-1), but there must be at least one NUMA node, so returning NUMA node zero\n",
      "2022-10-22 22:39:57.323718: I tensorflow/stream_executor/cuda/cuda_gpu_executor.cc:980] successful NUMA node read from SysFS had negative value (-1), but there must be at least one NUMA node, so returning NUMA node zero\n",
      "2022-10-22 22:39:57.324130: I tensorflow/stream_executor/cuda/cuda_gpu_executor.cc:980] successful NUMA node read from SysFS had negative value (-1), but there must be at least one NUMA node, so returning NUMA node zero\n",
      "2022-10-22 22:39:57.324237: I tensorflow/stream_executor/cuda/cuda_gpu_executor.cc:980] successful NUMA node read from SysFS had negative value (-1), but there must be at least one NUMA node, so returning NUMA node zero\n",
      "2022-10-22 22:39:57.324352: I tensorflow/core/common_runtime/gpu/gpu_device.cc:1616] Created device /job:localhost/replica:0/task:0/device:GPU:0 with 4117 MB memory:  -> device: 0, name: NVIDIA GeForce RTX 3060 Laptop GPU, pci bus id: 0000:01:00.0, compute capability: 8.6\n"
     ]
    }
   ],
   "source": [
    "# Creación de modelo\n",
    "# Armado de nuestra red neuronal\n",
    "model = models.Sequential()\n",
    "model.add(layers.Conv2D(32, (5, 5), input_shape=(256, 256, 2), activation='relu'))\n",
    "model.add(layers.MaxPooling2D(pool_size=(2, 2)))\n",
    "model.add(layers.Dropout(0.5))\n",
    "model.add(layers.Conv2D(64, (5, 5), activation='relu'))\n",
    "model.add(layers.MaxPooling2D(pool_size=(2, 2)))\n",
    "model.add(layers.Dropout(0.5))\n",
    "model.add(layers.Flatten())\n",
    "model.add(layers.Dense(128, activation='relu'))\n",
    "model.add(layers.Dropout(0.5))\n",
    "model.add(layers.Dense(1, activation='sigmoid'))\n",
    "\n",
    "model.summary()"
   ]
  },
  {
   "cell_type": "code",
   "execution_count": 8,
   "id": "059ba391",
   "metadata": {},
   "outputs": [],
   "source": [
    "METRICS = [\n",
    "      tf.keras.metrics.TruePositives(name='tp'),\n",
    "      tf.keras.metrics.FalsePositives(name='fp'),\n",
    "      tf.keras.metrics.TrueNegatives(name='tn'),\n",
    "      tf.keras.metrics.FalseNegatives(name='fn'), \n",
    "      tf.keras.metrics.BinaryAccuracy(name='accuracy'),\n",
    "      tf.keras.metrics.Precision(name='precision'),\n",
    "      tf.keras.metrics.Recall(name='recall'),\n",
    "      tf.keras.metrics.AUC(name='auc'),\n",
    "      tf.keras.metrics.AUC(name='prc', curve='PR'), # precision-recall curve\n",
    "]\n",
    "\n",
    "from tensorflow.keras.callbacks import EarlyStopping\n",
    "\n",
    "early_stopping = EarlyStopping(patience = 10, restore_best_weights=True)\n",
    "\n",
    "model.compile(loss='binary_crossentropy',\n",
    "# optimizer=tf.keras.optimizers.RMSprop(lr=0.001),\n",
    "metrics=METRICS)"
   ]
  },
  {
   "cell_type": "code",
   "execution_count": 9,
   "id": "d38272aa-a53f-48af-98f7-774a64d83805",
   "metadata": {},
   "outputs": [
    {
     "name": "stdout",
     "output_type": "stream",
     "text": [
      "Epoch 1/100\n"
     ]
    },
    {
     "name": "stderr",
     "output_type": "stream",
     "text": [
      "2022-10-22 22:36:01.736208: I tensorflow/stream_executor/cuda/cuda_dnn.cc:384] Loaded cuDNN version 8300\n",
      "2022-10-22 22:36:03.034924: I tensorflow/stream_executor/cuda/cuda_blas.cc:1614] TensorFloat-32 will be used for the matrix multiplication. This will only be logged once.\n"
     ]
    },
    {
     "name": "stdout",
     "output_type": "stream",
     "text": [
      "35/35 [==============================] - 6s 52ms/step - loss: 1.0522 - tp: 116.0000 - fp: 66.0000 - tn: 109.0000 - fn: 59.0000 - accuracy: 0.6429 - precision: 0.6374 - recall: 0.6629 - auc: 0.7052 - prc: 0.7102 - val_loss: 0.4998 - val_tp: 140.0000 - val_fp: 36.0000 - val_tn: 139.0000 - val_fn: 35.0000 - val_accuracy: 0.7971 - val_precision: 0.7955 - val_recall: 0.8000 - val_auc: 0.8436 - val_prc: 0.8042\n",
      "Epoch 2/100\n",
      "35/35 [==============================] - 1s 37ms/step - loss: 0.5197 - tp: 130.0000 - fp: 48.0000 - tn: 127.0000 - fn: 45.0000 - accuracy: 0.7343 - precision: 0.7303 - recall: 0.7429 - auc: 0.8184 - prc: 0.8111 - val_loss: 0.4832 - val_tp: 154.0000 - val_fp: 48.0000 - val_tn: 127.0000 - val_fn: 21.0000 - val_accuracy: 0.8029 - val_precision: 0.7624 - val_recall: 0.8800 - val_auc: 0.8678 - val_prc: 0.8410\n",
      "Epoch 3/100\n",
      "35/35 [==============================] - 1s 40ms/step - loss: 0.4927 - tp: 144.0000 - fp: 49.0000 - tn: 126.0000 - fn: 31.0000 - accuracy: 0.7714 - precision: 0.7461 - recall: 0.8229 - auc: 0.8495 - prc: 0.8564 - val_loss: 0.4743 - val_tp: 140.0000 - val_fp: 38.0000 - val_tn: 137.0000 - val_fn: 35.0000 - val_accuracy: 0.7914 - val_precision: 0.7865 - val_recall: 0.8000 - val_auc: 0.8636 - val_prc: 0.8430\n",
      "Epoch 4/100\n",
      "35/35 [==============================] - 1s 36ms/step - loss: 0.3705 - tp: 147.0000 - fp: 31.0000 - tn: 144.0000 - fn: 28.0000 - accuracy: 0.8314 - precision: 0.8258 - recall: 0.8400 - auc: 0.9146 - prc: 0.9148 - val_loss: 0.5577 - val_tp: 159.0000 - val_fp: 90.0000 - val_tn: 85.0000 - val_fn: 16.0000 - val_accuracy: 0.6971 - val_precision: 0.6386 - val_recall: 0.9086 - val_auc: 0.8226 - val_prc: 0.8117\n",
      "Epoch 5/100\n",
      "35/35 [==============================] - 1s 36ms/step - loss: 0.2844 - tp: 156.0000 - fp: 20.0000 - tn: 155.0000 - fn: 19.0000 - accuracy: 0.8886 - precision: 0.8864 - recall: 0.8914 - auc: 0.9506 - prc: 0.9478 - val_loss: 0.6045 - val_tp: 145.0000 - val_fp: 73.0000 - val_tn: 102.0000 - val_fn: 30.0000 - val_accuracy: 0.7057 - val_precision: 0.6651 - val_recall: 0.8286 - val_auc: 0.7944 - val_prc: 0.7924\n",
      "Epoch 6/100\n",
      "35/35 [==============================] - 1s 36ms/step - loss: 0.2584 - tp: 158.0000 - fp: 13.0000 - tn: 162.0000 - fn: 17.0000 - accuracy: 0.9143 - precision: 0.9240 - recall: 0.9029 - auc: 0.9603 - prc: 0.9622 - val_loss: 0.6241 - val_tp: 143.0000 - val_fp: 83.0000 - val_tn: 92.0000 - val_fn: 32.0000 - val_accuracy: 0.6714 - val_precision: 0.6327 - val_recall: 0.8171 - val_auc: 0.7761 - val_prc: 0.7758\n",
      "Epoch 7/100\n",
      "35/35 [==============================] - 1s 36ms/step - loss: 0.1878 - tp: 163.0000 - fp: 13.0000 - tn: 162.0000 - fn: 12.0000 - accuracy: 0.9286 - precision: 0.9261 - recall: 0.9314 - auc: 0.9785 - prc: 0.9809 - val_loss: 0.8169 - val_tp: 97.0000 - val_fp: 44.0000 - val_tn: 131.0000 - val_fn: 78.0000 - val_accuracy: 0.6514 - val_precision: 0.6879 - val_recall: 0.5543 - val_auc: 0.7001 - val_prc: 0.6932\n",
      "Epoch 8/100\n",
      "35/35 [==============================] - 1s 36ms/step - loss: 0.1283 - tp: 166.0000 - fp: 7.0000 - tn: 168.0000 - fn: 9.0000 - accuracy: 0.9543 - precision: 0.9595 - recall: 0.9486 - auc: 0.9912 - prc: 0.9915 - val_loss: 0.9932 - val_tp: 113.0000 - val_fp: 61.0000 - val_tn: 114.0000 - val_fn: 62.0000 - val_accuracy: 0.6486 - val_precision: 0.6494 - val_recall: 0.6457 - val_auc: 0.7162 - val_prc: 0.6963\n",
      "Epoch 9/100\n",
      "35/35 [==============================] - 1s 36ms/step - loss: 0.1044 - tp: 167.0000 - fp: 5.0000 - tn: 170.0000 - fn: 8.0000 - accuracy: 0.9629 - precision: 0.9709 - recall: 0.9543 - auc: 0.9929 - prc: 0.9931 - val_loss: 1.2685 - val_tp: 116.0000 - val_fp: 72.0000 - val_tn: 103.0000 - val_fn: 59.0000 - val_accuracy: 0.6257 - val_precision: 0.6170 - val_recall: 0.6629 - val_auc: 0.7103 - val_prc: 0.6855\n",
      "Epoch 10/100\n",
      "35/35 [==============================] - 1s 36ms/step - loss: 0.0741 - tp: 168.0000 - fp: 2.0000 - tn: 173.0000 - fn: 7.0000 - accuracy: 0.9743 - precision: 0.9882 - recall: 0.9600 - auc: 0.9967 - prc: 0.9972 - val_loss: 1.5191 - val_tp: 122.0000 - val_fp: 86.0000 - val_tn: 89.0000 - val_fn: 53.0000 - val_accuracy: 0.6029 - val_precision: 0.5865 - val_recall: 0.6971 - val_auc: 0.6869 - val_prc: 0.6888\n",
      "Epoch 11/100\n",
      "35/35 [==============================] - 1s 36ms/step - loss: 0.0600 - tp: 170.0000 - fp: 3.0000 - tn: 172.0000 - fn: 5.0000 - accuracy: 0.9771 - precision: 0.9827 - recall: 0.9714 - auc: 0.9980 - prc: 0.9980 - val_loss: 1.7951 - val_tp: 116.0000 - val_fp: 72.0000 - val_tn: 103.0000 - val_fn: 59.0000 - val_accuracy: 0.6257 - val_precision: 0.6170 - val_recall: 0.6629 - val_auc: 0.6908 - val_prc: 0.6801\n",
      "Epoch 12/100\n",
      "35/35 [==============================] - 1s 36ms/step - loss: 0.0969 - tp: 171.0000 - fp: 4.0000 - tn: 171.0000 - fn: 4.0000 - accuracy: 0.9771 - precision: 0.9771 - recall: 0.9771 - auc: 0.9911 - prc: 0.9939 - val_loss: 1.7423 - val_tp: 122.0000 - val_fp: 85.0000 - val_tn: 90.0000 - val_fn: 53.0000 - val_accuracy: 0.6057 - val_precision: 0.5894 - val_recall: 0.6971 - val_auc: 0.6689 - val_prc: 0.6584\n",
      "Epoch 13/100\n",
      "35/35 [==============================] - 1s 37ms/step - loss: 0.0468 - tp: 170.0000 - fp: 1.0000 - tn: 174.0000 - fn: 5.0000 - accuracy: 0.9829 - precision: 0.9942 - recall: 0.9714 - auc: 0.9989 - prc: 0.9989 - val_loss: 1.7515 - val_tp: 127.0000 - val_fp: 83.0000 - val_tn: 92.0000 - val_fn: 48.0000 - val_accuracy: 0.6257 - val_precision: 0.6048 - val_recall: 0.7257 - val_auc: 0.7090 - val_prc: 0.7051\n"
     ]
    }
   ],
   "source": [
    "history = model.fit(X_train_c, y_train,\n",
    "batch_size=10,\n",
    "epochs=100,\n",
    "verbose=1,\n",
    "validation_data=(X_val_c, y_val),\n",
    "callbacks=[early_stopping]\n",
    ")"
   ]
  },
  {
   "cell_type": "code",
   "execution_count": 9,
   "id": "f1d7bf53",
   "metadata": {},
   "outputs": [
    {
     "name": "stdout",
     "output_type": "stream",
     "text": [
      "Epoch 1/100\n"
     ]
    },
    {
     "name": "stderr",
     "output_type": "stream",
     "text": [
      "2022-10-22 22:40:01.130689: I tensorflow/stream_executor/cuda/cuda_dnn.cc:384] Loaded cuDNN version 8300\n",
      "2022-10-22 22:40:02.411987: I tensorflow/stream_executor/cuda/cuda_blas.cc:1614] TensorFloat-32 will be used for the matrix multiplication. This will only be logged once.\n"
     ]
    },
    {
     "name": "stdout",
     "output_type": "stream",
     "text": [
      "35/35 [==============================] - 5s 54ms/step - loss: 0.9750 - tp: 129.0000 - fp: 59.0000 - tn: 116.0000 - fn: 46.0000 - accuracy: 0.7000 - precision: 0.6862 - recall: 0.7371 - auc: 0.7375 - prc: 0.7189 - val_loss: 0.5282 - val_tp: 138.0000 - val_fp: 37.0000 - val_tn: 138.0000 - val_fn: 37.0000 - val_accuracy: 0.7886 - val_precision: 0.7886 - val_recall: 0.7886 - val_auc: 0.8524 - val_prc: 0.8174\n",
      "Epoch 2/100\n",
      "35/35 [==============================] - 1s 37ms/step - loss: 0.5254 - tp: 143.0000 - fp: 53.0000 - tn: 122.0000 - fn: 32.0000 - accuracy: 0.7571 - precision: 0.7296 - recall: 0.8171 - auc: 0.8221 - prc: 0.8206 - val_loss: 0.4805 - val_tp: 150.0000 - val_fp: 43.0000 - val_tn: 132.0000 - val_fn: 25.0000 - val_accuracy: 0.8057 - val_precision: 0.7772 - val_recall: 0.8571 - val_auc: 0.8751 - val_prc: 0.8567\n",
      "Epoch 3/100\n",
      "35/35 [==============================] - 1s 38ms/step - loss: 0.4367 - tp: 146.0000 - fp: 46.0000 - tn: 129.0000 - fn: 29.0000 - accuracy: 0.7857 - precision: 0.7604 - recall: 0.8343 - auc: 0.8740 - prc: 0.8779 - val_loss: 0.4446 - val_tp: 136.0000 - val_fp: 35.0000 - val_tn: 140.0000 - val_fn: 39.0000 - val_accuracy: 0.7886 - val_precision: 0.7953 - val_recall: 0.7771 - val_auc: 0.8768 - val_prc: 0.8619\n",
      "Epoch 4/100\n",
      "35/35 [==============================] - 1s 36ms/step - loss: 0.3616 - tp: 149.0000 - fp: 26.0000 - tn: 149.0000 - fn: 26.0000 - accuracy: 0.8514 - precision: 0.8514 - recall: 0.8514 - auc: 0.9190 - prc: 0.9226 - val_loss: 0.4926 - val_tp: 139.0000 - val_fp: 47.0000 - val_tn: 128.0000 - val_fn: 36.0000 - val_accuracy: 0.7629 - val_precision: 0.7473 - val_recall: 0.7943 - val_auc: 0.8452 - val_prc: 0.8195\n",
      "Epoch 5/100\n",
      "35/35 [==============================] - 1s 36ms/step - loss: 0.2974 - tp: 157.0000 - fp: 22.0000 - tn: 153.0000 - fn: 18.0000 - accuracy: 0.8857 - precision: 0.8771 - recall: 0.8971 - auc: 0.9489 - prc: 0.9405 - val_loss: 0.5464 - val_tp: 147.0000 - val_fp: 61.0000 - val_tn: 114.0000 - val_fn: 28.0000 - val_accuracy: 0.7457 - val_precision: 0.7067 - val_recall: 0.8400 - val_auc: 0.8439 - val_prc: 0.8320\n",
      "Epoch 6/100\n",
      "35/35 [==============================] - 1s 36ms/step - loss: 0.2093 - tp: 160.0000 - fp: 14.0000 - tn: 161.0000 - fn: 15.0000 - accuracy: 0.9171 - precision: 0.9195 - recall: 0.9143 - auc: 0.9742 - prc: 0.9760 - val_loss: 0.6122 - val_tp: 153.0000 - val_fp: 84.0000 - val_tn: 91.0000 - val_fn: 22.0000 - val_accuracy: 0.6971 - val_precision: 0.6456 - val_recall: 0.8743 - val_auc: 0.8302 - val_prc: 0.8302\n",
      "Epoch 7/100\n",
      "35/35 [==============================] - 1s 36ms/step - loss: 0.1369 - tp: 167.0000 - fp: 9.0000 - tn: 166.0000 - fn: 8.0000 - accuracy: 0.9514 - precision: 0.9489 - recall: 0.9543 - auc: 0.9883 - prc: 0.9884 - val_loss: 1.1665 - val_tp: 84.0000 - val_fp: 11.0000 - val_tn: 164.0000 - val_fn: 91.0000 - val_accuracy: 0.7086 - val_precision: 0.8842 - val_recall: 0.4800 - val_auc: 0.7797 - val_prc: 0.7883\n",
      "Epoch 8/100\n",
      "35/35 [==============================] - 1s 36ms/step - loss: 0.3034 - tp: 163.0000 - fp: 10.0000 - tn: 165.0000 - fn: 12.0000 - accuracy: 0.9371 - precision: 0.9422 - recall: 0.9314 - auc: 0.9581 - prc: 0.9349 - val_loss: 0.8676 - val_tp: 134.0000 - val_fp: 75.0000 - val_tn: 100.0000 - val_fn: 41.0000 - val_accuracy: 0.6686 - val_precision: 0.6411 - val_recall: 0.7657 - val_auc: 0.7605 - val_prc: 0.7690\n",
      "Epoch 9/100\n",
      "35/35 [==============================] - 1s 36ms/step - loss: 0.1194 - tp: 167.0000 - fp: 5.0000 - tn: 170.0000 - fn: 8.0000 - accuracy: 0.9629 - precision: 0.9709 - recall: 0.9543 - auc: 0.9902 - prc: 0.9914 - val_loss: 0.8778 - val_tp: 125.0000 - val_fp: 66.0000 - val_tn: 109.0000 - val_fn: 50.0000 - val_accuracy: 0.6686 - val_precision: 0.6545 - val_recall: 0.7143 - val_auc: 0.7604 - val_prc: 0.7564\n",
      "Epoch 10/100\n",
      "35/35 [==============================] - 1s 35ms/step - loss: 0.0781 - tp: 168.0000 - fp: 3.0000 - tn: 172.0000 - fn: 7.0000 - accuracy: 0.9714 - precision: 0.9825 - recall: 0.9600 - auc: 0.9962 - prc: 0.9966 - val_loss: 1.1490 - val_tp: 126.0000 - val_fp: 72.0000 - val_tn: 103.0000 - val_fn: 49.0000 - val_accuracy: 0.6543 - val_precision: 0.6364 - val_recall: 0.7200 - val_auc: 0.7339 - val_prc: 0.7351\n",
      "Epoch 11/100\n",
      "35/35 [==============================] - 1s 36ms/step - loss: 0.0612 - tp: 168.0000 - fp: 3.0000 - tn: 172.0000 - fn: 7.0000 - accuracy: 0.9714 - precision: 0.9825 - recall: 0.9600 - auc: 0.9976 - prc: 0.9979 - val_loss: 1.3253 - val_tp: 138.0000 - val_fp: 85.0000 - val_tn: 90.0000 - val_fn: 37.0000 - val_accuracy: 0.6514 - val_precision: 0.6188 - val_recall: 0.7886 - val_auc: 0.7370 - val_prc: 0.7400\n",
      "Epoch 12/100\n",
      "35/35 [==============================] - 1s 35ms/step - loss: 0.0563 - tp: 169.0000 - fp: 3.0000 - tn: 172.0000 - fn: 6.0000 - accuracy: 0.9743 - precision: 0.9826 - recall: 0.9657 - auc: 0.9982 - prc: 0.9981 - val_loss: 1.4327 - val_tp: 132.0000 - val_fp: 73.0000 - val_tn: 102.0000 - val_fn: 43.0000 - val_accuracy: 0.6686 - val_precision: 0.6439 - val_recall: 0.7543 - val_auc: 0.7567 - val_prc: 0.7460\n",
      "Epoch 13/100\n",
      "35/35 [==============================] - 1s 36ms/step - loss: 0.0635 - tp: 169.0000 - fp: 3.0000 - tn: 172.0000 - fn: 6.0000 - accuracy: 0.9743 - precision: 0.9826 - recall: 0.9657 - auc: 0.9954 - prc: 0.9916 - val_loss: 1.5334 - val_tp: 121.0000 - val_fp: 72.0000 - val_tn: 103.0000 - val_fn: 54.0000 - val_accuracy: 0.6400 - val_precision: 0.6269 - val_recall: 0.6914 - val_auc: 0.7101 - val_prc: 0.7125\n"
     ]
    }
   ],
   "source": [
    "history = model.fit(X_train_c, y_train,\n",
    "batch_size=10,\n",
    "epochs=100,\n",
    "verbose=1,\n",
    "validation_data=(X_val_c, y_val),\n",
    "callbacks=[early_stopping]\n",
    ")"
   ]
  },
  {
   "cell_type": "code",
   "execution_count": null,
   "id": "f4b232b6",
   "metadata": {},
   "outputs": [],
   "source": [
    "result = model.evaluate(X_test_c[:500],  y_test[:500], verbose=2, batch_size=4)"
   ]
  },
  {
   "cell_type": "code",
   "execution_count": null,
   "id": "9c17d55d",
   "metadata": {},
   "outputs": [],
   "source": [
    "test_predictions = (model.predict(X_test, batch_size=4)>0.5).reshape(1,-1)[0].astype(int)\n",
    "test_real_values = y_test.T[0]"
   ]
  }
 ],
 "metadata": {
  "kernelspec": {
   "display_name": "Python 3 (ipykernel)",
   "language": "python",
   "name": "python3"
  },
  "language_info": {
   "codemirror_mode": {
    "name": "ipython",
    "version": 3
   },
   "file_extension": ".py",
   "mimetype": "text/x-python",
   "name": "python",
   "nbconvert_exporter": "python",
   "pygments_lexer": "ipython3",
   "version": "3.10.4"
  }
 },
 "nbformat": 4,
 "nbformat_minor": 5
}
