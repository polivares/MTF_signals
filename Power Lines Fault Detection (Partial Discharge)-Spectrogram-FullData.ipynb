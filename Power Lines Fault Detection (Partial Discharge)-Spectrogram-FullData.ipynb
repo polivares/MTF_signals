{
 "cells": [
  {
   "cell_type": "code",
   "execution_count": null,
   "id": "892d52bf",
   "metadata": {},
   "outputs": [],
   "source": [
    "import numpy as np\n",
    "import matplotlib.pyplot as plt\n",
    "import matplotlib.animation as animation \n",
    "from pyts.image import MarkovTransitionField\n",
    "import dask.dataframe as dd  \n",
    "import pandas as pd\n",
    "\n",
    "\n",
    "from scipy import signal as sign\n",
    "from PIL import Image\n",
    "from sklearn.preprocessing import MinMaxScaler\n",
    "\n",
    "import warnings\n",
    "warnings.filterwarnings('ignore')"
   ]
  },
  {
   "cell_type": "code",
   "execution_count": null,
   "id": "165f63d9",
   "metadata": {},
   "outputs": [],
   "source": [
    "ddf = dd.read_parquet(\"dataset/train.parquet\", engine=\"pyarrow\")\n",
    "df_metadata = pd.read_csv('dataset/metadata_train.csv')"
   ]
  },
  {
   "cell_type": "code",
   "execution_count": null,
   "id": "eba64c2e",
   "metadata": {},
   "outputs": [],
   "source": [
    "signal = ddf[\"706\"].compute()\n",
    "\n",
    "fs = 8e5/20e-3\n",
    "\n",
    "f, t, Sxx = sign.spectrogram(signal, fs)\n",
    "\n",
    "print(f.shape, t.shape, Sxx.shape)\n",
    "\n",
    "plt.pcolormesh(t, f, Sxx, shading='gouraud')\n",
    "plt.ylabel('Frequency [Hz]')\n",
    "plt.xlabel('Time [sec]')\n",
    "plt.show()\n"
   ]
  },
  {
   "cell_type": "code",
   "execution_count": null,
   "id": "5ad116ae",
   "metadata": {},
   "outputs": [],
   "source": [
    "from PIL import Image\n",
    "from sklearn.preprocessing import MinMaxScaler\n",
    "\n",
    "scaler = MinMaxScaler(feature_range=(0,255))\n",
    "Sxx = scaler.fit_transform(Sxx)\n",
    "\n",
    "img = Image.fromarray(Sxx).resize((1024, 768))\n",
    "\n",
    "\n",
    "plt.imshow(img)\n",
    "img = np.array(img)\n",
    "img"
   ]
  },
  {
   "cell_type": "code",
   "execution_count": null,
   "id": "b40ac3a9",
   "metadata": {},
   "outputs": [],
   "source": [
    "len(ddf.columns)"
   ]
  },
  {
   "cell_type": "code",
   "execution_count": null,
   "id": "516ff857",
   "metadata": {},
   "outputs": [],
   "source": [
    "from tqdm import tqdm\n",
    "images = []\n",
    "fs = 8e5/20e-3 # Sampling frequency\n",
    "img_size = 256, 256 # Size for all images \n",
    "\n",
    "\n",
    "for col in tqdm(ddf.columns):\n",
    "    # Get signal\n",
    "    signal = ddf[str(col)].compute()\n",
    "\n",
    "    # Get spectrogram from signal\n",
    "    f, t, Sxx = sign.spectrogram(signal, fs)\n",
    "    # Transform spectrogram to image range (0, 255)\n",
    "    scaler = MinMaxScaler(feature_range=(0,255))\n",
    "    Sxx = scaler.fit_transform(Sxx)\n",
    "    # Resize image\n",
    "    img = np.array(Image.fromarray(Sxx).resize(img_size))\n",
    "    images.append(img)\n",
    "    \n",
    "images = np.array(images).reshape((len(ddf.columns), 256, 256, 1))"
   ]
  },
  {
   "cell_type": "code",
   "execution_count": null,
   "id": "74f0234a",
   "metadata": {},
   "outputs": [],
   "source": [
    "np.save(\"dataset/images.npy\", images)"
   ]
  },
  {
   "cell_type": "code",
   "execution_count": null,
   "id": "db8f5669",
   "metadata": {},
   "outputs": [],
   "source": [
    "labels = df_metadata[[\"target\"]]\n",
    "np.save(\"dataset/labels.npy\", labels)\n",
    "print(labels)\n",
    "labels.shape"
   ]
  },
  {
   "cell_type": "code",
   "execution_count": null,
   "id": "79c4e373",
   "metadata": {
    "scrolled": false
   },
   "outputs": [],
   "source": [
    "%matplotlib notebook\n",
    "n_signal = 0\n",
    "fig = plt.figure() # make figure\n",
    "im = plt.imshow(images[0], cmap='gray')\n",
    "\n",
    "# function to update figure\n",
    "def updatefig(j):\n",
    "    # set the data in the axesimage object\n",
    "    im.set_array(images[j])\n",
    "    fig.suptitle(str(j))\n",
    "    # return the artists set\n",
    "    return [im]\n",
    "# kick off the animation\n",
    "ani = animation.FuncAnimation(fig, updatefig, \n",
    "                              interval=10, blit=True)\n",
    "plt.show()"
   ]
  },
  {
   "cell_type": "code",
   "execution_count": null,
   "id": "c6d23780",
   "metadata": {},
   "outputs": [],
   "source": [
    "from sklearn.model_selection import train_test_split\n",
    "\n",
    "X_data, X_test, y_data, y_test = train_test_split(images, labels, test_size=0.3, random_state=42, stratify=labels)\n",
    "X_train, X_val, y_train, y_val = train_test_split(X_data, y_data, test_size=0.2, random_state=42, stratify=y_data)\n",
    "\n",
    "np.save(\"dataset/train/images_train.npy\", X_train)\n",
    "np.save(\"dataset/train/labels_train.npy\", y_train)\n",
    "np.save(\"dataset/test/images_test.npy\", X_test)\n",
    "np.save(\"dataset/test/labels_test.npy\", y_test)\n",
    "np.save(\"dataset/val/images_val.npy\", X_val)\n",
    "np.save(\"dataset/val/labels_val.npy\", y_val)"
   ]
  },
  {
   "cell_type": "markdown",
   "id": "ad422e22",
   "metadata": {},
   "source": [
    "# Loading Data"
   ]
  },
  {
   "cell_type": "code",
   "execution_count": 1,
   "id": "5ac5bc5f",
   "metadata": {},
   "outputs": [],
   "source": [
    "import numpy as np\n",
    "import matplotlib.pyplot as plt\n",
    "import matplotlib.animation as animation \n",
    "from pyts.image import MarkovTransitionField\n",
    "import dask.dataframe as dd  \n",
    "import pandas as pd\n",
    "\n",
    "\n",
    "from scipy import signal as sign\n",
    "from PIL import Image\n",
    "from sklearn.preprocessing import MinMaxScaler\n",
    "\n",
    "import warnings\n",
    "warnings.filterwarnings('ignore')"
   ]
  },
  {
   "cell_type": "code",
   "execution_count": 2,
   "id": "4b91604a",
   "metadata": {},
   "outputs": [
    {
     "name": "stderr",
     "output_type": "stream",
     "text": [
      "2022-09-28 14:12:50.202411: I tensorflow/core/platform/cpu_feature_guard.cc:193] This TensorFlow binary is optimized with oneAPI Deep Neural Network Library (oneDNN) to use the following CPU instructions in performance-critical operations:  AVX2 AVX512F AVX512_VNNI FMA\n",
      "To enable them in other operations, rebuild TensorFlow with the appropriate compiler flags.\n",
      "2022-09-28 14:12:50.388602: I tensorflow/core/util/util.cc:169] oneDNN custom operations are on. You may see slightly different numerical results due to floating-point round-off errors from different computation orders. To turn them off, set the environment variable `TF_ENABLE_ONEDNN_OPTS=0`.\n",
      "2022-09-28 14:12:50.462871: E tensorflow/stream_executor/cuda/cuda_blas.cc:2981] Unable to register cuBLAS factory: Attempting to register factory for plugin cuBLAS when one has already been registered\n",
      "2022-09-28 14:12:51.148368: W tensorflow/stream_executor/platform/default/dso_loader.cc:64] Could not load dynamic library 'libnvinfer.so.7'; dlerror: libnvinfer.so.7: cannot open shared object file: No such file or directory; LD_LIBRARY_PATH: /usr/lib/cuda/include:/usr/lib/cuda/lib64:\n",
      "2022-09-28 14:12:51.148434: W tensorflow/stream_executor/platform/default/dso_loader.cc:64] Could not load dynamic library 'libnvinfer_plugin.so.7'; dlerror: libnvinfer_plugin.so.7: cannot open shared object file: No such file or directory; LD_LIBRARY_PATH: /usr/lib/cuda/include:/usr/lib/cuda/lib64:\n",
      "2022-09-28 14:12:51.148438: W tensorflow/compiler/tf2tensorrt/utils/py_utils.cc:38] TF-TRT Warning: Cannot dlopen some TensorRT libraries. If you would like to use Nvidia GPU with TensorRT, please make sure the missing libraries mentioned above are installed properly.\n"
     ]
    }
   ],
   "source": [
    "import tensorflow as tf\n",
    "from tensorflow.keras import datasets, layers, models\n",
    "import matplotlib.pyplot as plt\n",
    "\n",
    "\n",
    "X_train = np.load(\"dataset_spectrogram/train/images_train.npy\")\n",
    "y_train = np.load(\"dataset_spectrogram/train/labels_train.npy\")\n",
    "X_test = np.load(\"dataset_spectrogram/test/images_test.npy\")\n",
    "y_test = np.load(\"dataset_spectrogram/test/labels_test.npy\")\n",
    "X_val = np.load(\"dataset_spectrogram/val/images_val.npy\")\n",
    "y_val = np.load(\"dataset_spectrogram/val/labels_val.npy\")"
   ]
  },
  {
   "cell_type": "markdown",
   "id": "53819223",
   "metadata": {},
   "source": [
    "# CNN Model"
   ]
  },
  {
   "cell_type": "code",
   "execution_count": 3,
   "id": "009bedd9",
   "metadata": {},
   "outputs": [
    {
     "name": "stdout",
     "output_type": "stream",
     "text": [
      "Model: \"sequential\"\n",
      "_________________________________________________________________\n",
      " Layer (type)                Output Shape              Param #   \n",
      "=================================================================\n",
      " conv2d (Conv2D)             (None, 254, 254, 256)     2560      \n",
      "                                                                 \n",
      " max_pooling2d (MaxPooling2D  (None, 127, 127, 256)    0         \n",
      " )                                                               \n",
      "                                                                 \n",
      " conv2d_1 (Conv2D)           (None, 125, 125, 128)     295040    \n",
      "                                                                 \n",
      " max_pooling2d_1 (MaxPooling  (None, 62, 62, 128)      0         \n",
      " 2D)                                                             \n",
      "                                                                 \n",
      " conv2d_2 (Conv2D)           (None, 60, 60, 64)        73792     \n",
      "                                                                 \n",
      " flatten (Flatten)           (None, 230400)            0         \n",
      "                                                                 \n",
      " dense (Dense)               (None, 64)                14745664  \n",
      "                                                                 \n",
      " dense_1 (Dense)             (None, 1)                 65        \n",
      "                                                                 \n",
      "=================================================================\n",
      "Total params: 15,117,121\n",
      "Trainable params: 15,117,121\n",
      "Non-trainable params: 0\n",
      "_________________________________________________________________\n"
     ]
    },
    {
     "name": "stderr",
     "output_type": "stream",
     "text": [
      "2022-09-28 13:09:49.051784: I tensorflow/stream_executor/cuda/cuda_gpu_executor.cc:980] successful NUMA node read from SysFS had negative value (-1), but there must be at least one NUMA node, so returning NUMA node zero\n",
      "2022-09-28 13:09:49.135548: I tensorflow/stream_executor/cuda/cuda_gpu_executor.cc:980] successful NUMA node read from SysFS had negative value (-1), but there must be at least one NUMA node, so returning NUMA node zero\n",
      "2022-09-28 13:09:49.135711: I tensorflow/stream_executor/cuda/cuda_gpu_executor.cc:980] successful NUMA node read from SysFS had negative value (-1), but there must be at least one NUMA node, so returning NUMA node zero\n",
      "2022-09-28 13:09:49.136618: I tensorflow/core/platform/cpu_feature_guard.cc:193] This TensorFlow binary is optimized with oneAPI Deep Neural Network Library (oneDNN) to use the following CPU instructions in performance-critical operations:  AVX2 AVX512F AVX512_VNNI FMA\n",
      "To enable them in other operations, rebuild TensorFlow with the appropriate compiler flags.\n",
      "2022-09-28 13:09:49.137787: I tensorflow/stream_executor/cuda/cuda_gpu_executor.cc:980] successful NUMA node read from SysFS had negative value (-1), but there must be at least one NUMA node, so returning NUMA node zero\n",
      "2022-09-28 13:09:49.137912: I tensorflow/stream_executor/cuda/cuda_gpu_executor.cc:980] successful NUMA node read from SysFS had negative value (-1), but there must be at least one NUMA node, so returning NUMA node zero\n",
      "2022-09-28 13:09:49.137988: I tensorflow/stream_executor/cuda/cuda_gpu_executor.cc:980] successful NUMA node read from SysFS had negative value (-1), but there must be at least one NUMA node, so returning NUMA node zero\n",
      "2022-09-28 13:09:49.623528: I tensorflow/stream_executor/cuda/cuda_gpu_executor.cc:980] successful NUMA node read from SysFS had negative value (-1), but there must be at least one NUMA node, so returning NUMA node zero\n",
      "2022-09-28 13:09:49.623928: I tensorflow/stream_executor/cuda/cuda_gpu_executor.cc:980] successful NUMA node read from SysFS had negative value (-1), but there must be at least one NUMA node, so returning NUMA node zero\n",
      "2022-09-28 13:09:49.624016: I tensorflow/stream_executor/cuda/cuda_gpu_executor.cc:980] successful NUMA node read from SysFS had negative value (-1), but there must be at least one NUMA node, so returning NUMA node zero\n",
      "2022-09-28 13:09:49.624095: I tensorflow/core/common_runtime/gpu/gpu_device.cc:1616] Created device /job:localhost/replica:0/task:0/device:GPU:0 with 4117 MB memory:  -> device: 0, name: NVIDIA GeForce RTX 3060 Laptop GPU, pci bus id: 0000:01:00.0, compute capability: 8.6\n"
     ]
    }
   ],
   "source": [
    "# Creación de modelo\n",
    "model = models.Sequential()\n",
    "# Capas encargadas de obtener información de la imagen\n",
    "model.add(layers.Conv2D(256, (3, 3), activation='relu', input_shape=(256,256,1)))\n",
    "model.add(layers.MaxPooling2D((2, 2)))\n",
    "model.add(layers.Conv2D(128, (3, 3), activation='relu'))\n",
    "model.add(layers.MaxPooling2D((2, 2)))\n",
    "model.add(layers.Conv2D(64, (3, 3), activation='relu'))\n",
    "# Capas para la clasificación en base a la información obtenida en \n",
    "# capas anteriores\n",
    "model.add(layers.Flatten())\n",
    "model.add(layers.Dense(64, activation='relu'))\n",
    "model.add(layers.Dense(1, activation = 'sigmoid'))\n",
    "model.summary()"
   ]
  },
  {
   "cell_type": "code",
   "execution_count": 4,
   "id": "3f39438d",
   "metadata": {},
   "outputs": [
    {
     "name": "stdout",
     "output_type": "stream",
     "text": [
      "Epoch 1/100\n"
     ]
    },
    {
     "name": "stderr",
     "output_type": "stream",
     "text": [
      "2022-09-28 13:09:58.151126: I tensorflow/stream_executor/cuda/cuda_dnn.cc:384] Loaded cuDNN version 8300\n",
      "2022-09-28 13:09:59.521649: W tensorflow/core/common_runtime/bfc_allocator.cc:290] Allocator (GPU_0_bfc) ran out of memory trying to allocate 1.28GiB with freed_by_count=0. The caller indicates that this is not a failure, but this may mean that there could be performance gains if more memory were available.\n",
      "2022-09-28 13:09:59.521693: W tensorflow/core/common_runtime/bfc_allocator.cc:290] Allocator (GPU_0_bfc) ran out of memory trying to allocate 1.28GiB with freed_by_count=0. The caller indicates that this is not a failure, but this may mean that there could be performance gains if more memory were available.\n",
      "2022-09-28 13:09:59.559658: W tensorflow/core/common_runtime/bfc_allocator.cc:290] Allocator (GPU_0_bfc) ran out of memory trying to allocate 2.27GiB with freed_by_count=0. The caller indicates that this is not a failure, but this may mean that there could be performance gains if more memory were available.\n",
      "2022-09-28 13:09:59.559686: W tensorflow/core/common_runtime/bfc_allocator.cc:290] Allocator (GPU_0_bfc) ran out of memory trying to allocate 2.27GiB with freed_by_count=0. The caller indicates that this is not a failure, but this may mean that there could be performance gains if more memory were available.\n",
      "2022-09-28 13:09:59.625973: W tensorflow/core/common_runtime/bfc_allocator.cc:290] Allocator (GPU_0_bfc) ran out of memory trying to allocate 1.36GiB with freed_by_count=0. The caller indicates that this is not a failure, but this may mean that there could be performance gains if more memory were available.\n",
      "2022-09-28 13:09:59.626025: W tensorflow/core/common_runtime/bfc_allocator.cc:290] Allocator (GPU_0_bfc) ran out of memory trying to allocate 1.36GiB with freed_by_count=0. The caller indicates that this is not a failure, but this may mean that there could be performance gains if more memory were available.\n",
      "2022-09-28 13:09:59.681234: W tensorflow/core/common_runtime/bfc_allocator.cc:290] Allocator (GPU_0_bfc) ran out of memory trying to allocate 884.50MiB with freed_by_count=0. The caller indicates that this is not a failure, but this may mean that there could be performance gains if more memory were available.\n",
      "2022-09-28 13:09:59.681283: W tensorflow/core/common_runtime/bfc_allocator.cc:290] Allocator (GPU_0_bfc) ran out of memory trying to allocate 884.50MiB with freed_by_count=0. The caller indicates that this is not a failure, but this may mean that there could be performance gains if more memory were available.\n",
      "2022-09-28 13:09:59.722962: I tensorflow/stream_executor/cuda/cuda_blas.cc:1614] TensorFloat-32 will be used for the matrix multiplication. This will only be logged once.\n"
     ]
    },
    {
     "name": "stdout",
     "output_type": "stream",
     "text": [
      "487/488 [============================>.] - ETA: 0s - loss: 3.8341 - accuracy: 0.9300 - recall: 0.1088"
     ]
    },
    {
     "name": "stderr",
     "output_type": "stream",
     "text": [
      "2022-09-28 13:11:05.509378: W tensorflow/core/common_runtime/bfc_allocator.cc:290] Allocator (GPU_0_bfc) ran out of memory trying to allocate 1.02GiB with freed_by_count=0. The caller indicates that this is not a failure, but this may mean that there could be performance gains if more memory were available.\n",
      "2022-09-28 13:11:05.509407: W tensorflow/core/common_runtime/bfc_allocator.cc:290] Allocator (GPU_0_bfc) ran out of memory trying to allocate 1.02GiB with freed_by_count=0. The caller indicates that this is not a failure, but this may mean that there could be performance gains if more memory were available.\n"
     ]
    },
    {
     "name": "stdout",
     "output_type": "stream",
     "text": [
      "488/488 [==============================] - ETA: 0s - loss: 3.8279 - accuracy: 0.9301 - recall: 0.1088\n",
      "Epoch 1: saving model to CNN-model.ckpt\n",
      "488/488 [==============================] - 74s 140ms/step - loss: 3.8279 - accuracy: 0.9301 - recall: 0.1088 - val_loss: 0.1402 - val_accuracy: 0.9459 - val_recall: 0.1781\n",
      "Epoch 2/100\n",
      "488/488 [==============================] - ETA: 0s - loss: 0.1588 - accuracy: 0.9451 - recall: 0.1803\n",
      "Epoch 2: saving model to CNN-model.ckpt\n",
      "488/488 [==============================] - 66s 136ms/step - loss: 0.1588 - accuracy: 0.9451 - recall: 0.1803 - val_loss: 0.1769 - val_accuracy: 0.9443 - val_recall: 0.0822\n",
      "Epoch 3/100\n",
      "488/488 [==============================] - ETA: 0s - loss: 0.1195 - accuracy: 0.9584 - recall: 0.4320\n",
      "Epoch 3: saving model to CNN-model.ckpt\n",
      "488/488 [==============================] - 66s 135ms/step - loss: 0.1195 - accuracy: 0.9584 - recall: 0.4320 - val_loss: 0.1370 - val_accuracy: 0.9492 - val_recall: 0.1918\n",
      "Epoch 4/100\n",
      "488/488 [==============================] - ETA: 0s - loss: 0.0837 - accuracy: 0.9699 - recall: 0.6020\n",
      "Epoch 4: saving model to CNN-model.ckpt\n",
      "488/488 [==============================] - 66s 135ms/step - loss: 0.0837 - accuracy: 0.9699 - recall: 0.6020 - val_loss: 0.1548 - val_accuracy: 0.9434 - val_recall: 0.4521\n",
      "Epoch 5/100\n",
      "488/488 [==============================] - ETA: 0s - loss: 0.0475 - accuracy: 0.9846 - recall: 0.8061\n",
      "Epoch 5: saving model to CNN-model.ckpt\n",
      "488/488 [==============================] - 66s 136ms/step - loss: 0.0475 - accuracy: 0.9846 - recall: 0.8061 - val_loss: 0.1628 - val_accuracy: 0.9533 - val_recall: 0.5890\n",
      "Epoch 6/100\n",
      "488/488 [==============================] - ETA: 0s - loss: 0.0318 - accuracy: 0.9893 - recall: 0.8844\n",
      "Epoch 6: saving model to CNN-model.ckpt\n",
      "488/488 [==============================] - 66s 136ms/step - loss: 0.0318 - accuracy: 0.9893 - recall: 0.8844 - val_loss: 0.1758 - val_accuracy: 0.9566 - val_recall: 0.4521\n",
      "Epoch 7/100\n",
      "488/488 [==============================] - ETA: 0s - loss: 0.0326 - accuracy: 0.9883 - recall: 0.8605\n",
      "Epoch 7: saving model to CNN-model.ckpt\n",
      "488/488 [==============================] - 66s 135ms/step - loss: 0.0326 - accuracy: 0.9883 - recall: 0.8605 - val_loss: 0.6429 - val_accuracy: 0.9410 - val_recall: 0.0548\n",
      "Epoch 8/100\n",
      "488/488 [==============================] - ETA: 0s - loss: 0.0308 - accuracy: 0.9930 - recall: 0.9252\n",
      "Epoch 8: saving model to CNN-model.ckpt\n",
      "488/488 [==============================] - 66s 136ms/step - loss: 0.0308 - accuracy: 0.9930 - recall: 0.9252 - val_loss: 0.3873 - val_accuracy: 0.9590 - val_recall: 0.3562\n",
      "Epoch 9/100\n",
      "488/488 [==============================] - ETA: 0s - loss: 0.0275 - accuracy: 0.9938 - recall: 0.9286\n",
      "Epoch 9: saving model to CNN-model.ckpt\n",
      "488/488 [==============================] - 66s 135ms/step - loss: 0.0275 - accuracy: 0.9938 - recall: 0.9286 - val_loss: 0.1916 - val_accuracy: 0.9590 - val_recall: 0.6575\n",
      "Epoch 10/100\n",
      "488/488 [==============================] - ETA: 0s - loss: 0.0107 - accuracy: 0.9957 - recall: 0.9558\n",
      "Epoch 10: saving model to CNN-model.ckpt\n",
      "488/488 [==============================] - 66s 135ms/step - loss: 0.0107 - accuracy: 0.9957 - recall: 0.9558 - val_loss: 0.4043 - val_accuracy: 0.9475 - val_recall: 0.6301\n"
     ]
    }
   ],
   "source": [
    "from tensorflow.keras.callbacks import EarlyStopping\n",
    "\n",
    "early_stopping = EarlyStopping(patience = 7)\n",
    "\n",
    "checkpoint_path='CNN-model.ckpt'\n",
    "# Create a callback that saves the model's weights\n",
    "cp_callback = tf.keras.callbacks.ModelCheckpoint(filepath=checkpoint_path,\n",
    "                                                 save_weights_only=True,\n",
    "                                                 verbose=1)\n",
    "\n",
    "model.compile(loss = 'bce', optimizer = 'adam', metrics=['accuracy', tf.keras.metrics.Recall()])\n",
    "history_cnn = model.fit(X_train, y_train, epochs=100, \n",
    "                        validation_data=(X_val, y_val),\n",
    "                        batch_size=10,\n",
    "                        callbacks=[early_stopping, cp_callback])"
   ]
  },
  {
   "cell_type": "code",
   "execution_count": 5,
   "id": "0be36fdb",
   "metadata": {},
   "outputs": [
    {
     "data": {
      "image/png": "[encoded data removed]",
      "text/plain": [
       "<Figure size 432x288 with 1 Axes>"
      ]
     },
     "metadata": {
      "needs_background": "light"
     },
     "output_type": "display_data"
    }
   ],
   "source": [
    "plt.plot(history_cnn.history['accuracy'], label='accuracy')\n",
    "plt.plot(history_cnn.history['val_accuracy'], label = 'val_accuracy')\n",
    "plt.xlabel('Epoch')\n",
    "plt.ylabel('Accuracy')\n",
    "plt.ylim([0.5, 1])\n",
    "plt.legend(loc='lower right')\n",
    "plt.show()\n",
    "\n"
   ]
  },
  {
   "cell_type": "code",
   "execution_count": 6,
   "id": "d55fde08",
   "metadata": {},
   "outputs": [
    {
     "data": {
      "image/png": "[encoded data removed]",
      "text/plain": [
       "<Figure size 432x288 with 1 Axes>"
      ]
     },
     "metadata": {
      "needs_background": "light"
     },
     "output_type": "display_data"
    }
   ],
   "source": [
    "plt.plot(history_cnn.history['loss'], label='loss')\n",
    "plt.plot(history_cnn.history['val_loss'], label = 'val_loss')\n",
    "plt.xlabel('Epoch')\n",
    "plt.ylabel('Loss')\n",
    "# plt.ylim([0.5, 1])\n",
    "plt.legend(loc='lower right')\n",
    "plt.show()"
   ]
  },
  {
   "cell_type": "code",
   "execution_count": 7,
   "id": "a524946d",
   "metadata": {},
   "outputs": [
    {
     "name": "stdout",
     "output_type": "stream",
     "text": [
      "305/305 - 3s - loss: 0.4043 - accuracy: 0.9475 - recall: 0.6301 - 3s/epoch - 10ms/step\n"
     ]
    }
   ],
   "source": [
    "test_loss, test_acc, test_recall = model.evaluate(X_val,  y_val, verbose=2, batch_size=4)"
   ]
  },
  {
   "cell_type": "code",
   "execution_count": 14,
   "id": "994f37cd",
   "metadata": {},
   "outputs": [
    {
     "name": "stdout",
     "output_type": "stream",
     "text": [
      "305/305 [==============================] - 3s 9ms/step\n",
      "[0 0 0 ... 0 0 1]\n",
      "[0 0 0 ... 0 0 0]\n"
     ]
    }
   ],
   "source": [
    "predictions = (model.predict(X_val, batch_size=4)>0.5).reshape(1,-1)[0].astype(int)\n",
    "# predictions = model.predict(X_val, batch_size=10)\n",
    "# class_predictions = np.argmax(predictions,axis=1)\n",
    "real_values = y_val.T[0]\n",
    "\n",
    "print(predictions)\n",
    "print(real_values)"
   ]
  },
  {
   "cell_type": "code",
   "execution_count": 8,
   "id": "8b4394cf",
   "metadata": {},
   "outputs": [
    {
     "name": "stdout",
     "output_type": "stream",
     "text": [
      "654/654 - 6s - loss: 0.3977 - accuracy: 0.9350 - recall: 0.4430 - 6s/epoch - 10ms/step\n"
     ]
    }
   ],
   "source": [
    "test_loss, test_acc, test_recall = model.evaluate(X_test,  y_test, verbose=2, batch_size=4)"
   ]
  },
  {
   "cell_type": "code",
   "execution_count": 15,
   "id": "5f74c537",
   "metadata": {},
   "outputs": [
    {
     "name": "stdout",
     "output_type": "stream",
     "text": [
      "654/654 [==============================] - 6s 9ms/step\n",
      "[0 0 0 ... 0 0 0]\n",
      "[0 0 0 ... 0 0 0]\n"
     ]
    }
   ],
   "source": [
    "predictions = (model.predict(X_test, batch_size=4)>0.5).reshape(1,-1)[0].astype(int)\n",
    "# predictions = model.predict(X_val, batch_size=10)\n",
    "real_values = y_test.T[0]\n",
    "\n",
    "print(predictions)\n",
    "print(real_values)"
   ]
  },
  {
   "cell_type": "code",
   "execution_count": 16,
   "id": "6fd4dc5b",
   "metadata": {},
   "outputs": [
    {
     "data": {
      "text/plain": [
       "0.4171480707541146"
      ]
     },
     "execution_count": 16,
     "metadata": {},
     "output_type": "execute_result"
    }
   ],
   "source": [
    "from sklearn.metrics import matthews_corrcoef\n",
    "matthews_corrcoef(real_values, predictions)"
   ]
  },
  {
   "cell_type": "markdown",
   "id": "ed115317",
   "metadata": {},
   "source": [
    "# Resnet Model"
   ]
  },
  {
   "cell_type": "code",
   "execution_count": 3,
   "id": "eedd409f",
   "metadata": {},
   "outputs": [
    {
     "name": "stderr",
     "output_type": "stream",
     "text": [
      "2022-09-28 14:13:04.836284: I tensorflow/stream_executor/cuda/cuda_gpu_executor.cc:980] successful NUMA node read from SysFS had negative value (-1), but there must be at least one NUMA node, so returning NUMA node zero\n",
      "2022-09-28 14:13:04.919881: I tensorflow/stream_executor/cuda/cuda_gpu_executor.cc:980] successful NUMA node read from SysFS had negative value (-1), but there must be at least one NUMA node, so returning NUMA node zero\n",
      "2022-09-28 14:13:04.920007: I tensorflow/stream_executor/cuda/cuda_gpu_executor.cc:980] successful NUMA node read from SysFS had negative value (-1), but there must be at least one NUMA node, so returning NUMA node zero\n",
      "2022-09-28 14:13:04.920457: I tensorflow/core/platform/cpu_feature_guard.cc:193] This TensorFlow binary is optimized with oneAPI Deep Neural Network Library (oneDNN) to use the following CPU instructions in performance-critical operations:  AVX2 AVX512F AVX512_VNNI FMA\n",
      "To enable them in other operations, rebuild TensorFlow with the appropriate compiler flags.\n",
      "2022-09-28 14:13:04.921690: I tensorflow/stream_executor/cuda/cuda_gpu_executor.cc:980] successful NUMA node read from SysFS had negative value (-1), but there must be at least one NUMA node, so returning NUMA node zero\n",
      "2022-09-28 14:13:04.921829: I tensorflow/stream_executor/cuda/cuda_gpu_executor.cc:980] successful NUMA node read from SysFS had negative value (-1), but there must be at least one NUMA node, so returning NUMA node zero\n",
      "2022-09-28 14:13:04.921904: I tensorflow/stream_executor/cuda/cuda_gpu_executor.cc:980] successful NUMA node read from SysFS had negative value (-1), but there must be at least one NUMA node, so returning NUMA node zero\n",
      "2022-09-28 14:13:05.397031: I tensorflow/stream_executor/cuda/cuda_gpu_executor.cc:980] successful NUMA node read from SysFS had negative value (-1), but there must be at least one NUMA node, so returning NUMA node zero\n",
      "2022-09-28 14:13:05.397461: I tensorflow/stream_executor/cuda/cuda_gpu_executor.cc:980] successful NUMA node read from SysFS had negative value (-1), but there must be at least one NUMA node, so returning NUMA node zero\n",
      "2022-09-28 14:13:05.397551: I tensorflow/stream_executor/cuda/cuda_gpu_executor.cc:980] successful NUMA node read from SysFS had negative value (-1), but there must be at least one NUMA node, so returning NUMA node zero\n",
      "2022-09-28 14:13:05.397633: I tensorflow/core/common_runtime/gpu/gpu_device.cc:1616] Created device /job:localhost/replica:0/task:0/device:GPU:0 with 4117 MB memory:  -> device: 0, name: NVIDIA GeForce RTX 3060 Laptop GPU, pci bus id: 0000:01:00.0, compute capability: 8.6\n"
     ]
    }
   ],
   "source": [
    "# Transfer Learning\n",
    "base_model = tf.keras.applications.ResNet50(include_top=False, weights='imagenet', input_shape=(256, 256, 3))\n",
    "avg = tf.keras.layers.GlobalAveragePooling2D()(base_model.output)\n",
    "output = tf.keras.layers.Dense(1, activation=\"sigmoid\")(avg)\n",
    "\n",
    "model = tf.keras.Model(inputs=base_model.input, outputs=output)\n",
    "\n",
    "for layer in base_model.layers:\n",
    "    layer.trainable = False # Esto impide que las capas se re entrenen"
   ]
  },
  {
   "cell_type": "code",
   "execution_count": 4,
   "id": "e224b796",
   "metadata": {},
   "outputs": [],
   "source": [
    "X_train_rgb = np.repeat(X_train, 3, -1)\n",
    "X_val_rgb = np.repeat(X_val, 3, -1)\n",
    "\n",
    "del X_train\n",
    "del X_val"
   ]
  },
  {
   "cell_type": "code",
   "execution_count": null,
   "id": "740730a7",
   "metadata": {},
   "outputs": [
    {
     "name": "stdout",
     "output_type": "stream",
     "text": [
      "Epoch 1/100\n"
     ]
    },
    {
     "name": "stderr",
     "output_type": "stream",
     "text": [
      "2022-09-28 14:13:27.728563: I tensorflow/stream_executor/cuda/cuda_dnn.cc:384] Loaded cuDNN version 8300\n"
     ]
    },
    {
     "name": "stdout",
     "output_type": "stream",
     "text": [
      "\r",
      "   1/4878 [..............................] - ETA: 5:24:36 - loss: 1.1050 - accuracy: 0.0000e+00 - recall: 0.0000e+00"
     ]
    },
    {
     "name": "stderr",
     "output_type": "stream",
     "text": [
      "2022-09-28 14:13:29.022958: I tensorflow/stream_executor/cuda/cuda_blas.cc:1614] TensorFloat-32 will be used for the matrix multiplication. This will only be logged once.\n"
     ]
    },
    {
     "name": "stdout",
     "output_type": "stream",
     "text": [
      "4877/4878 [============================>.] - ETA: 0s - loss: 0.1760 - accuracy: 0.9420 - recall: 0.3163"
     ]
    }
   ],
   "source": [
    "from tensorflow.keras.callbacks import EarlyStopping\n",
    "\n",
    "early_stopping = EarlyStopping(patience = 7)\n",
    "\n",
    "checkpoint_path='Resnet50-model.ckpt'\n",
    "# Create a callback that saves the model's weights\n",
    "cp_callback = tf.keras.callbacks.ModelCheckpoint(filepath=checkpoint_path,\n",
    "                                                 save_weights_only=True,\n",
    "                                                 verbose=1)\n",
    "\n",
    "model.compile(loss = 'bce', optimizer = 'adam', metrics=['accuracy', tf.keras.metrics.Recall()])\n",
    "history_cnn = model.fit(X_train_rgb, y_train, epochs=100, \n",
    "                        validation_data=(X_val_rgb, y_val),\n",
    "                        batch_size=1,\n",
    "                        callbacks=[early_stopping, cp_callback])"
   ]
  },
  {
   "cell_type": "code",
   "execution_count": 8,
   "id": "aed906c2",
   "metadata": {},
   "outputs": [
    {
     "name": "stdout",
     "output_type": "stream",
     "text": [
      "10/10 - 0s - loss: 0.3911 - accuracy: 0.9200 - recall_1: 0.2500 - 269ms/epoch - 27ms/step\n",
      "25/25 [==============================] - 0s 13ms/step\n",
      "[0 1 0 0 0 0 0 0 0 0 0 0 1 0 0 0 0 0 0 0 1 0 0 0 0 0 0 0 0 0 0 0 0 0 0 0 0\n",
      " 0 0 1 0 0 0 0 0 0 0 0 0 0 0 0 0 0 0 0 0 0 0 0 0 0 0 0 0 1 0 0 0 0 1 0 0 0\n",
      " 0 0 0 0 0 0 0 0 0 0 0 0 0 0 0 0 0 0 0 0 0 0 0 0 0 0]\n",
      "[0 0 0 0 0 0 0 0 0 0 0 0 0 0 0 0 0 0 0 0 1 0 0 0 0 0 0 0 0 0 0 0 0 0 0 0 0\n",
      " 0 0 0 1 0 0 0 0 0 0 0 0 0 0 0 0 0 0 0 0 0 0 0 0 0 0 0 0 0 0 0 1 0 0 0 0 0\n",
      " 0 0 0 0 0 0 0 0 0 0 0 0 0 1 0 0 0 0 0 0 0 0 0 0 0 0]\n"
     ]
    }
   ],
   "source": [
    "test_loss, test_acc, test_recall = model.evaluate(X_val_rgb,  y_val, verbose=2, batch_size=10)\n",
    "\n",
    "predictions = (model.predict(X_val_rgb, batch_size=4)>0.5).reshape(1,-1)[0].astype(int)\n",
    "# predictions = model.predict(X_val, batch_size=10)\n",
    "# class_predictions = np.argmax(predictions,axis=1)\n",
    "real_values = y_val.T[0]\n",
    "\n",
    "print(predictions)\n",
    "print(real_values)"
   ]
  },
  {
   "cell_type": "code",
   "execution_count": 11,
   "id": "875e79cd",
   "metadata": {},
   "outputs": [
    {
     "ename": "NameError",
     "evalue": "name 'X_train_rgb' is not defined",
     "output_type": "error",
     "traceback": [
      "\u001b[0;31m---------------------------------------------------------------------------\u001b[0m",
      "\u001b[0;31mNameError\u001b[0m                                 Traceback (most recent call last)",
      "Input \u001b[0;32mIn [11]\u001b[0m, in \u001b[0;36m<cell line: 1>\u001b[0;34m()\u001b[0m\n\u001b[0;32m----> 1\u001b[0m \u001b[38;5;28;01mdel\u001b[39;00m X_train_rgb\n\u001b[1;32m      2\u001b[0m \u001b[38;5;28;01mdel\u001b[39;00m X_val_rgb\n\u001b[1;32m      4\u001b[0m X_test_rgb \u001b[38;5;241m=\u001b[39m np\u001b[38;5;241m.\u001b[39mrepeat(X_test[\u001b[38;5;241m0\u001b[39m:\u001b[38;5;241m100\u001b[39m], \u001b[38;5;241m3\u001b[39m, \u001b[38;5;241m-\u001b[39m\u001b[38;5;241m1\u001b[39m)\n",
      "\u001b[0;31mNameError\u001b[0m: name 'X_train_rgb' is not defined"
     ]
    }
   ],
   "source": [
    "del X_train_rgb\n",
    "del X_val_rgb\n",
    "\n",
    "X_test_rgb = np.repeat(X_test[0:100], 3, -1)\n",
    "y_test = y_test[:100]\n",
    "del X_test\n",
    "\n",
    "test_loss, test_acc, test_recall = model.evaluate(X_test_rgb,  y_test, verbose=2, batch_size=10)\n",
    "\n",
    "predictions = (model.predict(X_test_rgb, batch_size=4)>0.5).reshape(1,-1)[0].astype(int)\n",
    "# predictions = model.predict(X_val, batch_size=10)\n",
    "real_values = y_test.T[0]\n",
    "\n",
    "print(predictions)\n",
    "print(real_values)"
   ]
  },
  {
   "cell_type": "code",
   "execution_count": null,
   "id": "a68b2f90",
   "metadata": {},
   "outputs": [],
   "source": [
    "from sklearn.metrics import matthews_corrcoef\n",
    "matthews_corrcoef(real_values, predictions)"
   ]
  }
 ],
 "metadata": {
  "kernelspec": {
   "display_name": "Python 3 (ipykernel)",
   "language": "python",
   "name": "python3"
  },
  "language_info": {
   "codemirror_mode": {
    "name": "ipython",
    "version": 3
   },
   "file_extension": ".py",
   "mimetype": "text/x-python",
   "name": "python",
   "nbconvert_exporter": "python",
   "pygments_lexer": "ipython3",
   "version": "3.10.4"
  }
 },
 "nbformat": 4,
 "nbformat_minor": 5
}
