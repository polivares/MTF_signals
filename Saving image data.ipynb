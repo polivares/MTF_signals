{
 "cells": [
  {
   "cell_type": "code",
   "execution_count": 1,
   "id": "1478d145",
   "metadata": {},
   "outputs": [],
   "source": [
    "import dask.dataframe as dd  \n",
    "import pandas as pd"
   ]
  },
  {
   "cell_type": "code",
   "execution_count": 3,
   "id": "e167c354",
   "metadata": {},
   "outputs": [],
   "source": [
    "orig_path = '/home/polivares/scratch/Datasets/PowerLineFaults/dataset_orig/'\n",
    "ddf = dd.read_parquet(orig_path + \"train.parquet\", engine=\"pyarrow\")\n",
    "df_metadata = pd.read_csv(orig_path + 'metadata_train.csv')"
   ]
  },
  {
   "cell_type": "code",
   "execution_count": 31,
   "id": "2155581f",
   "metadata": {},
   "outputs": [
    {
     "name": "stderr",
     "output_type": "stream",
     "text": [
      "100%|█████████████████████████████████████████████████████████████████████████████████████████████████████████████████| 8712/8712 [41:19<00:00,  3.51it/s]\n"
     ]
    }
   ],
   "source": [
    "import spectrograms, models\n",
    "import warnings\n",
    "warnings.filterwarnings('ignore')\n",
    "\n",
    "fs = 8e5/20e-3\n",
    "\n",
    "images_spectrogram = spectrograms.signals2images(ddf, fs, spectrogram='mfcc')"
   ]
  },
  {
   "cell_type": "code",
   "execution_count": 32,
   "id": "bcb900ca",
   "metadata": {},
   "outputs": [],
   "source": [
    "root_dir = '/home/polivares/scratch/Datasets/PowerLineFaults/'\n",
    "labels = df_metadata[[\"target\"]]\n",
    "spectrograms.saveImages(images_spectrogram, labels, root_dir=root_dir, spectrogram='mfcc')"
   ]
  },
  {
   "cell_type": "code",
   "execution_count": 33,
   "id": "b4b5cb4f",
   "metadata": {},
   "outputs": [],
   "source": [
    "from sklearn.model_selection import train_test_split\n",
    "\n",
    "X_data, X_test, y_data, y_test = train_test_split(images_spectrogram, labels, test_size=0.3, random_state=42, stratify=labels)\n",
    "X_train, X_val, y_train, y_val = train_test_split(X_data, y_data, test_size=0.2, random_state=42, stratify=y_data)\n",
    "\n",
    "\n",
    "spectrograms.saveImages(X_train, y_train, root_dir=root_dir, image_type='train', spectrogram='mfcc')\n",
    "spectrograms.saveImages(X_test, y_test, root_dir=root_dir, image_type='test', spectrogram='mfcc')\n",
    "spectrograms.saveImages(X_val, y_val, root_dir=root_dir, image_type='val', spectrogram='mfcc')"
   ]
  }
 ],
 "metadata": {
  "kernelspec": {
   "display_name": "Python 3 (ipykernel)",
   "language": "python",
   "name": "python3"
  },
  "language_info": {
   "codemirror_mode": {
    "name": "ipython",
    "version": 3
   },
   "file_extension": ".py",
   "mimetype": "text/x-python",
   "name": "python",
   "nbconvert_exporter": "python",
   "pygments_lexer": "ipython3",
   "version": "3.10.4"
  }
 },
 "nbformat": 4,
 "nbformat_minor": 5
}
