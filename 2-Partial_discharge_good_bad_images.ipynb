{
 "cells": [
  {
   "cell_type": "markdown",
   "id": "6459a6b8",
   "metadata": {},
   "source": [
    "# Loading data"
   ]
  },
  {
   "cell_type": "code",
   "execution_count": 1,
   "id": "9f305545",
   "metadata": {},
   "outputs": [],
   "source": [
    "import numpy as np\n",
    "import matplotlib.pyplot as plt\n",
    "import matplotlib.animation as animation \n",
    "from pyts.image import MarkovTransitionField\n",
    "import dask.dataframe as dd  \n",
    "import pandas as pd\n",
    "\n",
    "\n",
    "from scipy import signal as sign\n",
    "from PIL import Image\n",
    "from sklearn.preprocessing import MinMaxScaler\n",
    "\n",
    "from sklearn.metrics import matthews_corrcoef\n",
    "\n",
    "import warnings\n",
    "warnings.filterwarnings('ignore')"
   ]
  },
  {
   "cell_type": "code",
   "execution_count": 11,
   "id": "a867ba97",
   "metadata": {},
   "outputs": [],
   "source": [
    "import os\n",
    "import cv2\n",
    "spectrogram = 'mfcc' # 'spectrogram', 'mel', 'mfcc'\n",
    "\n",
    "# root_dir = \"/home/polivares/scratch/Datasets/PowerLineFaults/\"\n",
    "root_dir = '/home/polivares/Dropbox/Work/PostDoc/PowerLineFaults/'\n",
    "train_folder = f'{root_dir}dataset_{spectrogram}/train/'\n",
    "test_folder = f'{root_dir}dataset_{spectrogram}/test/'\n",
    "val_folder = f'{root_dir}dataset_{spectrogram}/val/'\n",
    "\n",
    "X_train = np.load(f\"{train_folder}images_train.npy\")\n",
    "y_train = np.load(f\"{train_folder}labels_train.npy\")\n",
    "X_test = np.load(f\"{test_folder}images_test.npy\")\n",
    "y_test = np.load(f\"{test_folder}labels_test.npy\")\n",
    "X_val = np.load(f\"{val_folder}images_val.npy\")\n",
    "y_val = np.load(f\"{val_folder}labels_val.npy\")\n",
    "\n",
    "\n",
    "        "
   ]
  },
  {
   "cell_type": "code",
   "execution_count": 12,
   "id": "7c40461b",
   "metadata": {},
   "outputs": [],
   "source": [
    "\n",
    "for image, label, i in zip(X_train, y_train, range(len(y_train))):\n",
    "    image_file = f'image_{i}.jpg'\n",
    "    if label[0] == 1: # 1 means discharge (bad)\n",
    "        image_path = f'{train_folder}bad/'\n",
    "    elif label[0] == 0: # 0 means no discharge (good)\n",
    "        image_path = f'{train_folder}good/'\n",
    "        \n",
    "    if not os.path.exists(image_path):\n",
    "        os.makedirs(image_path)\n",
    "\n",
    "    cv2.imwrite(os.path.join(image_path, image_file), image)"
   ]
  },
  {
   "cell_type": "code",
   "execution_count": 13,
   "id": "7e466c98",
   "metadata": {},
   "outputs": [],
   "source": [
    "\n",
    "for image, label, i in zip(X_test, y_test, range(len(y_test))):\n",
    "    image_file = f'image_{i}.jpg'\n",
    "    if label[0] == 1: # 1 means discharge (bad)\n",
    "        image_path = f'{test_folder}bad/'\n",
    "    elif label[0] == 0: # 0 means no discharge (good)\n",
    "        image_path = f'{test_folder}good/'\n",
    "        \n",
    "    if not os.path.exists(image_path):\n",
    "        os.makedirs(image_path)\n",
    "\n",
    "    cv2.imwrite(os.path.join(image_path, image_file), image)"
   ]
  },
  {
   "cell_type": "code",
   "execution_count": 14,
   "id": "962e304e",
   "metadata": {},
   "outputs": [],
   "source": [
    "for image, label, i in zip(X_val, y_val, range(len(y_val))):\n",
    "    image_file = f'image_{i}.jpg'\n",
    "    if label[0] == 1: # 1 means discharge (bad)\n",
    "        image_path = f'{val_folder}bad/'\n",
    "    elif label[0] == 0: # 0 means no discharge (good)\n",
    "        image_path = f'{val_folder}good/'\n",
    "        \n",
    "    if not os.path.exists(image_path):\n",
    "        os.makedirs(image_path)\n",
    "\n",
    "    cv2.imwrite(os.path.join(image_path, image_file), image)"
   ]
  }
 ],
 "metadata": {
  "kernelspec": {
   "display_name": "Python 3 (ipykernel)",
   "language": "python",
   "name": "python3"
  },
  "language_info": {
   "codemirror_mode": {
    "name": "ipython",
    "version": 3
   },
   "file_extension": ".py",
   "mimetype": "text/x-python",
   "name": "python",
   "nbconvert_exporter": "python",
   "pygments_lexer": "ipython3",
   "version": "3.10.4"
  }
 },
 "nbformat": 4,
 "nbformat_minor": 5
}
