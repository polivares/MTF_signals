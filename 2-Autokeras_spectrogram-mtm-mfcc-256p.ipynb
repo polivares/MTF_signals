{
 "cells": [
  {
   "cell_type": "markdown",
   "id": "a2832fe7-8059-437e-a4fc-46f218f7545b",
   "metadata": {},
   "source": [
    "# Data"
   ]
  },
  {
   "cell_type": "code",
   "execution_count": 1,
   "id": "538dbbd6-10dd-4807-9003-029508131092",
   "metadata": {},
   "outputs": [],
   "source": [
    "import numpy as np\n",
    "import matplotlib.pyplot as plt\n",
    "from sklearn.preprocessing import MinMaxScaler\n",
    "import tensorflow_addons as tfa\n",
    "import tensorflow as tf\n",
    "import autokeras as ak\n",
    "import warnings\n",
    "warnings.filterwarnings('ignore')"
   ]
  },
  {
   "cell_type": "code",
   "execution_count": 2,
   "id": "5fc1fbe2-e8a4-42f8-ab2d-5cbdc0b7e35e",
   "metadata": {},
   "outputs": [],
   "source": [
    "import keras.backend as K\n",
    "\n",
    "def f1_score(y_true, y_pred):\n",
    "    threshold = tf.constant(0.5)\n",
    "    y_pred = tf.cast(tf.greater(y_pred, threshold), tf.float32)\n",
    "    y_true = tf.cast(y_true, dtype=tf.float32)\n",
    "    true_positives = K.sum(K.round(K.clip(y_true * y_pred, 0, 1)))\n",
    "    possible_positives = K.sum(K.round(K.clip(y_true, 0, 1)))\n",
    "    predicted_positives = K.sum(K.round(K.clip(y_pred, 0, 1)))\n",
    "    precision = true_positives / (predicted_positives + K.epsilon())\n",
    "    recall = true_positives / (possible_positives + K.epsilon())\n",
    "    f1_val = 2*(precision*recall)/(precision+recall+K.epsilon())\n",
    "    return f1_val\n",
    "\n",
    "def matthews_correlation(y_true, y_pred):\n",
    "    y_true = tf.cast(y_true, dtype=tf.float32)\n",
    "    #y_pred = tf.cast(y_pred, dtype=tf.float32)\n",
    "    threshold = tf.constant(0.5)\n",
    "    y_pred = tf.cast(tf.greater(y_pred, threshold), tf.float32)\n",
    "    y_pred_pos = K.round(K.clip(y_pred, 0, 1))\n",
    "    y_pred_neg = 1 - y_pred_pos\n",
    "\n",
    "    y_pos = K.round(K.clip(y_true, 0, 1))\n",
    "    y_neg = 1 - y_pos\n",
    "\n",
    "    tp = K.sum(y_pos * y_pred_pos)\n",
    "    tn = K.sum(y_neg * y_pred_neg)\n",
    "\n",
    "    fp = K.sum(y_neg * y_pred_pos)\n",
    "    fn = K.sum(y_pos * y_pred_neg)\n",
    "\n",
    "    numerator = (tp * tn - fp * fn)\n",
    "    denominator = K.sqrt((tp + fp) * (tp + fn) * (tn + fp) * (tn + fn))\n",
    "\n",
    "    return numerator / (denominator + K.epsilon())\n",
    "\n",
    "# def matthews_correlation(y_true, y_pred):\n",
    "#     threshold = 0.5\n",
    "#     predicted = tf.cast(tf.greater(y_pred, threshold), tf.float32)\n",
    "#     true_pos = tf.math.count_nonzero(predicted * y_true)\n",
    "#     true_neg = tf.math.count_nonzero((predicted - 1) * (y_true - 1))\n",
    "#     false_pos = tf.math.count_nonzero(predicted * (y_true - 1))\n",
    "#     false_neg = tf.math.count_nonzero((predicted - 1) * y_true)\n",
    "#     x = tf.cast((true_pos + false_pos) * (true_pos + false_neg) \n",
    "#       * (true_neg + false_pos) * (true_neg + false_neg), tf.float32)\n",
    "#     return tf.cast((true_pos * true_neg) - (false_pos * false_neg), tf.float32) / tf.sqrt(x)\n",
    "\n",
    "def normImages(X):\n",
    "    for i, image in enumerate(X):\n",
    "        X_temp = X[i].reshape(X[i].shape[0:2])\n",
    "        scaler = MinMaxScaler(feature_range=(0.0,1.0))\n",
    "        X[i] = scaler.fit_transform(X_temp).reshape(X_temp.shape+(1,))\n",
    "    return X\n",
    "\n",
    "def train_val_test_split(balanced, normalized):\n",
    "    spectrogram = ['spectrogram', 'mtm', 'mfcc']\n",
    "    \n",
    "    X_train = []\n",
    "    X_test = []\n",
    "    X_val = []\n",
    "\n",
    "    y_flag = 0 # y's has not been obtained yet \n",
    "    # root_dir = \"/home/polivares/scratch/Datasets/PowerLineFaults/\"\n",
    "    # root_dir = '/home/polivares/Dropbox/Work/PostDoc/PowerLineFaults/'\n",
    "    root_dir = '/home/prime/polivares/powerlinefaults/MTF_signals/'\n",
    "    \n",
    "    for sp in spectrogram:\n",
    "        X_full = np.load(f\"{root_dir}dataset_{sp}_256p/full/images_full.npy\")\n",
    "        \n",
    "        if not y_flag:\n",
    "            y_flag = 1\n",
    "            y_full = np.load(f\"{root_dir}dataset_{sp}_256p/full/labels_full.npy\").reshape(-1)\n",
    "            if balanced: # getting balanced data from index\n",
    "                # Index 1, partial discharge\n",
    "                index_1 = np.where(y_full==1)[0]\n",
    "                len_index_1 = len(index_1)\n",
    "#                 index_train_1, index_val_1, index_test_1 = index_1[:len_index_1//3], index_1[len_index_1//3:2*len_index_1//3], index_1[2*len_index_1//3:4*len_index_1//3]\n",
    "                index_train_1, index_val_1, index_test_1 = index_1[:len_index_1//3], index_1[len_index_1//3:2*len_index_1//3], index_1[2*len_index_1//3:4*len_index_1//3]\n",
    "    \n",
    "                # Index 0, non partial discharge\n",
    "                index_0 = np.where(y_full==0)[0]\n",
    "#                 index_train_0, index_val_0, index_test_0 = index_0[:len_index_1//3], index_0[len_index_1//3:2*len_index_1//3], index_0[2*len_index_1//3:4*len_index_1//3]\n",
    "                index_train_0, index_val_0, index_test_0 = index_0[:len_index_1//3], index_0[len_index_1//3:2*len_index_1//3], index_0[2*len_index_1//3:]\n",
    "\n",
    "                # Obtaining index\n",
    "                index_train = np.concatenate([index_train_0, index_train_1])\n",
    "                np.random.shuffle(index_train)\n",
    "                index_val = np.concatenate([index_val_0, index_val_1])\n",
    "                np.random.shuffle(index_val)\n",
    "                index_test = np.concatenate([index_test_0, index_test_1])\n",
    "                np.random.shuffle(index_test)\n",
    "\n",
    "            else: # Unbalanced data, similar to the original from index\n",
    "                index_full = np.arange(len(y_full))\n",
    "                np.random.shuffle(index_full)\n",
    "                len_data = int(len(y_full)*0.70)\n",
    "                len_train = int(0.8*len_data)\n",
    "                len_val = len_data-len_train\n",
    "                len_test = len(y_full)-len_data\n",
    "                                \n",
    "                # Obtaining index\n",
    "#                 index_train, index_val, index_test = index_full[:len_index], index_full[len_index:2*len_index], index_full[2*len_index:3*len_index]\n",
    "            index_train, index_val, index_test = index_full[:len_train], index_full[len_train:len_data], index_full[len_data:]\n",
    "            \n",
    "            y_train = y_full[index_train]\n",
    "            y_val = y_full[index_val]\n",
    "            y_test = y_full[index_test]\n",
    "            \n",
    "            del y_full\n",
    "        \n",
    "        if normalized:\n",
    "            X_full = normImages(X_full)\n",
    "        \n",
    "        X_train.append(X_full[index_train])\n",
    "        X_val.append(X_full[index_val])\n",
    "        X_test.append(X_full[index_test])\n",
    "        \n",
    "        del X_full\n",
    "        \n",
    "    X_train_c = np.concatenate(X_train, axis=3) \n",
    "    X_val_c = np.concatenate(X_val, axis=3)\n",
    "    X_test_c = np.concatenate(X_test, axis=3)\n",
    "    \n",
    "    return X_train_c, y_train, X_val_c, y_val, X_test_c, y_test\n"
   ]
  },
  {
   "cell_type": "code",
   "execution_count": 3,
   "id": "04de7226",
   "metadata": {},
   "outputs": [],
   "source": [
    "X_train, y_train, X_val, y_val, X_test, y_test = train_val_test_split(balanced=0,normalized=1)"
   ]
  },
  {
   "cell_type": "code",
   "execution_count": 4,
   "id": "b1d85d8f",
   "metadata": {},
   "outputs": [
    {
     "name": "stderr",
     "output_type": "stream",
     "text": [
      "2022-11-18 16:14:30.378161: I tensorflow/core/platform/cpu_feature_guard.cc:193] This TensorFlow binary is optimized with oneAPI Deep Neural Network Library (oneDNN) to use the following CPU instructions in performance-critical operations:  AVX2 FMA\n",
      "To enable them in other operations, rebuild TensorFlow with the appropriate compiler flags.\n",
      "2022-11-18 16:14:30.936266: I tensorflow/core/common_runtime/gpu/gpu_device.cc:1532] Created device /job:localhost/replica:0/task:0/device:GPU:0 with 79133 MB memory:  -> device: 0, name: Graphics Device, pci bus id: 0000:47:00.0, compute capability: 8.0\n"
     ]
    },
    {
     "name": "stdout",
     "output_type": "stream",
     "text": [
      "Model: \"model\"\n",
      "_________________________________________________________________\n",
      " Layer (type)                Output Shape              Param #   \n",
      "=================================================================\n",
      " input_1 (InputLayer)        [(None, 256, 256, 3)]     0         \n",
      "                                                                 \n",
      " cast_to_float32 (CastToFloa  (None, 256, 256, 3)      0         \n",
      " t32)                                                            \n",
      "                                                                 \n",
      " normalization (Normalizatio  (None, 256, 256, 3)      7         \n",
      " n)                                                              \n",
      "                                                                 \n",
      " random_translation (RandomT  (None, 256, 256, 3)      0         \n",
      " ranslation)                                                     \n",
      "                                                                 \n",
      " random_flip (RandomFlip)    (None, 256, 256, 3)       0         \n",
      "                                                                 \n",
      " efficientnetb7 (Functional)  (None, None, None, 2560)  64097687 \n",
      "                                                                 \n",
      " global_average_pooling2d (G  (None, 2560)             0         \n",
      " lobalAveragePooling2D)                                          \n",
      "                                                                 \n",
      " dense (Dense)               (None, 1)                 2561      \n",
      "                                                                 \n",
      " classification_head_1 (Acti  (None, 1)                0         \n",
      " vation)                                                         \n",
      "                                                                 \n",
      "=================================================================\n",
      "Total params: 64,100,255\n",
      "Trainable params: 63,789,521\n",
      "Non-trainable params: 310,734\n",
      "_________________________________________________________________\n"
     ]
    }
   ],
   "source": [
    "model = tf.keras.models.load_model('spectrogram_mtm_mfcc_256p/best_model/', \n",
    "                                   custom_objects={'f1_score': f1_score, 'matthews_correlation': matthews_correlation})\n",
    "model.summary()"
   ]
  },
  {
   "cell_type": "code",
   "execution_count": 9,
   "id": "fd8a65ec",
   "metadata": {},
   "outputs": [
    {
     "name": "stdout",
     "output_type": "stream",
     "text": [
      "82/82 [==============================] - 7s 85ms/step - loss: 0.1092 - tp: 120.0000 - fp: 37.0000 - tn: 2422.0000 - fn: 35.0000 - accuracy: 0.9725 - precision: 0.7643 - recall: 0.7742 - auc: 0.9444 - prc: 0.8002 - f1_score: 0.6306 - matthews_correlation: 0.6307\n"
     ]
    },
    {
     "data": {
      "text/plain": [
       "[0.10921118408441544,\n",
       " 120.0,\n",
       " 37.0,\n",
       " 2422.0,\n",
       " 35.0,\n",
       " 0.9724559783935547,\n",
       " 0.7643312215805054,\n",
       " 0.774193525314331,\n",
       " 0.9443730115890503,\n",
       " 0.8002073764801025,\n",
       " 0.6305556893348694,\n",
       " 0.6306922435760498]"
      ]
     },
     "execution_count": 9,
     "metadata": {},
     "output_type": "execute_result"
    }
   ],
   "source": [
    "model.evaluate(X_test, y_test)"
   ]
  },
  {
   "cell_type": "code",
   "execution_count": 5,
   "id": "57dd4ff2",
   "metadata": {},
   "outputs": [
    {
     "name": "stderr",
     "output_type": "stream",
     "text": [
      "2022-11-18 16:16:18.437799: I tensorflow/stream_executor/cuda/cuda_dnn.cc:384] Loaded cuDNN version 8600\n",
      "2022-11-18 16:16:19.016618: W tensorflow/stream_executor/gpu/asm_compiler.cc:111] *** WARNING *** You are using ptxas 11.0.221, which is older than 11.1. ptxas before 11.1 is known to miscompile XLA code, leading to incorrect results or invalid-address errors.\n",
      "\n",
      "You may not need to update to CUDA 11.1; cherry-picking the ptxas binary is often sufficient.\n"
     ]
    },
    {
     "name": "stdout",
     "output_type": "stream",
     "text": [
      "153/153 [==============================] - 18s 78ms/step\n",
      "39/39 [==============================] - 3s 83ms/step\n",
      "82/82 [==============================] - 7s 81ms/step\n"
     ]
    }
   ],
   "source": [
    "y_train_pred = (model.predict(X_train)>0.5).reshape(1,-1)[0].astype(int)\n",
    "y_val_pred = (model.predict(X_val)>0.5).reshape(1,-1)[0].astype(int)\n",
    "y_test_pred = (model.predict(X_test)>0.5).reshape(1,-1)[0].astype(int)"
   ]
  },
  {
   "cell_type": "code",
   "execution_count": 6,
   "id": "b37204ee",
   "metadata": {},
   "outputs": [
    {
     "name": "stdout",
     "output_type": "stream",
     "text": [
      "Training: f1_score - 0.8167538642883301, mcc - 0.8057307600975037\n",
      "Validation: f1_score - 0.8421052694320679, mcc - 0.8316996097564697\n",
      "Testing: f1_score - 0.7692307233810425, mcc - 0.7546029090881348\n"
     ]
    }
   ],
   "source": [
    "print(f\"Training: f1_score - {f1_score(y_train, y_train_pred)}, mcc - {matthews_correlation(y_train, y_train_pred)}\")\n",
    "print(f\"Validation: f1_score - {f1_score(y_val, y_val_pred)}, mcc - {matthews_correlation(y_val, y_val_pred)}\")\n",
    "print(f\"Testing: f1_score - {f1_score(y_test, y_test_pred)}, mcc - {matthews_correlation(y_test, y_test_pred)}\")"
   ]
  }
 ],
 "metadata": {
  "kernelspec": {
   "display_name": "Python 3 (ipykernel)",
   "language": "python",
   "name": "python3"
  },
  "language_info": {
   "codemirror_mode": {
    "name": "ipython",
    "version": 3
   },
   "file_extension": ".py",
   "mimetype": "text/x-python",
   "name": "python",
   "nbconvert_exporter": "python",
   "pygments_lexer": "ipython3",
   "version": "3.10.4"
  }
 },
 "nbformat": 4,
 "nbformat_minor": 5
}
