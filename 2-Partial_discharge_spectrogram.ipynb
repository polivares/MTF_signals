{
 "cells": [
  {
   "cell_type": "markdown",
   "id": "6459a6b8",
   "metadata": {},
   "source": [
    "# Loading data"
   ]
  },
  {
   "cell_type": "code",
   "execution_count": 1,
   "id": "9f305545",
   "metadata": {},
   "outputs": [],
   "source": [
    "import numpy as np\n",
    "import matplotlib.pyplot as plt\n",
    "import matplotlib.animation as animation \n",
    "from pyts.image import MarkovTransitionField\n",
    "import dask.dataframe as dd  \n",
    "import pandas as pd\n",
    "\n",
    "\n",
    "from scipy import signal as sign\n",
    "from PIL import Image\n",
    "from sklearn.preprocessing import MinMaxScaler\n",
    "\n",
    "from sklearn.metrics import matthews_corrcoef\n",
    "\n",
    "import warnings\n",
    "warnings.filterwarnings('ignore')"
   ]
  },
  {
   "cell_type": "code",
   "execution_count": 2,
   "id": "a867ba97",
   "metadata": {},
   "outputs": [
    {
     "name": "stderr",
     "output_type": "stream",
     "text": [
      "2022-10-07 14:08:31.594176: I tensorflow/core/platform/cpu_feature_guard.cc:193] This TensorFlow binary is optimized with oneAPI Deep Neural Network Library (oneDNN) to use the following CPU instructions in performance-critical operations:  AVX2 FMA\n",
      "To enable them in other operations, rebuild TensorFlow with the appropriate compiler flags.\n",
      "2022-10-07 14:08:33.599081: E tensorflow/stream_executor/cuda/cuda_blas.cc:2981] Unable to register cuBLAS factory: Attempting to register factory for plugin cuBLAS when one has already been registered\n",
      "2022-10-07 14:08:36.860302: W tensorflow/stream_executor/platform/default/dso_loader.cc:64] Could not load dynamic library 'libnvinfer.so.7'; dlerror: libnvinfer.so.7: cannot open shared object file: No such file or directory\n",
      "2022-10-07 14:08:36.860597: W tensorflow/stream_executor/platform/default/dso_loader.cc:64] Could not load dynamic library 'libnvinfer_plugin.so.7'; dlerror: libnvinfer_plugin.so.7: cannot open shared object file: No such file or directory\n",
      "2022-10-07 14:08:36.860622: W tensorflow/compiler/tf2tensorrt/utils/py_utils.cc:38] TF-TRT Warning: Cannot dlopen some TensorRT libraries. If you would like to use Nvidia GPU with TensorRT, please make sure the missing libraries mentioned above are installed properly.\n"
     ]
    }
   ],
   "source": [
    "import tensorflow as tf\n",
    "from tensorflow.keras import datasets, layers, models\n",
    "import matplotlib.pyplot as plt\n",
    "\n",
    "root_dir = \"/home/polivares/scratch/Datasets/PowerLineFaults/\"\n",
    "\n",
    "X_train = np.load(root_dir + \"dataset_spectrogram/train/images_train.npy\")\n",
    "y_train = np.load(root_dir + \"dataset_spectrogram/train/labels_train.npy\")\n",
    "X_test = np.load(root_dir + \"dataset_spectrogram/test/images_test.npy\")\n",
    "y_test = np.load(root_dir + \"dataset_spectrogram/test/labels_test.npy\")\n",
    "X_val = np.load(root_dir + \"dataset_spectrogram/val/images_val.npy\")\n",
    "y_val = np.load(root_dir + \"dataset_spectrogram/val/labels_val.npy\")"
   ]
  },
  {
   "cell_type": "markdown",
   "id": "8dba8110",
   "metadata": {},
   "source": [
    "# CNN-model"
   ]
  },
  {
   "cell_type": "code",
   "execution_count": 3,
   "id": "638eaed7",
   "metadata": {},
   "outputs": [
    {
     "name": "stderr",
     "output_type": "stream",
     "text": [
      "2022-10-07 14:08:49.883971: I tensorflow/core/platform/cpu_feature_guard.cc:193] This TensorFlow binary is optimized with oneAPI Deep Neural Network Library (oneDNN) to use the following CPU instructions in performance-critical operations:  AVX2 FMA\n",
      "To enable them in other operations, rebuild TensorFlow with the appropriate compiler flags.\n",
      "2022-10-07 14:08:53.162394: I tensorflow/core/common_runtime/gpu/gpu_device.cc:1616] Created device /job:localhost/replica:0/task:0/device:GPU:0 with 9357 MB memory:  -> device: 0, name: NVIDIA GeForce RTX 2080 Ti, pci bus id: 0000:02:00.0, compute capability: 7.5\n"
     ]
    },
    {
     "name": "stdout",
     "output_type": "stream",
     "text": [
      "Model: \"sequential\"\n",
      "_________________________________________________________________\n",
      " Layer (type)                Output Shape              Param #   \n",
      "=================================================================\n",
      " conv2d (Conv2D)             (None, 254, 254, 256)     2560      \n",
      "                                                                 \n",
      " max_pooling2d (MaxPooling2D  (None, 127, 127, 256)    0         \n",
      " )                                                               \n",
      "                                                                 \n",
      " conv2d_1 (Conv2D)           (None, 125, 125, 128)     295040    \n",
      "                                                                 \n",
      " max_pooling2d_1 (MaxPooling  (None, 62, 62, 128)      0         \n",
      " 2D)                                                             \n",
      "                                                                 \n",
      " conv2d_2 (Conv2D)           (None, 60, 60, 64)        73792     \n",
      "                                                                 \n",
      " flatten (Flatten)           (None, 230400)            0         \n",
      "                                                                 \n",
      " dense (Dense)               (None, 64)                14745664  \n",
      "                                                                 \n",
      " dense_1 (Dense)             (None, 1)                 65        \n",
      "                                                                 \n",
      "=================================================================\n",
      "Total params: 15,117,121\n",
      "Trainable params: 15,117,121\n",
      "Non-trainable params: 0\n",
      "_________________________________________________________________\n"
     ]
    }
   ],
   "source": [
    "# Creación de modelo\n",
    "model = models.Sequential()\n",
    "# Capas encargadas de obtener información de la imagen\n",
    "model.add(layers.Conv2D(256, (3, 3), activation='relu', input_shape=(256,256,1)))\n",
    "model.add(layers.MaxPooling2D((2, 2)))\n",
    "model.add(layers.Conv2D(128, (3, 3), activation='relu'))\n",
    "model.add(layers.MaxPooling2D((2, 2)))\n",
    "model.add(layers.Conv2D(64, (3, 3), activation='relu'))\n",
    "# Capas para la clasificación en base a la información obtenida en \n",
    "# capas anteriores\n",
    "model.add(layers.Flatten())\n",
    "model.add(layers.Dense(64, activation='relu'))\n",
    "model.add(layers.Dense(1, activation = 'sigmoid'))\n",
    "model.summary()"
   ]
  },
  {
   "cell_type": "code",
   "execution_count": 4,
   "id": "ffbd3858",
   "metadata": {},
   "outputs": [
    {
     "name": "stdout",
     "output_type": "stream",
     "text": [
      "Epoch 1/100\n"
     ]
    },
    {
     "name": "stderr",
     "output_type": "stream",
     "text": [
      "2022-10-07 14:09:01.313667: I tensorflow/stream_executor/cuda/cuda_dnn.cc:384] Loaded cuDNN version 8204\n"
     ]
    },
    {
     "name": "stdout",
     "output_type": "stream",
     "text": [
      "488/488 [==============================] - ETA: 0s - loss: 0.5828 - accuracy: 0.9362 - recall: 0.0034\n",
      "Epoch 1: saving model to CNN-model_spectrogram.ckpt\n",
      "488/488 [==============================] - 30s 46ms/step - loss: 0.5828 - accuracy: 0.9362 - recall: 0.0034 - val_loss: 0.1845 - val_accuracy: 0.9402 - val_recall: 0.0000e+00\n",
      "Epoch 2/100\n",
      "487/488 [============================>.] - ETA: 0s - loss: 0.1672 - accuracy: 0.9396 - recall: 0.0000e+00\n",
      "Epoch 2: saving model to CNN-model_spectrogram.ckpt\n",
      "488/488 [==============================] - 22s 45ms/step - loss: 0.1669 - accuracy: 0.9397 - recall: 0.0000e+00 - val_loss: 0.1562 - val_accuracy: 0.9402 - val_recall: 0.0000e+00\n",
      "Epoch 3/100\n",
      "487/488 [============================>.] - ETA: 0s - loss: 0.1310 - accuracy: 0.9398 - recall: 0.0000e+00\n",
      "Epoch 3: saving model to CNN-model_spectrogram.ckpt\n",
      "488/488 [==============================] - 22s 44ms/step - loss: 0.1312 - accuracy: 0.9397 - recall: 0.0000e+00 - val_loss: 0.1541 - val_accuracy: 0.9402 - val_recall: 0.0000e+00\n",
      "Epoch 4/100\n",
      "487/488 [============================>.] - ETA: 0s - loss: 0.1157 - accuracy: 0.9398 - recall: 0.0068\n",
      "Epoch 4: saving model to CNN-model_spectrogram.ckpt\n",
      "488/488 [==============================] - 22s 44ms/step - loss: 0.1155 - accuracy: 0.9399 - recall: 0.0068 - val_loss: 0.1555 - val_accuracy: 0.9402 - val_recall: 0.0000e+00\n",
      "Epoch 5/100\n",
      "487/488 [============================>.] - ETA: 0s - loss: 0.1067 - accuracy: 0.9493 - recall: 0.2935\n",
      "Epoch 5: saving model to CNN-model_spectrogram.ckpt\n",
      "488/488 [==============================] - 22s 44ms/step - loss: 0.1068 - accuracy: 0.9494 - recall: 0.2959 - val_loss: 0.1602 - val_accuracy: 0.9320 - val_recall: 0.6027\n",
      "Epoch 6/100\n",
      "487/488 [============================>.] - ETA: 0s - loss: 0.0960 - accuracy: 0.9651 - recall: 0.6497\n",
      "Epoch 6: saving model to CNN-model_spectrogram.ckpt\n",
      "488/488 [==============================] - 22s 44ms/step - loss: 0.0959 - accuracy: 0.9651 - recall: 0.6497 - val_loss: 0.1493 - val_accuracy: 0.9566 - val_recall: 0.4247\n",
      "Epoch 7/100\n",
      "487/488 [============================>.] - ETA: 0s - loss: 0.0977 - accuracy: 0.9692 - recall: 0.7782\n",
      "Epoch 7: saving model to CNN-model_spectrogram.ckpt\n",
      "488/488 [==============================] - 22s 44ms/step - loss: 0.0979 - accuracy: 0.9690 - recall: 0.7789 - val_loss: 0.1538 - val_accuracy: 0.9361 - val_recall: 0.6301\n",
      "Epoch 8/100\n",
      "487/488 [============================>.] - ETA: 0s - loss: 0.1094 - accuracy: 0.9604 - recall: 0.7925\n",
      "Epoch 8: saving model to CNN-model_spectrogram.ckpt\n",
      "488/488 [==============================] - 22s 45ms/step - loss: 0.1093 - accuracy: 0.9604 - recall: 0.7925 - val_loss: 0.2102 - val_accuracy: 0.9541 - val_recall: 0.4110\n",
      "Epoch 9/100\n",
      "487/488 [============================>.] - ETA: 0s - loss: 0.0733 - accuracy: 0.9725 - recall: 0.8294\n",
      "Epoch 9: saving model to CNN-model_spectrogram.ckpt\n",
      "488/488 [==============================] - 22s 44ms/step - loss: 0.0733 - accuracy: 0.9725 - recall: 0.8299 - val_loss: 0.1881 - val_accuracy: 0.9566 - val_recall: 0.6027\n",
      "Epoch 10/100\n",
      "487/488 [============================>.] - ETA: 0s - loss: 0.0644 - accuracy: 0.9786 - recall: 0.8912\n",
      "Epoch 10: saving model to CNN-model_spectrogram.ckpt\n",
      "488/488 [==============================] - 22s 44ms/step - loss: 0.0643 - accuracy: 0.9787 - recall: 0.8912 - val_loss: 0.3105 - val_accuracy: 0.9475 - val_recall: 0.3151\n",
      "Epoch 11/100\n",
      "487/488 [============================>.] - ETA: 0s - loss: 0.0634 - accuracy: 0.9772 - recall: 0.8946\n",
      "Epoch 11: saving model to CNN-model_spectrogram.ckpt\n",
      "488/488 [==============================] - 22s 44ms/step - loss: 0.0633 - accuracy: 0.9772 - recall: 0.8946 - val_loss: 0.2211 - val_accuracy: 0.9557 - val_recall: 0.4932\n",
      "Epoch 12/100\n",
      "487/488 [============================>.] - ETA: 0s - loss: 0.0444 - accuracy: 0.9864 - recall: 0.9490\n",
      "Epoch 12: saving model to CNN-model_spectrogram.ckpt\n",
      "488/488 [==============================] - 21s 44ms/step - loss: 0.0445 - accuracy: 0.9863 - recall: 0.9490 - val_loss: 0.1797 - val_accuracy: 0.9377 - val_recall: 0.6712\n",
      "Epoch 13/100\n",
      "487/488 [============================>.] - ETA: 0s - loss: 0.0511 - accuracy: 0.9830 - recall: 0.9014\n",
      "Epoch 13: saving model to CNN-model_spectrogram.ckpt\n",
      "488/488 [==============================] - 21s 44ms/step - loss: 0.0510 - accuracy: 0.9830 - recall: 0.9014 - val_loss: 0.2525 - val_accuracy: 0.9557 - val_recall: 0.4795\n"
     ]
    }
   ],
   "source": [
    "from tensorflow.keras.callbacks import EarlyStopping\n",
    "\n",
    "early_stopping = EarlyStopping(patience = 7)\n",
    "\n",
    "checkpoint_path='CNN-model_spectrogram.ckpt'\n",
    "# Create a callback that saves the model's weights\n",
    "cp_callback = tf.keras.callbacks.ModelCheckpoint(filepath=checkpoint_path,\n",
    "                                                 save_weights_only=True,\n",
    "                                                 verbose=1)\n",
    "\n",
    "model.compile(loss = 'bce', optimizer = 'adam', metrics=['accuracy', tf.keras.metrics.Recall()])\n",
    "history_cnn = model.fit(X_train, y_train, epochs=100, \n",
    "                        validation_data=(X_val, y_val),\n",
    "                        batch_size=10,\n",
    "                        callbacks=[early_stopping, cp_callback])"
   ]
  },
  {
   "cell_type": "code",
   "execution_count": 5,
   "id": "bd7655b5",
   "metadata": {},
   "outputs": [
    {
     "data": {
      "image/png": "[encoded data removed]",
      "text/plain": [
       "<Figure size 432x288 with 1 Axes>"
      ]
     },
     "metadata": {
      "needs_background": "light"
     },
     "output_type": "display_data"
    }
   ],
   "source": [
    "plt.plot(history_cnn.history['accuracy'], label='accuracy')\n",
    "plt.plot(history_cnn.history['val_accuracy'], label = 'val_accuracy')\n",
    "plt.xlabel('Epoch')\n",
    "plt.ylabel('Accuracy')\n",
    "plt.ylim([0.5, 1])\n",
    "plt.legend(loc='lower right')\n",
    "plt.show()"
   ]
  },
  {
   "cell_type": "code",
   "execution_count": 6,
   "id": "19009ccc",
   "metadata": {},
   "outputs": [
    {
     "data": {
      "image/png": "[encoded data removed]",
      "text/plain": [
       "<Figure size 432x288 with 1 Axes>"
      ]
     },
     "metadata": {
      "needs_background": "light"
     },
     "output_type": "display_data"
    }
   ],
   "source": [
    "plt.plot(history_cnn.history['loss'], label='loss')\n",
    "plt.plot(history_cnn.history['val_loss'], label = 'val_loss')\n",
    "plt.xlabel('Epoch')\n",
    "plt.ylabel('Loss')\n",
    "plt.legend(loc='lower right')\n",
    "plt.show()"
   ]
  },
  {
   "cell_type": "code",
   "execution_count": 7,
   "id": "5b2e043c",
   "metadata": {},
   "outputs": [
    {
     "name": "stdout",
     "output_type": "stream",
     "text": [
      "305/305 - 3s - loss: 0.2525 - accuracy: 0.9557 - recall: 0.4795 - 3s/epoch - 9ms/step\n"
     ]
    }
   ],
   "source": [
    "val_loss, val_acc, val_recall = model.evaluate(X_val,  y_val, verbose=2, batch_size=4)"
   ]
  },
  {
   "cell_type": "code",
   "execution_count": 8,
   "id": "b995ef1b",
   "metadata": {},
   "outputs": [
    {
     "name": "stdout",
     "output_type": "stream",
     "text": [
      "305/305 [==============================] - 2s 5ms/step\n"
     ]
    }
   ],
   "source": [
    "val_predictions = (model.predict(X_val, batch_size=4)>0.5).reshape(1,-1)[0].astype(int)\n",
    "val_real_values = y_val.T[0]"
   ]
  },
  {
   "cell_type": "code",
   "execution_count": 9,
   "id": "e139f0da",
   "metadata": {},
   "outputs": [
    {
     "data": {
      "text/plain": [
       "0.5516618181761928"
      ]
     },
     "execution_count": 9,
     "metadata": {},
     "output_type": "execute_result"
    }
   ],
   "source": [
    "matthews_corrcoef(val_real_values, val_predictions)"
   ]
  },
  {
   "cell_type": "code",
   "execution_count": 10,
   "id": "c7981d37",
   "metadata": {},
   "outputs": [
    {
     "name": "stdout",
     "output_type": "stream",
     "text": [
      "654/654 - 5s - loss: 0.2721 - accuracy: 0.9461 - recall: 0.4684 - 5s/epoch - 7ms/step\n"
     ]
    }
   ],
   "source": [
    "test_loss, test_acc, test_recall = model.evaluate(X_test,  y_test, verbose=2, batch_size=4)"
   ]
  },
  {
   "cell_type": "code",
   "execution_count": 11,
   "id": "acdb52d5",
   "metadata": {},
   "outputs": [
    {
     "name": "stdout",
     "output_type": "stream",
     "text": [
      "654/654 [==============================] - 4s 5ms/step\n"
     ]
    }
   ],
   "source": [
    "test_predictions = (model.predict(X_test, batch_size=4)>0.5).reshape(1,-1)[0].astype(int)\n",
    "test_real_values = y_test.T[0]"
   ]
  },
  {
   "cell_type": "code",
   "execution_count": 12,
   "id": "4963ab1e",
   "metadata": {},
   "outputs": [
    {
     "data": {
      "text/plain": [
       "0.48620694117273044"
      ]
     },
     "execution_count": 12,
     "metadata": {},
     "output_type": "execute_result"
    }
   ],
   "source": [
    "matthews_corrcoef(test_real_values, test_predictions)"
   ]
  },
  {
   "cell_type": "markdown",
   "id": "9510cd1e",
   "metadata": {},
   "source": [
    "# Resnet-model"
   ]
  },
  {
   "cell_type": "code",
   "execution_count": 13,
   "id": "c45a6cd8",
   "metadata": {},
   "outputs": [],
   "source": [
    "# Transfer Learning\n",
    "base_model = tf.keras.applications.ResNet50(include_top=False, weights='imagenet', input_shape=(256, 256, 3))\n",
    "avg = tf.keras.layers.GlobalAveragePooling2D()(base_model.output)\n",
    "output = tf.keras.layers.Dense(1, activation=\"sigmoid\")(avg)\n",
    "\n",
    "model = tf.keras.Model(inputs=base_model.input, outputs=output)\n",
    "\n",
    "for layer in base_model.layers:\n",
    "    layer.trainable = False # Esto impide que las capas se re entrenen"
   ]
  },
  {
   "cell_type": "code",
   "execution_count": 14,
   "id": "7a111b8c",
   "metadata": {},
   "outputs": [],
   "source": [
    "X_train_rgb = np.repeat(X_train, 3, -1)\n",
    "X_val_rgb = np.repeat(X_val, 3, -1)"
   ]
  },
  {
   "cell_type": "code",
   "execution_count": 15,
   "id": "6d25ee12",
   "metadata": {},
   "outputs": [
    {
     "name": "stderr",
     "output_type": "stream",
     "text": [
      "2022-10-07 15:38:53.173262: W tensorflow/core/framework/cpu_allocator_impl.cc:82] Allocation of 3836215296 exceeds 10% of free system memory.\n",
      "2022-10-07 15:38:56.473773: W tensorflow/core/framework/cpu_allocator_impl.cc:82] Allocation of 3836215296 exceeds 10% of free system memory.\n"
     ]
    },
    {
     "name": "stdout",
     "output_type": "stream",
     "text": [
      "Epoch 1/100\n",
      "488/488 [==============================] - ETA: 0s - loss: 0.1643 - accuracy: 0.9420 - recall_1: 0.1973\n",
      "Epoch 1: saving model to Resnet50-model_spectrogram.ckpt\n",
      "488/488 [==============================] - 24s 42ms/step - loss: 0.1643 - accuracy: 0.9420 - recall_1: 0.1973 - val_loss: 0.1348 - val_accuracy: 0.9484 - val_recall_1: 0.4932\n",
      "Epoch 2/100\n",
      "488/488 [==============================] - ETA: 0s - loss: 0.1287 - accuracy: 0.9512 - recall_1: 0.3537\n",
      "Epoch 2: saving model to Resnet50-model_spectrogram.ckpt\n",
      "488/488 [==============================] - 18s 37ms/step - loss: 0.1287 - accuracy: 0.9512 - recall_1: 0.3537 - val_loss: 0.1487 - val_accuracy: 0.9500 - val_recall_1: 0.1918\n",
      "Epoch 3/100\n",
      "488/488 [==============================] - ETA: 0s - loss: 0.1135 - accuracy: 0.9567 - recall_1: 0.4490\n",
      "Epoch 3: saving model to Resnet50-model_spectrogram.ckpt\n",
      "488/488 [==============================] - 18s 37ms/step - loss: 0.1135 - accuracy: 0.9567 - recall_1: 0.4490 - val_loss: 0.1513 - val_accuracy: 0.9500 - val_recall_1: 0.1918\n",
      "Epoch 4/100\n",
      "488/488 [==============================] - ETA: 0s - loss: 0.1081 - accuracy: 0.9582 - recall_1: 0.4864\n",
      "Epoch 4: saving model to Resnet50-model_spectrogram.ckpt\n",
      "488/488 [==============================] - 19s 39ms/step - loss: 0.1081 - accuracy: 0.9582 - recall_1: 0.4864 - val_loss: 0.1288 - val_accuracy: 0.9582 - val_recall_1: 0.5616\n",
      "Epoch 5/100\n",
      "487/488 [============================>.] - ETA: 0s - loss: 0.1027 - accuracy: 0.9628 - recall_1: 0.5340\n",
      "Epoch 5: saving model to Resnet50-model_spectrogram.ckpt\n",
      "488/488 [==============================] - 18s 37ms/step - loss: 0.1026 - accuracy: 0.9629 - recall_1: 0.5340 - val_loss: 0.1281 - val_accuracy: 0.9549 - val_recall_1: 0.3425\n",
      "Epoch 6/100\n",
      "487/488 [============================>.] - ETA: 0s - loss: 0.0970 - accuracy: 0.9637 - recall_1: 0.5408\n",
      "Epoch 6: saving model to Resnet50-model_spectrogram.ckpt\n",
      "488/488 [==============================] - 19s 38ms/step - loss: 0.0968 - accuracy: 0.9637 - recall_1: 0.5408 - val_loss: 0.1326 - val_accuracy: 0.9508 - val_recall_1: 0.3014\n",
      "Epoch 7/100\n",
      "487/488 [============================>.] - ETA: 0s - loss: 0.0937 - accuracy: 0.9643 - recall_1: 0.5646\n",
      "Epoch 7: saving model to Resnet50-model_spectrogram.ckpt\n",
      "488/488 [==============================] - 19s 38ms/step - loss: 0.0937 - accuracy: 0.9643 - recall_1: 0.5646 - val_loss: 0.1224 - val_accuracy: 0.9623 - val_recall_1: 0.5205\n",
      "Epoch 8/100\n",
      "487/488 [============================>.] - ETA: 0s - loss: 0.0853 - accuracy: 0.9674 - recall_1: 0.5986\n",
      "Epoch 8: saving model to Resnet50-model_spectrogram.ckpt\n",
      "488/488 [==============================] - 19s 38ms/step - loss: 0.0851 - accuracy: 0.9674 - recall_1: 0.5986 - val_loss: 0.1219 - val_accuracy: 0.9582 - val_recall_1: 0.4384\n",
      "Epoch 9/100\n",
      "487/488 [============================>.] - ETA: 0s - loss: 0.0846 - accuracy: 0.9671 - recall_1: 0.5700\n",
      "Epoch 9: saving model to Resnet50-model_spectrogram.ckpt\n",
      "488/488 [==============================] - 18s 36ms/step - loss: 0.0845 - accuracy: 0.9672 - recall_1: 0.5714 - val_loss: 0.1305 - val_accuracy: 0.9557 - val_recall_1: 0.6027\n",
      "Epoch 10/100\n",
      "487/488 [============================>.] - ETA: 0s - loss: 0.0804 - accuracy: 0.9704 - recall_1: 0.6246\n",
      "Epoch 10: saving model to Resnet50-model_spectrogram.ckpt\n",
      "488/488 [==============================] - 18s 38ms/step - loss: 0.0804 - accuracy: 0.9705 - recall_1: 0.6259 - val_loss: 0.1245 - val_accuracy: 0.9566 - val_recall_1: 0.3836\n",
      "Epoch 11/100\n",
      "487/488 [============================>.] - ETA: 0s - loss: 0.0799 - accuracy: 0.9696 - recall_1: 0.6293\n",
      "Epoch 11: saving model to Resnet50-model_spectrogram.ckpt\n",
      "488/488 [==============================] - 19s 39ms/step - loss: 0.0798 - accuracy: 0.9697 - recall_1: 0.6293 - val_loss: 0.1260 - val_accuracy: 0.9598 - val_recall_1: 0.5753\n",
      "Epoch 12/100\n",
      "488/488 [==============================] - ETA: 0s - loss: 0.0774 - accuracy: 0.9701 - recall_1: 0.6361\n",
      "Epoch 12: saving model to Resnet50-model_spectrogram.ckpt\n",
      "488/488 [==============================] - 19s 38ms/step - loss: 0.0774 - accuracy: 0.9701 - recall_1: 0.6361 - val_loss: 0.1433 - val_accuracy: 0.9475 - val_recall_1: 0.6849\n",
      "Epoch 13/100\n",
      "488/488 [==============================] - ETA: 0s - loss: 0.0718 - accuracy: 0.9729 - recall_1: 0.6599\n",
      "Epoch 13: saving model to Resnet50-model_spectrogram.ckpt\n",
      "488/488 [==============================] - 18s 37ms/step - loss: 0.0718 - accuracy: 0.9729 - recall_1: 0.6599 - val_loss: 0.1491 - val_accuracy: 0.9492 - val_recall_1: 0.2192\n",
      "Epoch 14/100\n",
      "488/488 [==============================] - ETA: 0s - loss: 0.0707 - accuracy: 0.9723 - recall_1: 0.6565\n",
      "Epoch 14: saving model to Resnet50-model_spectrogram.ckpt\n",
      "488/488 [==============================] - 18s 37ms/step - loss: 0.0707 - accuracy: 0.9723 - recall_1: 0.6565 - val_loss: 0.1246 - val_accuracy: 0.9598 - val_recall_1: 0.5068\n",
      "Epoch 15/100\n",
      "487/488 [============================>.] - ETA: 0s - loss: 0.0689 - accuracy: 0.9735 - recall_1: 0.6667\n",
      "Epoch 15: saving model to Resnet50-model_spectrogram.ckpt\n",
      "488/488 [==============================] - 18s 37ms/step - loss: 0.0689 - accuracy: 0.9736 - recall_1: 0.6667 - val_loss: 0.1225 - val_accuracy: 0.9623 - val_recall_1: 0.5205\n"
     ]
    }
   ],
   "source": [
    "from tensorflow.keras.callbacks import EarlyStopping\n",
    "\n",
    "early_stopping = EarlyStopping(patience = 7)\n",
    "\n",
    "checkpoint_path='Resnet50-model_spectrogram.ckpt'\n",
    "# Create a callback that saves the model's weights\n",
    "cp_callback = tf.keras.callbacks.ModelCheckpoint(filepath=checkpoint_path,\n",
    "                                                 save_weights_only=True,\n",
    "                                                 verbose=1)\n",
    "\n",
    "model.compile(loss = 'bce', optimizer = 'adam', metrics=['accuracy', tf.keras.metrics.Recall()])\n",
    "history_resnet = model.fit(X_train_rgb, y_train, epochs=100, \n",
    "                        validation_data=(X_val_rgb, y_val),\n",
    "                        batch_size=10,\n",
    "                        callbacks=[early_stopping, cp_callback])"
   ]
  },
  {
   "cell_type": "code",
   "execution_count": 16,
   "id": "0d2af5bf",
   "metadata": {},
   "outputs": [
    {
     "data": {
      "image/png": "[encoded data removed]",
      "text/plain": [
       "<Figure size 432x288 with 1 Axes>"
      ]
     },
     "metadata": {
      "needs_background": "light"
     },
     "output_type": "display_data"
    }
   ],
   "source": [
    "plt.plot(history_resnet.history['accuracy'], label='accuracy')\n",
    "plt.plot(history_resnet.history['val_accuracy'], label = 'val_accuracy')\n",
    "plt.xlabel('Epoch')\n",
    "plt.ylabel('Accuracy')\n",
    "plt.ylim([0.5, 1])\n",
    "plt.legend(loc='lower right')\n",
    "plt.show()"
   ]
  },
  {
   "cell_type": "code",
   "execution_count": 17,
   "id": "8a1551d0",
   "metadata": {},
   "outputs": [
    {
     "data": {
      "image/png": "[encoded data removed]",
      "text/plain": [
       "<Figure size 432x288 with 1 Axes>"
      ]
     },
     "metadata": {
      "needs_background": "light"
     },
     "output_type": "display_data"
    }
   ],
   "source": [
    "plt.plot(history_resnet.history['loss'], label='loss')\n",
    "plt.plot(history_resnet.history['val_loss'], label = 'val_loss')\n",
    "plt.xlabel('Epoch')\n",
    "plt.ylabel('Loss')\n",
    "plt.legend(loc='lower right')\n",
    "plt.show()"
   ]
  },
  {
   "cell_type": "code",
   "execution_count": 18,
   "id": "3b639ac1",
   "metadata": {},
   "outputs": [
    {
     "name": "stdout",
     "output_type": "stream",
     "text": [
      "305/305 - 8s - loss: 0.1225 - accuracy: 0.9623 - recall_1: 0.5205 - 8s/epoch - 27ms/step\n"
     ]
    }
   ],
   "source": [
    "val_loss, val_acc, val_recall = model.evaluate(X_val_rgb,  y_val, verbose=2, batch_size=4)"
   ]
  },
  {
   "cell_type": "code",
   "execution_count": 19,
   "id": "1dc0f8b7",
   "metadata": {},
   "outputs": [
    {
     "name": "stdout",
     "output_type": "stream",
     "text": [
      "305/305 [==============================] - 8s 23ms/step\n"
     ]
    }
   ],
   "source": [
    "val_predictions = (model.predict(X_val_rgb, batch_size=4)>0.5).reshape(1,-1)[0].astype(int)\n",
    "val_real_values = y_val.T[0]"
   ]
  },
  {
   "cell_type": "code",
   "execution_count": 20,
   "id": "4fa5b8a6",
   "metadata": {},
   "outputs": [
    {
     "data": {
      "text/plain": [
       "0.6172365114872443"
      ]
     },
     "execution_count": 20,
     "metadata": {},
     "output_type": "execute_result"
    }
   ],
   "source": [
    "matthews_corrcoef(val_real_values, val_predictions)"
   ]
  },
  {
   "cell_type": "code",
   "execution_count": 22,
   "id": "241cffb9",
   "metadata": {},
   "outputs": [
    {
     "name": "stdout",
     "output_type": "stream",
     "text": [
      "654/654 - 15s - loss: 0.1308 - accuracy: 0.9468 - recall_1: 0.4304 - 15s/epoch - 24ms/step\n"
     ]
    }
   ],
   "source": [
    "X_test_rgb = np.repeat(X_test, 3, -1)\n",
    "test_loss, test_acc, test_recall = model.evaluate(X_test_rgb,  y_test, verbose=2, batch_size=4)"
   ]
  },
  {
   "cell_type": "code",
   "execution_count": 23,
   "id": "15dc188b",
   "metadata": {},
   "outputs": [
    {
     "name": "stdout",
     "output_type": "stream",
     "text": [
      "654/654 [==============================] - 16s 23ms/step\n"
     ]
    }
   ],
   "source": [
    "test_predictions = (model.predict(X_test_rgb, batch_size=4)>0.5).reshape(1,-1)[0].astype(int)\n",
    "test_real_values = y_test.T[0]"
   ]
  },
  {
   "cell_type": "code",
   "execution_count": 24,
   "id": "920a001b",
   "metadata": {},
   "outputs": [
    {
     "data": {
      "text/plain": [
       "0.4730185212213657"
      ]
     },
     "execution_count": 24,
     "metadata": {},
     "output_type": "execute_result"
    }
   ],
   "source": [
    "matthews_corrcoef(test_real_values, test_predictions)"
   ]
  }
 ],
 "metadata": {
  "kernelspec": {
   "display_name": "Python 3 (ipykernel)",
   "language": "python",
   "name": "python3"
  },
  "language_info": {
   "codemirror_mode": {
    "name": "ipython",
    "version": 3
   },
   "file_extension": ".py",
   "mimetype": "text/x-python",
   "name": "python",
   "nbconvert_exporter": "python",
   "pygments_lexer": "ipython3",
   "version": "3.10.4"
  }
 },
 "nbformat": 4,
 "nbformat_minor": 5
}
